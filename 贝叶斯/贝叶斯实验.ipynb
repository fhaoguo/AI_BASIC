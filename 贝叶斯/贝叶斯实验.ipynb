{
 "cells": [
  {
   "cell_type": "markdown",
   "id": "be004afb",
   "metadata": {},
   "source": [
    "# 贝叶斯原理实验"
   ]
  },
  {
   "cell_type": "code",
   "execution_count": 1,
   "id": "5a49e25d",
   "metadata": {},
   "outputs": [],
   "source": [
    "from collections import defaultdict\n",
    "from icecream import ic"
   ]
  },
  {
   "cell_type": "code",
   "execution_count": 29,
   "id": "0373c419",
   "metadata": {},
   "outputs": [],
   "source": [
    "texts = [\n",
    "    ('今天天天天有天天最大的优惠！', 1),\n",
    "    ('今天最大的优惠！', 1),\n",
    "    ('今天没有加班的话，赶快回家！', 0),\n",
    "    ('今天不要等到明天！', 1),\n",
    "]"
   ]
  },
  {
   "cell_type": "code",
   "execution_count": 36,
   "id": "bad2288a",
   "metadata": {},
   "outputs": [],
   "source": [
    "def train(text, ys):\n",
    "    counts = defaultdict(int)\n",
    "    yi_num = defaultdict(int)\n",
    "    for line, yi in zip(text, ys):\n",
    "        yi_num[yi] += 1\n",
    "        for c in set(line):\n",
    "            counts[(c, yi)] += 1\n",
    "        \n",
    "    probs = defaultdict(lambda : 1 / len(set(''.join(text))))\n",
    "    \n",
    "    for c_y, t in counts.items():\n",
    "        c, y = c_y\n",
    "        probs[(c, y)] = counts[c_y] / yi_num[y]\n",
    "        \n",
    "        # print(f\"counts[{c_y}]={counts[c_y]},yi_num[{y}]={yi_num[y]}\")\n",
    "        \n",
    "    return probs, {i: (yi_num[i] / len(ys)) for i in yi_num}"
   ]
  },
  {
   "cell_type": "code",
   "execution_count": 53,
   "id": "f38da46c",
   "metadata": {},
   "outputs": [],
   "source": [
    "def predict(query, evidence, hypothesis):\n",
    "    pred = {}\n",
    "    for yi in hypothesis:\n",
    "        prod = 1\n",
    "        for c in set(query):\n",
    "            # print(f\"1-evidentce[({c}, {yi})]={evidence[(c, yi)]}\")\n",
    "            prod *= evidence[(c, yi)]\n",
    "            # print(f\"2-evidentce[({c}, {yi})]={evidence[(c, yi)]}\")\n",
    "            \n",
    "        pred[yi] = prod * hypothesis[yi]\n",
    "    \n",
    "    return pred"
   ]
  },
  {
   "cell_type": "code",
   "execution_count": 54,
   "id": "f1e59b94",
   "metadata": {},
   "outputs": [
    {
     "name": "stderr",
     "output_type": "stream",
     "text": [
      "ic| predict('哈哈哈哈他是个好人。。', evidence, hypothesis): {0: 7.342520310997896e-11, 1: 2.202756093299369e-10}\n"
     ]
    },
    {
     "name": "stdout",
     "output_type": "stream",
     "text": [
      "1-evidentce[(人, 1)]=0.043478260869565216\n",
      "2-evidentce[(人, 1)]=0.043478260869565216\n",
      "1-evidentce[(是, 1)]=0.043478260869565216\n",
      "2-evidentce[(是, 1)]=0.043478260869565216\n",
      "1-evidentce[(个, 1)]=0.043478260869565216\n",
      "2-evidentce[(个, 1)]=0.043478260869565216\n",
      "1-evidentce[(。, 1)]=0.043478260869565216\n",
      "2-evidentce[(。, 1)]=0.043478260869565216\n",
      "1-evidentce[(好, 1)]=0.043478260869565216\n",
      "2-evidentce[(好, 1)]=0.043478260869565216\n",
      "1-evidentce[(哈, 1)]=0.043478260869565216\n",
      "2-evidentce[(哈, 1)]=0.043478260869565216\n",
      "1-evidentce[(他, 1)]=0.043478260869565216\n",
      "2-evidentce[(他, 1)]=0.043478260869565216\n",
      "1-evidentce[(人, 0)]=0.043478260869565216\n",
      "2-evidentce[(人, 0)]=0.043478260869565216\n",
      "1-evidentce[(是, 0)]=0.043478260869565216\n",
      "2-evidentce[(是, 0)]=0.043478260869565216\n",
      "1-evidentce[(个, 0)]=0.043478260869565216\n",
      "2-evidentce[(个, 0)]=0.043478260869565216\n",
      "1-evidentce[(。, 0)]=0.043478260869565216\n",
      "2-evidentce[(。, 0)]=0.043478260869565216\n",
      "1-evidentce[(好, 0)]=0.043478260869565216\n",
      "2-evidentce[(好, 0)]=0.043478260869565216\n",
      "1-evidentce[(哈, 0)]=0.043478260869565216\n",
      "2-evidentce[(哈, 0)]=0.043478260869565216\n",
      "1-evidentce[(他, 0)]=0.043478260869565216\n",
      "2-evidentce[(他, 0)]=0.043478260869565216\n"
     ]
    },
    {
     "data": {
      "text/plain": [
       "{1: 2.202756093299369e-10, 0: 7.342520310997896e-11}"
      ]
     },
     "execution_count": 54,
     "metadata": {},
     "output_type": "execute_result"
    }
   ],
   "source": [
    "evidence, hypothesis = train([t for t, y in texts], [y for t, y in texts])\n",
    "#ic(evidence)\n",
    "# ic(hypothesis)\n",
    "#ic(predict('明天没有优惠！', evidence, hypothesis))\n",
    "ic(predict('哈哈哈哈他是个好人。。', evidence, hypothesis))\n",
    "#ic(evidence)"
   ]
  },
  {
   "cell_type": "code",
   "execution_count": 50,
   "id": "628f394a",
   "metadata": {},
   "outputs": [
    {
     "data": {
      "text/plain": [
       "23.0"
      ]
     },
     "execution_count": 50,
     "metadata": {},
     "output_type": "execute_result"
    }
   ],
   "source": [
    "1/0.043478260869565216"
   ]
  },
  {
   "cell_type": "code",
   "execution_count": null,
   "id": "7ebeb384",
   "metadata": {},
   "outputs": [],
   "source": []
  }
 ],
 "metadata": {
  "kernelspec": {
   "display_name": "Python 3 (ipykernel)",
   "language": "python",
   "name": "python3"
  },
  "language_info": {
   "codemirror_mode": {
    "name": "ipython",
    "version": 3
   },
   "file_extension": ".py",
   "mimetype": "text/x-python",
   "name": "python",
   "nbconvert_exporter": "python",
   "pygments_lexer": "ipython3",
   "version": "3.9.7"
  }
 },
 "nbformat": 4,
 "nbformat_minor": 5
}
