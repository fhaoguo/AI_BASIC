{
 "cells": [
  {
   "cell_type": "markdown",
   "id": "21d269d8",
   "metadata": {},
   "source": [
    "# 卷积原理实验"
   ]
  },
  {
   "cell_type": "code",
   "execution_count": 2,
   "id": "43af59ae",
   "metadata": {},
   "outputs": [],
   "source": [
    "import torch\n",
    "import torch.nn as nn\n",
    "import numpy as np"
   ]
  },
  {
   "cell_type": "markdown",
   "id": "a15fc3ac",
   "metadata": {},
   "source": [
    "## 1 原始图像"
   ]
  },
  {
   "cell_type": "code",
   "execution_count": 3,
   "id": "f5f3e25c",
   "metadata": {},
   "outputs": [],
   "source": [
    "# 原始图像\n",
    "image = np.array([[1,1,1,0,0],\n",
    "         [0,1,1,1,0],\n",
    "         [0,0,1,1,1],\n",
    "         [0,0,1,1,0],\n",
    "         [0,1,1,0,0]])"
   ]
  },
  {
   "cell_type": "markdown",
   "id": "8bbf08a3",
   "metadata": {},
   "source": [
    "## 2 滤波器(卷积核)"
   ]
  },
  {
   "cell_type": "code",
   "execution_count": 4,
   "id": "8a47e17b",
   "metadata": {},
   "outputs": [],
   "source": [
    "# 滤波器的权重，即卷积核\n",
    "filter_1 = np.array([[1, 0, 1],\n",
    "                    [0, 1, 0], \n",
    "                    [1, 0, 1]])"
   ]
  },
  {
   "cell_type": "code",
   "execution_count": 5,
   "id": "40b2bd2c",
   "metadata": {},
   "outputs": [
    {
     "name": "stdout",
     "output_type": "stream",
     "text": [
      "torch.Size([1, 1, 5, 5])\n"
     ]
    }
   ],
   "source": [
    "filters = np.array([filter_1])\n",
    "image = image.astype('float32')\n",
    "image = torch.from_numpy(image).unsqueeze(0).unsqueeze(1)\n",
    "print(image.shape)"
   ]
  },
  {
   "cell_type": "code",
   "execution_count": 7,
   "id": "23f4f0ea",
   "metadata": {},
   "outputs": [
    {
     "name": "stdout",
     "output_type": "stream",
     "text": [
      "weight=\n",
      " tensor([[[[1., 0., 1.],\n",
      "          [0., 1., 0.],\n",
      "          [1., 0., 1.]]]])\n",
      "torch.Size([1, 1, 3, 3])\n"
     ]
    }
   ],
   "source": [
    "# 滤波器的权重\n",
    "weight = torch.from_numpy(filters).unsqueeze(1).type(torch.FloatTensor)\n",
    "print('weight=\\n', weight)\n",
    "print(weight.shape)"
   ]
  },
  {
   "cell_type": "markdown",
   "id": "45fc07aa",
   "metadata": {},
   "source": [
    "## 3 创建卷积"
   ]
  },
  {
   "cell_type": "code",
   "execution_count": 8,
   "id": "07405753",
   "metadata": {},
   "outputs": [
    {
     "data": {
      "text/plain": [
       "Conv2d(1, 1, kernel_size=(3, 3), stride=(1, 1), bias=False)"
      ]
     },
     "execution_count": 8,
     "metadata": {},
     "output_type": "execute_result"
    }
   ],
   "source": [
    "# 创建conv卷积\n",
    "conv = nn.Conv2d(1,1, kernel_size=(3,3), bias=False)\n",
    "conv"
   ]
  },
  {
   "cell_type": "markdown",
   "id": "46ce565b",
   "metadata": {},
   "source": [
    "## 4 卷积计算（应用卷积）"
   ]
  },
  {
   "cell_type": "code",
   "execution_count": null,
   "id": "7cf9dfc2",
   "metadata": {},
   "outputs": [],
   "source": [
    "# 设置conv权重\n",
    "conv.weight = torch.nn.Parameter(weight)\n",
    "# 将conv作用于image\n",
    "conv_output = conv(image)\n",
    "print"
   ]
  }
 ],
 "metadata": {
  "kernelspec": {
   "display_name": "Python 3 (ipykernel)",
   "language": "python",
   "name": "python3"
  },
  "language_info": {
   "codemirror_mode": {
    "name": "ipython",
    "version": 3
   },
   "file_extension": ".py",
   "mimetype": "text/x-python",
   "name": "python",
   "nbconvert_exporter": "python",
   "pygments_lexer": "ipython3",
   "version": "3.9.7"
  }
 },
 "nbformat": 4,
 "nbformat_minor": 5
}
