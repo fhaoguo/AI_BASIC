{
 "cells": [
  {
   "cell_type": "markdown",
   "id": "cf828861",
   "metadata": {},
   "source": [
    "# 使用部署好的API接口完成测试"
   ]
  },
  {
   "cell_type": "code",
   "execution_count": 1,
   "id": "fefc8347",
   "metadata": {},
   "outputs": [],
   "source": [
    "import json\n",
    "import urllib.request\n",
    "import base64"
   ]
  },
  {
   "cell_type": "code",
   "execution_count": 2,
   "id": "292b1cb7",
   "metadata": {},
   "outputs": [],
   "source": [
    "with open('./dog.jpg', 'rb') as f:\n",
    "    base64_data = base64.b64encode(f.read())\n",
    "    s = base64_data.decode()"
   ]
  },
  {
   "cell_type": "code",
   "execution_count": 5,
   "id": "ced6596a",
   "metadata": {},
   "outputs": [
    {
     "name": "stdout",
     "output_type": "stream",
     "text": [
      "{\"Samoyed\": 92.25955605506897, \"Pomeranian\": 7.239791750907898, \"Eskimo_dog\": 0.12142847990617156, \"keeshond\": 0.08930243202485144, \"white_wolf\": 0.0722935248631984}\n"
     ]
    }
   ],
   "source": [
    "url = 'http://service-gxmg2oed-1255932437.sh.apigw.tencentcs.com/release/image'\n",
    "\n",
    "print(urllib.request.urlopen(urllib.request.Request(\n",
    "    url = url,\n",
    "    data = json.dumps({'picture': s}).encode('utf-8'))).read().decode('utf-8'))"
   ]
  },
  {
   "cell_type": "code",
   "execution_count": null,
   "id": "925bc995",
   "metadata": {},
   "outputs": [],
   "source": []
  }
 ],
 "metadata": {
  "kernelspec": {
   "display_name": "Python 3 (ipykernel)",
   "language": "python",
   "name": "python3"
  },
  "language_info": {
   "codemirror_mode": {
    "name": "ipython",
    "version": 3
   },
   "file_extension": ".py",
   "mimetype": "text/x-python",
   "name": "python",
   "nbconvert_exporter": "python",
   "pygments_lexer": "ipython3",
   "version": "3.9.7"
  }
 },
 "nbformat": 4,
 "nbformat_minor": 5
}
