{
 "cells": [
  {
   "cell_type": "markdown",
   "id": "64b7d64c",
   "metadata": {},
   "source": [
    "# 基于textrank的实体抽取\n",
    "### 1.爬取网上一篇文章并保存"
   ]
  },
  {
   "cell_type": "code",
   "execution_count": 1,
   "id": "6e21ebc2",
   "metadata": {
    "scrolled": true
   },
   "outputs": [
    {
     "name": "stdout",
     "output_type": "stream",
     "text": [
      "爬取文本：\n",
      " 标题： 吴邦国:中国坚持和平发展不会因国力地位变化而改变 \n",
      "正文： ['\\u3000\\u3000国际在线消息（记者 吴倩）：亚太地区影响最大的议会间组织――亚太议会论坛28日召在符拉迪沃斯托克召开年会。中国全国人大常委会委员长吴邦国在与会发言中重申，坚持和平发展道路是中国基于时代发展潮流和自身根本利益作出的战略抉择，不会因为综合国力和国际地位的变化而改变。 \\r\\n', '\\u3000\\u3000亚太议会论坛成立于1993年，拥有中国、俄罗斯、美国等27个成员国。年会是这个论坛的最高决策机构，每年轮流在太平洋两岸举行。据了解，本届年会为期3天，与会代表将围绕地区安全、经济贸易、区域合作等议题进行坦诚对话。 \\r\\n', '\\u3000\\u3000吴邦国在年会主旨发言中阐述了中方在事关亚太地区和平发展重大问题上的原则主张。他指出，促进亚太地区和平合作发展，是亚太各国的共同责任，各方要从战略高度审视地区形势和彼此关系，努力扩大共识、付诸行动。“我们要摒弃冷战思维和零和博弈观念，相互尊重彼此主权和核心利益，推动建立公平有效的地区安全机制；要积极推动高新技术、先进制造、节能环保、能源资源、现代农业等领域务实合作，反对各种形式的保护主义，推动贸易和投资自由化、区域经济一体化；要尊重文明多样性，尊重各国人民自主选择的发展道路，促进不同文明和社会制度相互交流借鉴，推动亚太多元文明共同进步。” \\r\\n', '\\u3000\\u3000吴邦国表示，议会在各自国家政治生活中发挥着重要作用。各成员的议会应敦促和支持本国政府实施有利于和平发展、互利共赢的外交政策，加强议会间各层次、各领域对话交流，努力使议会交往成为推动国家关系发展的建设性力量。他同时强调，中国坚持和平发展，继续推进对外开放。“中国已经取得的发展成就举世瞩目，但面临的矛盾和挑战也世所罕见。发展仍然是解决中国所有问题的关键，我们将一心一意谋发展，始终不渝奉行互利共赢开放战略，努力在更广领域、更高层次扩大对外开放。我们将始终不渝走和平发展道路，坚定奉行独立自主的和平外交政策，这是中国基于时代发展潮流和自身根本利益作出的战略抉择，不会因为中国综合国力和国际地位的变化而改变。” \\r\\n', '\\u3000\\u3000吴邦国表示，中国坚持国家不论大小、强弱、贫富一律平等，不干涉别国内政，永不称霸；坚持通过和平谈判方式解决同周边邻国历史遗留的陆地边界问题，妥善处理同有关国家的岛屿主权和海洋权益争端；推动和平解决国际争端和热点问题，发挥负责任大国作用。 \\r\\n', '\\u3000\\u3000在当天的大会发言中，本届论坛的东道主――俄罗斯联邦委员会主席马特维延科女士呼吁有关各方共同努力，推动论坛取得更大成果。“俄罗斯联邦是第二次担任亚太议会论坛主席国，亚太议会论坛是亚太地区最具权威性的议会间的合作组织。过去二十年间，亚太议会论坛走过了一条光辉大道，我们在论坛框架内讨论各种全球性和地区发展的迫切问题。我相信，在各位的共同努力下，本届年会将会是一个成果丰硕的会议，有助于形成我们共同的面向未来的行动纲领。”\\u3000\\u3000']\n",
      "吴邦国:中国坚持和平发展不会因国力地位变化而改变　　国际在线消息（记者 吴倩）：亚太地区影响最大的议会间组织――亚太议会论坛28日召在符拉迪沃斯托克召开年会。中国全国人大常委会委员长吴邦国在与会发言中重申，坚持和平发展道路是中国基于时代发展潮流和自身根本利益作出的战略抉择，不会因为综合国力和国际地位的变化而改变。 \r\n",
      "　　亚太议会论坛成立于1993年，拥有中国、俄罗斯、美国等27个成员国。年会是这个论坛的最高决策机构，每年轮流在太平洋两岸举行。据了解，本届年会为期3天，与会代表将围绕地区安全、经济贸易、区域合作等议题进行坦诚对话。 \r\n",
      "　　吴邦国在年会主旨发言中阐述了中方在事关亚太地区和平发展重大问题上的原则主张。他指出，促进亚太地区和平合作发展，是亚太各国的共同责任，各方要从战略高度审视地区形势和彼此关系，努力扩大共识、付诸行动。“我们要摒弃冷战思维和零和博弈观念，相互尊重彼此主权和核心利益，推动建立公平有效的地区安全机制；要积极推动高新技术、先进制造、节能环保、能源资源、现代农业等领域务实合作，反对各种形式的保护主义，推动贸易和投资自由化、区域经济一体化；要尊重文明多样性，尊重各国人民自主选择的发展道路，促进不同文明和社会制度相互交流借鉴，推动亚太多元文明共同进步。” \r\n",
      "　　吴邦国表示，议会在各自国家政治生活中发挥着重要作用。各成员的议会应敦促和支持本国政府实施有利于和平发展、互利共赢的外交政策，加强议会间各层次、各领域对话交流，努力使议会交往成为推动国家关系发展的建设性力量。他同时强调，中国坚持和平发展，继续推进对外开放。“中国已经取得的发展成就举世瞩目，但面临的矛盾和挑战也世所罕见。发展仍然是解决中国所有问题的关键，我们将一心一意谋发展，始终不渝奉行互利共赢开放战略，努力在更广领域、更高层次扩大对外开放。我们将始终不渝走和平发展道路，坚定奉行独立自主的和平外交政策，这是中国基于时代发展潮流和自身根本利益作出的战略抉择，不会因为中国综合国力和国际地位的变化而改变。” \r\n",
      "　　吴邦国表示，中国坚持国家不论大小、强弱、贫富一律平等，不干涉别国内政，永不称霸；坚持通过和平谈判方式解决同周边邻国历史遗留的陆地边界问题，妥善处理同有关国家的岛屿主权和海洋权益争端；推动和平解决国际争端和热点问题，发挥负责任大国作用。 \r\n",
      "\n"
     ]
    }
   ],
   "source": [
    "import requests\n",
    "from lxml import html\n",
    "\n",
    "etree=html.etree\n",
    "url='http://news.cri.cn/gb/27824/2013/01/28/6611s4005015.htm'\n",
    "data=requests.get(url)\n",
    "#data.encoding=''\n",
    "#print(data)\n",
    "s=etree.HTML(data.text)\n",
    "text1=s.xpath('//div[@id=\"ccontent\"]/p/text()')#得到的文本是一个列表，里面有6项，代表6个自然段\n",
    "title=s.xpath('//div[@class=\"news_ts_tit\"]/text()')[0].strip()#[0]是取标题的第一项，trip()去掉首尾空格\n",
    "print(\"爬取文本：\\n\",\"标题：\",title,\"\\n正文：\",text1)\n",
    "text=title\n",
    "\n",
    "# 将得到的文本写入文件\n",
    "for i in range(0,len(text1)-1):\n",
    "   text += text1[i]\n",
    "sentence_list=[]\n",
    "print(text)\n",
    "title='dat/' + title + '.txt'\n",
    "with open(title, 'w', encoding='utf-8') as f:\n",
    "   f.writelines(text)"
   ]
  },
  {
   "cell_type": "markdown",
   "id": "00428ec7",
   "metadata": {},
   "source": [
    "### 2.打开文件"
   ]
  },
  {
   "cell_type": "code",
   "execution_count": 2,
   "id": "75c095b3",
   "metadata": {},
   "outputs": [
    {
     "name": "stdout",
     "output_type": "stream",
     "text": [
      "前10个句子为：\n",
      "\n",
      "['吴邦国:中国坚持和平发展不会因国力地位变化而改变\\u3000\\u3000国际在线消息（记者 吴倩）：亚太地区影响最大的议会间组织――亚太议会论坛28日召在符拉迪沃斯托克召开年会', '中国全国人大常委会委员长吴邦国在与会发言中重申，坚持和平发展道路是中国基于时代发展潮流和自身根本利益作出的战略抉择，不会因为综合国力和国际地位的变化而改变', '亚太议会论坛成立于1993年，拥有中国、俄罗斯、美国等27个成员国', '年会是这个论坛的最高决策机构，每年轮流在太平洋两岸举行', '据了解，本届年会为期3天，与会代表将围绕地区安全、经济贸易、区域合作等议题进行坦诚对话', '吴邦国在年会主旨发言中阐述了中方在事关亚太地区和平发展重大问题上的原则主张', '他指出，促进亚太地区和平合作发展，是亚太各国的共同责任，各方要从战略高度审视地区形势和彼此关系，努力扩大共识、付诸行动', '“我们要摒弃冷战思维和零和博弈观念，相互尊重彼此主权和核心利益，推动建立公平有效的地区安全机制', '要积极推动高新技术、先进制造、节能环保、能源资源、现代农业等领域务实合作，反对各种形式的保护主义，推动贸易和投资自由化、区域经济一体化', '要尊重文明多样性，尊重各国人民自主选择的发展道路，促进不同文明和社会制度相互交流借鉴，推动亚太多元文明共同进步']\n",
      "句子总数： 19\n"
     ]
    }
   ],
   "source": [
    "import numpy as np\n",
    "import re,jieba.posseg as pseg\n",
    "from itertools import chain\n",
    "\n",
    "#打开文件\n",
    "sentences_list = []\n",
    "file_path='dat/吴邦国:中国坚持和平发展不会因国力地位变化而改变.txt'\n",
    "fp = open(file_path,'r',encoding=\"utf8\")\n",
    "for line in fp.readlines():\n",
    "        if line.strip():\n",
    "            # 把元素按照[。！；？]进行分隔，得到句子。\n",
    "            line_split = re.split(r'[。！；？]',line.strip())\n",
    "            # [。！；？]这些符号也会划分出来，把它们去掉。\n",
    "            line_split = [line.strip() for line in line_split if line.strip() not in ['。','！','？','；'] and len(line.strip())>1]\n",
    "            sentences_list.append(line_split)\n",
    "sentences_list = list(chain.from_iterable(sentences_list))\n",
    "print(\"前10个句子为：\\n\")\n",
    "print(sentences_list[:10])\n",
    "print(\"句子总数：\", len(sentences_list))"
   ]
  },
  {
   "cell_type": "markdown",
   "id": "7b0d3157",
   "metadata": {},
   "source": [
    "### 3.分词，停用词"
   ]
  },
  {
   "cell_type": "code",
   "execution_count": 3,
   "id": "7d70ff8b",
   "metadata": {},
   "outputs": [
    {
     "name": "stderr",
     "output_type": "stream",
     "text": [
      "Building prefix dict from the default dictionary ...\n",
      "Dumping model to file cache /var/folders/19/dgxwsbgd76728hx577833nx00000gn/T/jieba.cache\n",
      "Loading model cost 0.661 seconds.\n",
      "Prefix dict has been built successfully.\n"
     ]
    },
    {
     "name": "stdout",
     "output_type": "stream",
     "text": [
      "一共有 19 个句子。\n",
      "\n",
      "前10个句子分词后的结果为：\n",
      " [['吴邦国', '中国', '坚持', '和平', '发展', '不会', '国力', '地位', '变化', '改变', '国际', '在线', '消息', '记者', '吴倩', '亚太地区', '影响', '最大', '议会', '间', '组织', '亚太', '议会', '论坛', '日', '召在', '符拉迪沃斯托克', '召开', '年', '会'], ['中国', '全国人大常委会', '委员长', '吴邦国', '与会', '发言', '中', '重申', '坚持', '和平', '发展', '道路', '中国', '基于', '时代', '发展', '潮流', '根本利益', '作出', '战略', '抉择', '不会', '综合国力', '国际', '地位', '变化', '改变'], ['亚太', '议会', '论坛', '成立', '年', '拥有', '中国', '俄罗斯', '美国', '成员国'], ['年', '会', '论坛', '最高', '决策机构', '每年', '轮流', '太平洋', '两岸', '举行'], ['了解', '本届', '年', '会', '为期', '天', '与会代表', '围绕', '地区', '安全', '经济', '贸易', '区域合作', '议题', '进行', '坦诚', '对话'], ['吴邦国', '年', '会', '主旨', '发言', '中', '阐述', '中方', '事关', '亚太地区', '和平', '发展', '重大', '问题', '上', '原则', '主张'], ['指出', '促进', '亚太地区', '和平', '合作', '发展', '亚太', '各国', '共同', '责任', '各方', '战略', '高度', '审视', '地区', '形势', '关系', '努力', '扩大', '共识', '付诸行动'], ['摒弃', '冷战', '思维', '零', '博弈', '观念', '相互尊重', '主权', '核心', '利益', '推动', '建立', '公平', '有效', '地区', '安全', '机制'], ['积极', '推动', '高新技术', '先进', '制造', '节能', '环保', '能源', '资源', '现代农业', '领域', '务实', '合作', '反对', '形式', '保护主义', '推动', '贸易', '投资', '自由化', '区域', '经济', '一体化'], ['尊重', '文明', '多样性', '尊重', '各国', '人民', '自主', '选择', '发展', '道路', '促进', '不同', '文明', '社会制度', '相互', '交流', '借鉴', '推动', '亚太', '多元', '文明', '共同进步']]\n",
      "\n",
      "数据预处理后句子的数量不变！\n"
     ]
    }
   ],
   "source": [
    "#加载停用词\n",
    "stoplist= [word.strip() for word in open('stopwords.txt',encoding='utf-8').readlines()]\n",
    "# print(stoplist)\n",
    "word_flag = {}\n",
    "\n",
    "# 对句子进行分词\n",
    "def seg_depart(sentence):\n",
    "    # 去掉非汉字字符\n",
    "    sentence = re.sub(r'[^\\u4e00-\\u9fa5]+','',sentence)\n",
    "    sentence_depart = pseg.cut(sentence.strip())\n",
    "    word_list = []\n",
    "    for word,flag in sentence_depart:\n",
    "        if word not in stoplist:\n",
    "            word_list.append(word)\n",
    "            word_flag[word] = flag\n",
    "    # 如果句子整个被过滤掉了，如：'02-2717:56'被过滤，那就返回[],保持句子的数量不变\n",
    "    return word_list\n",
    "\n",
    "sentence_word_list = []\n",
    "for sentence in sentences_list:\n",
    "    line_seg = seg_depart(sentence)\n",
    "    sentence_word_list.append(line_seg)\n",
    "print(\"一共有\",len(sentences_list),'个句子。\\n')\n",
    "print(\"前10个句子分词后的结果为：\\n\",sentence_word_list[:10])\n",
    "\n",
    "# 保证处理后句子的数量不变，我们后面才好根据textrank值取出未处理之前的句子作为摘要。\n",
    "if len(sentences_list) == len(sentence_word_list):\n",
    "    print(\"\\n数据预处理后句子的数量不变！\")"
   ]
  },
  {
   "cell_type": "markdown",
   "id": "fbc18a09",
   "metadata": {},
   "source": [
    "### 4.词汇"
   ]
  },
  {
   "cell_type": "code",
   "execution_count": 4,
   "id": "8b00f710",
   "metadata": {},
   "outputs": [
    {
     "name": "stdout",
     "output_type": "stream",
     "text": [
      "{'发展': 1, '中国': 2, '和平': 3, '议会': 4, '推动': 5, '吴邦国': 6, '坚持': 7, '年': 8, '亚太': 9, '会': 10, '战略': 11, '国家': 12, '不会': 13, '地位': 14, '变化': 15, '改变': 16, '国际': 17, '亚太地区': 18, '论坛': 19, '中': 20, '道路': 21, '地区': 22, '努力': 23, '领域': 24, '文明': 25, '间': 26, '发言': 27, '基于': 28, '时代': 29, '潮流': 30, '根本利益': 31, '作出': 32, '抉择': 33, '综合国力': 34, '安全': 35, '经济': 36, '贸易': 37, '对话': 38, '问题': 39, '促进': 40, '合作': 41, '各国': 42, '关系': 43, '扩大': 44, '主权': 45, '尊重': 46, '交流': 47, '表示': 48, '发挥': 49, '作用': 50, '互利': 51, '共': 52, '赢': 53, '外交政策': 54, '对外开放': 55, '解决': 56, '始终不渝': 57, '奉行': 58, '更': 59, '国力': 60, '在线': 61, '消息': 62, '记者': 63, '吴倩': 64, '影响': 65, '最大': 66, '组织': 67, '日': 68, '召在': 69, '符拉迪沃斯托克': 70, '召开': 71, '全国人大常委会': 72, '委员长': 73, '与会': 74, '重申': 75, '成立': 76, '拥有': 77, '俄罗斯': 78, '美国': 79, '成员国': 80, '最高': 81, '决策机构': 82, '每年': 83, '轮流': 84, '太平洋': 85, '两岸': 86, '举行': 87, '了解': 88, '本届': 89, '为期': 90, '天': 91, '与会代表': 92, '围绕': 93, '区域合作': 94, '议题': 95, '进行': 96, '坦诚': 97, '主旨': 98, '阐述': 99, '中方': 100, '事关': 101, '重大': 102, '上': 103, '原则': 104, '主张': 105, '指出': 106, '共同': 107, '责任': 108, '各方': 109, '高度': 110, '审视': 111, '形势': 112, '共识': 113, '付诸行动': 114, '摒弃': 115, '冷战': 116, '思维': 117, '零': 118, '博弈': 119, '观念': 120, '相互尊重': 121, '核心': 122, '利益': 123, '建立': 124, '公平': 125, '有效': 126, '机制': 127, '积极': 128, '高新技术': 129, '先进': 130, '制造': 131, '节能': 132, '环保': 133, '能源': 134, '资源': 135, '现代农业': 136, '务实': 137, '反对': 138, '形式': 139, '保护主义': 140, '投资': 141, '自由化': 142, '区域': 143, '一体化': 144, '多样性': 145, '人民': 146, '自主': 147, '选择': 148, '不同': 149, '社会制度': 150, '相互': 151, '借鉴': 152, '多元': 153, '共同进步': 154, '政治': 155, '生活': 156, '重要': 157, '成员': 158, '应': 159, '敦促': 160, '支持': 161, '本国': 162, '政府': 163, '实施': 164, '有利于': 165, '加强': 166, '各层次': 167, '使': 168, '交往': 169, '成为': 170, '建设性': 171, '力量': 172, '强调': 173, '继续': 174, '推进': 175, '已经': 176, '取得': 177, '成就': 178, '举世瞩目': 179, '面临': 180, '矛盾': 181, '挑战': 182, '世所': 183, '罕见': 184, '仍然': 185, '所有': 186, '关键': 187, '一心一意': 188, '谋发展': 189, '开放': 190, '广': 191, '高层次': 192, '走': 193, '坚定': 194, '独立自主': 195, '大小': 196, '强弱': 197, '贫富': 198, '一律平等': 199, '不': 200, '干涉': 201, '别国': 202, '内政': 203, '永不': 204, '称霸': 205, '和平谈判': 206, '方式': 207, '周边': 208, '邻国': 209, '历史': 210, '遗留': 211, '陆地': 212, '边界问题': 213, '妥善处理': 214, '岛屿': 215, '海洋权益': 216, '争端': 217, '和平解决': 218, '国际争端': 219, '热点问题': 220, '负责': 221, '大国': 222}\n"
     ]
    }
   ],
   "source": [
    "#fit_on_texts函数可以将输入的文本中的每个词编号，\n",
    "#编号是根据词频的，词频越大，编号越小\n",
    "from keras.preprocessing.text import Tokenizer\n",
    "tokenizer=Tokenizer()\n",
    "tokenizer.fit_on_texts(sentence_word_list)\n",
    "vocab = tokenizer.word_index  # 得到每个词的编号\n",
    "\n",
    "print(vocab)"
   ]
  },
  {
   "cell_type": "markdown",
   "id": "384b9f67",
   "metadata": {},
   "source": [
    "### 5.利用FastText得到Embedding"
   ]
  },
  {
   "cell_type": "code",
   "execution_count": 5,
   "id": "838ec7c3",
   "metadata": {},
   "outputs": [],
   "source": [
    "from gensim.models.fasttext import FastText\n",
    "import time\n",
    "\n",
    "class FTModel:\n",
    "    def __init__(self, model_path):\n",
    "        print('FastText word2vec model loading...', end='')\n",
    "        start = time.time()\n",
    "        self.model = FastText.load_fasttext_format(model_path)\n",
    "        end = time.time()\n",
    "        print('model loaded successfully, elapsed: %.2f s' % (end - start))"
   ]
  },
  {
   "cell_type": "code",
   "execution_count": 7,
   "id": "f3dd1c74",
   "metadata": {},
   "outputs": [
    {
     "name": "stdout",
     "output_type": "stream",
     "text": [
      "FastText word2vec model loading..."
     ]
    },
    {
     "name": "stderr",
     "output_type": "stream",
     "text": [
      "/var/folders/19/dgxwsbgd76728hx577833nx00000gn/T/ipykernel_4761/352868489.py:8: DeprecationWarning: Call to deprecated `load_fasttext_format` (use load_facebook_vectors (to use pretrained embeddings) or load_facebook_model (to continue training with the loaded full model, more RAM) instead).\n",
      "  self.model = FastText.load_fasttext_format(model_path)\n"
     ]
    },
    {
     "name": "stdout",
     "output_type": "stream",
     "text": [
      "model loaded successfully, elapsed: 254.34 s\n",
      "词汇量： 222\n",
      "输出了： 222 个词\n"
     ]
    }
   ],
   "source": [
    "ft_model = FTModel('../../../../../models/FastText/cc.zh.300.bin.gz')\n",
    "\n",
    "word_embeddings = {}\n",
    "for word, i in vocab.items():\n",
    "    try:\n",
    "        # model.wv[word]存的就是这个word的词向量\n",
    "        word_embeddings[word] =ft_model.model.wv[word]\n",
    "    except KeyError:\n",
    "        continue\n",
    "print('词汇量：', len(vocab))\n",
    "print('输出了：', len(word_embeddings),'个词')"
   ]
  },
  {
   "cell_type": "markdown",
   "id": "319ce64d",
   "metadata": {},
   "source": [
    "### 6.词语embedding的平均值作为句子的向量表示"
   ]
  },
  {
   "cell_type": "code",
   "execution_count": 7,
   "id": "d5010ec6",
   "metadata": {},
   "outputs": [],
   "source": [
    "#求句子最大长度\n",
    "# maxLen=0\n",
    "# for sentence in sentences_list:\n",
    "#     length=0\n",
    "#     for wd in sentence:\n",
    "#         length=length+1\n",
    "#     if (length>maxLen):maxLen=length\n",
    "\n",
    "sentence_vectors = []\n",
    "for line in sentence_word_list:\n",
    "    if len(line)!=0:\n",
    "        # 如果句子中的词语不在字典中，那就把embedding设为300维元素为0的向量。\n",
    "        # 得到句子中全部词的词向量后，求平均值，得到句子的向量表示\n",
    "        #TypeError: type numpy.ndarray doesn't define __round__ method,将round改为np.round\n",
    "        v = np.round(sum(word_embeddings.get(word, np.zeros((300,))) for word in line)/(len(line)))\n",
    "    else:\n",
    "        # 如果句子为[]，那么就向量表示为300维元素为0个向量。\n",
    "        v = np.zeros((300,))\n",
    "    sentence_vectors.append(v)"
   ]
  },
  {
   "cell_type": "markdown",
   "id": "3d041272",
   "metadata": {},
   "source": [
    "### 7.摘要生成"
   ]
  },
  {
   "cell_type": "code",
   "execution_count": 21,
   "id": "2b80e2d5",
   "metadata": {},
   "outputs": [
    {
     "name": "stdout",
     "output_type": "stream",
     "text": [
      "句子相似度矩阵的形状为： (19, 19)\n",
      "第1条摘要：\n",
      "\n",
      " 要积极推动高新技术、先进制造、节能环保、能源资源、现代农业等领域务实合作，反对各种形式的保护主义，推动贸易和投资自由化、区域经济一体化 \n",
      "\n",
      "第2条摘要：\n",
      "\n",
      " 要尊重文明多样性，尊重各国人民自主选择的发展道路，促进不同文明和社会制度相互交流借鉴，推动亚太多元文明共同进步 \n",
      "\n",
      "第3条摘要：\n",
      "\n",
      " 推动和平解决国际争端和热点问题，发挥负责任大国作用 \n",
      "\n"
     ]
    }
   ],
   "source": [
    "#计算句子之间的余弦相似度，构成相似度矩阵\n",
    "sim_mat = np.zeros([len(sentences_list), len(sentences_list)])\n",
    "\n",
    "from sklearn.metrics.pairwise import cosine_similarity\n",
    "\n",
    "for i in range(len(sentences_list)):\n",
    "  for j in range(len(sentences_list)):\n",
    "    if i != j:\n",
    "      sim_mat[i][j] = cosine_similarity(sentence_vectors[i].reshape(1,300), sentence_vectors[j].reshape(1,300))[0,0]\n",
    "print(\"句子相似度矩阵的形状为：\",sim_mat.shape)\n",
    "\n",
    "#迭代得到句子的textrank值，排序并取出摘要\"\"\"\n",
    "import networkx as nx\n",
    "\n",
    "# 利用句子相似度矩阵构建图结构，句子为节点，句子相似度为转移概率\n",
    "nx_graph = nx.from_numpy_array(sim_mat)\n",
    "\n",
    "# 得到所有句子的textrank值\n",
    "scores = nx.pagerank(nx_graph)\n",
    "\n",
    "# 根据textrank值对未处理的句子进行排序\n",
    "ranked_sentences = sorted(((scores[i],s) for i,s in enumerate(sentences_list)), reverse=True)\n",
    "\n",
    "# 取出得分最高的前3个句子作为摘要\n",
    "sn = 3\n",
    "for i in range(sn):\n",
    "    print(\"第\"+str(i+1)+\"条摘要：\\n\\n\",ranked_sentences[i][1],'\\n')\n"
   ]
  }
 ],
 "metadata": {
  "kernelspec": {
   "display_name": "Python 3 (ipykernel)",
   "language": "python",
   "name": "python3"
  },
  "language_info": {
   "codemirror_mode": {
    "name": "ipython",
    "version": 3
   },
   "file_extension": ".py",
   "mimetype": "text/x-python",
   "name": "python",
   "nbconvert_exporter": "python",
   "pygments_lexer": "ipython3",
   "version": "3.9.7"
  }
 },
 "nbformat": 4,
 "nbformat_minor": 5
}
