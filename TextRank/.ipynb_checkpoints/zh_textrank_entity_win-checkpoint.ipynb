{
 "cells": [
  {
   "cell_type": "markdown",
   "id": "14139b2b",
   "metadata": {},
   "source": [
    "# TextRank类\n",
    "### 基于窗口共现实现"
   ]
  },
  {
   "cell_type": "code",
   "execution_count": 15,
   "id": "77e5e4e6",
   "metadata": {},
   "outputs": [],
   "source": [
    "class TextRank_score:\n",
    "    def __init__(self, agnews_text):\n",
    "        self.agnews_text = agnews_text\n",
    "        # 构建词表\n",
    "        self.filter_list = self.__get_agnews_text()\n",
    "        # 键值对：词->窗口内词集\n",
    "        self.win = self.__get_win()\n",
    "        self.agnews_text_dict = self.__get_TextRank_score_dict()\n",
    "        \n",
    "    def __get_agnews_text(self):\n",
    "        sentence = []\n",
    "        for text in self.agnews_text:\n",
    "            for word in text:\n",
    "                sentence.append(word)\n",
    "        \n",
    "        return sentence\n",
    "    \n",
    "    def __get_win(self):\n",
    "        win = {}\n",
    "        for i in range(len(self.filter_list)):\n",
    "            if self.filter_list[i] not in win.keys():\n",
    "                win[self.filter_list[i]] = set()\n",
    "            if i - 5 < 0:\n",
    "                lindex = 0\n",
    "            else:\n",
    "                lindex = i - 5\n",
    "            for j in self.filter_list[lindex:i+5]:\n",
    "                win[self.filter_list[i]].add(j)\n",
    "        \n",
    "        return win\n",
    "    \n",
    "    def __get_TextRank_score_dict(self):\n",
    "        time = 0\n",
    "        score = {w:1.0 for w in self.filter_list}\n",
    "        while(time < 50):\n",
    "            for k, v in self.win.items():\n",
    "                s = score[k] / len(v)\n",
    "                score[k] = 0\n",
    "                for i in v:\n",
    "                    score[i] += s\n",
    "            time += 1\n",
    "        \n",
    "        return score    \n",
    "    \n",
    "    def __get_TextRank_score(self, text):\n",
    "        temp_dict = {}\n",
    "        for word in text:\n",
    "            if word in self.agnews_text_dict.keys():\n",
    "                temp_dict[word] = (self.agnews_text_dict[word])\n",
    "        values_list = sorted(temp_dict.items(), key=lambda temp_dict:temp_dict[1], reverse=True) #TextRank从大到小排序\n",
    "    \n",
    "        return values_list\n",
    "    \n",
    "    def get_TextRank_result(self, text):\n",
    "        values_list = self.__get_TextRank_score(text)\n",
    "        value_list = []\n",
    "        for value in values_list:\n",
    "            value_list.append(value[0])\n",
    "        \n",
    "        return (value_list)\n"
   ]
  },
  {
   "cell_type": "code",
   "execution_count": 2,
   "id": "a86241e1",
   "metadata": {},
   "outputs": [
    {
     "name": "stdout",
     "output_type": "stream",
     "text": [
      "爬取文本：\n",
      " 标题： 吴邦国:中国坚持和平发展不会因国力地位变化而改变 \n",
      "正文： ['\\u3000\\u3000国际在线消息（记者 吴倩）：亚太地区影响最大的议会间组织――亚太议会论坛28日召在符拉迪沃斯托克召开年会。中国全国人大常委会委员长吴邦国在与会发言中重申，坚持和平发展道路是中国基于时代发展潮流和自身根本利益作出的战略抉择，不会因为综合国力和国际地位的变化而改变。 \\r\\n', '\\u3000\\u3000亚太议会论坛成立于1993年，拥有中国、俄罗斯、美国等27个成员国。年会是这个论坛的最高决策机构，每年轮流在太平洋两岸举行。据了解，本届年会为期3天，与会代表将围绕地区安全、经济贸易、区域合作等议题进行坦诚对话。 \\r\\n', '\\u3000\\u3000吴邦国在年会主旨发言中阐述了中方在事关亚太地区和平发展重大问题上的原则主张。他指出，促进亚太地区和平合作发展，是亚太各国的共同责任，各方要从战略高度审视地区形势和彼此关系，努力扩大共识、付诸行动。“我们要摒弃冷战思维和零和博弈观念，相互尊重彼此主权和核心利益，推动建立公平有效的地区安全机制；要积极推动高新技术、先进制造、节能环保、能源资源、现代农业等领域务实合作，反对各种形式的保护主义，推动贸易和投资自由化、区域经济一体化；要尊重文明多样性，尊重各国人民自主选择的发展道路，促进不同文明和社会制度相互交流借鉴，推动亚太多元文明共同进步。” \\r\\n', '\\u3000\\u3000吴邦国表示，议会在各自国家政治生活中发挥着重要作用。各成员的议会应敦促和支持本国政府实施有利于和平发展、互利共赢的外交政策，加强议会间各层次、各领域对话交流，努力使议会交往成为推动国家关系发展的建设性力量。他同时强调，中国坚持和平发展，继续推进对外开放。“中国已经取得的发展成就举世瞩目，但面临的矛盾和挑战也世所罕见。发展仍然是解决中国所有问题的关键，我们将一心一意谋发展，始终不渝奉行互利共赢开放战略，努力在更广领域、更高层次扩大对外开放。我们将始终不渝走和平发展道路，坚定奉行独立自主的和平外交政策，这是中国基于时代发展潮流和自身根本利益作出的战略抉择，不会因为中国综合国力和国际地位的变化而改变。” \\r\\n', '\\u3000\\u3000吴邦国表示，中国坚持国家不论大小、强弱、贫富一律平等，不干涉别国内政，永不称霸；坚持通过和平谈判方式解决同周边邻国历史遗留的陆地边界问题，妥善处理同有关国家的岛屿主权和海洋权益争端；推动和平解决国际争端和热点问题，发挥负责任大国作用。 \\r\\n', '\\u3000\\u3000在当天的大会发言中，本届论坛的东道主――俄罗斯联邦委员会主席马特维延科女士呼吁有关各方共同努力，推动论坛取得更大成果。“俄罗斯联邦是第二次担任亚太议会论坛主席国，亚太议会论坛是亚太地区最具权威性的议会间的合作组织。过去二十年间，亚太议会论坛走过了一条光辉大道，我们在论坛框架内讨论各种全球性和地区发展的迫切问题。我相信，在各位的共同努力下，本届年会将会是一个成果丰硕的会议，有助于形成我们共同的面向未来的行动纲领。”\\u3000\\u3000']\n",
      "吴邦国:中国坚持和平发展不会因国力地位变化而改变　　国际在线消息（记者 吴倩）：亚太地区影响最大的议会间组织――亚太议会论坛28日召在符拉迪沃斯托克召开年会。中国全国人大常委会委员长吴邦国在与会发言中重申，坚持和平发展道路是中国基于时代发展潮流和自身根本利益作出的战略抉择，不会因为综合国力和国际地位的变化而改变。 \r\n",
      "　　亚太议会论坛成立于1993年，拥有中国、俄罗斯、美国等27个成员国。年会是这个论坛的最高决策机构，每年轮流在太平洋两岸举行。据了解，本届年会为期3天，与会代表将围绕地区安全、经济贸易、区域合作等议题进行坦诚对话。 \r\n",
      "　　吴邦国在年会主旨发言中阐述了中方在事关亚太地区和平发展重大问题上的原则主张。他指出，促进亚太地区和平合作发展，是亚太各国的共同责任，各方要从战略高度审视地区形势和彼此关系，努力扩大共识、付诸行动。“我们要摒弃冷战思维和零和博弈观念，相互尊重彼此主权和核心利益，推动建立公平有效的地区安全机制；要积极推动高新技术、先进制造、节能环保、能源资源、现代农业等领域务实合作，反对各种形式的保护主义，推动贸易和投资自由化、区域经济一体化；要尊重文明多样性，尊重各国人民自主选择的发展道路，促进不同文明和社会制度相互交流借鉴，推动亚太多元文明共同进步。” \r\n",
      "　　吴邦国表示，议会在各自国家政治生活中发挥着重要作用。各成员的议会应敦促和支持本国政府实施有利于和平发展、互利共赢的外交政策，加强议会间各层次、各领域对话交流，努力使议会交往成为推动国家关系发展的建设性力量。他同时强调，中国坚持和平发展，继续推进对外开放。“中国已经取得的发展成就举世瞩目，但面临的矛盾和挑战也世所罕见。发展仍然是解决中国所有问题的关键，我们将一心一意谋发展，始终不渝奉行互利共赢开放战略，努力在更广领域、更高层次扩大对外开放。我们将始终不渝走和平发展道路，坚定奉行独立自主的和平外交政策，这是中国基于时代发展潮流和自身根本利益作出的战略抉择，不会因为中国综合国力和国际地位的变化而改变。” \r\n",
      "　　吴邦国表示，中国坚持国家不论大小、强弱、贫富一律平等，不干涉别国内政，永不称霸；坚持通过和平谈判方式解决同周边邻国历史遗留的陆地边界问题，妥善处理同有关国家的岛屿主权和海洋权益争端；推动和平解决国际争端和热点问题，发挥负责任大国作用。 \r\n",
      "\n"
     ]
    }
   ],
   "source": [
    "import requests\n",
    "from lxml import html\n",
    "\n",
    "etree=html.etree\n",
    "url='http://news.cri.cn/gb/27824/2013/01/28/6611s4005015.htm'\n",
    "data=requests.get(url)\n",
    "#data.encoding=''\n",
    "#print(data)\n",
    "s=etree.HTML(data.text)\n",
    "text1=s.xpath('//div[@id=\"ccontent\"]/p/text()')#得到的文本是一个列表，里面有6项，代表6个自然段\n",
    "title=s.xpath('//div[@class=\"news_ts_tit\"]/text()')[0].strip()#[0]是取标题的第一项，trip()去掉首尾空格\n",
    "print(\"爬取文本：\\n\",\"标题：\",title,\"\\n正文：\",text1)\n",
    "text=title\n",
    "\n",
    "# 将得到的文本写入文件\n",
    "for i in range(0,len(text1)-1):\n",
    "   text += text1[i]\n",
    "sentence_list=[]\n",
    "print(text)\n",
    "title='dat/' + title + '.txt'\n",
    "with open(title, 'w', encoding='utf-8') as f:\n",
    "   f.writelines(text)"
   ]
  },
  {
   "cell_type": "code",
   "execution_count": 3,
   "id": "9fbe947d",
   "metadata": {},
   "outputs": [
    {
     "name": "stdout",
     "output_type": "stream",
     "text": [
      "前10个句子为：\n",
      "\n",
      "['吴邦国:中国坚持和平发展不会因国力地位变化而改变\\u3000\\u3000国际在线消息（记者 吴倩）：亚太地区影响最大的议会间组织――亚太议会论坛28日召在符拉迪沃斯托克召开年会', '中国全国人大常委会委员长吴邦国在与会发言中重申，坚持和平发展道路是中国基于时代发展潮流和自身根本利益作出的战略抉择，不会因为综合国力和国际地位的变化而改变', '亚太议会论坛成立于1993年，拥有中国、俄罗斯、美国等27个成员国', '年会是这个论坛的最高决策机构，每年轮流在太平洋两岸举行', '据了解，本届年会为期3天，与会代表将围绕地区安全、经济贸易、区域合作等议题进行坦诚对话', '吴邦国在年会主旨发言中阐述了中方在事关亚太地区和平发展重大问题上的原则主张', '他指出，促进亚太地区和平合作发展，是亚太各国的共同责任，各方要从战略高度审视地区形势和彼此关系，努力扩大共识、付诸行动', '“我们要摒弃冷战思维和零和博弈观念，相互尊重彼此主权和核心利益，推动建立公平有效的地区安全机制', '要积极推动高新技术、先进制造、节能环保、能源资源、现代农业等领域务实合作，反对各种形式的保护主义，推动贸易和投资自由化、区域经济一体化', '要尊重文明多样性，尊重各国人民自主选择的发展道路，促进不同文明和社会制度相互交流借鉴，推动亚太多元文明共同进步']\n",
      "句子总数： 19\n"
     ]
    }
   ],
   "source": [
    "import numpy as np\n",
    "import re,jieba.posseg as pseg\n",
    "from itertools import chain\n",
    "\n",
    "#打开文件\n",
    "sentences_list = []\n",
    "file_path='dat/吴邦国:中国坚持和平发展不会因国力地位变化而改变.txt'\n",
    "fp = open(file_path,'r',encoding=\"utf8\")\n",
    "for line in fp.readlines():\n",
    "        if line.strip():\n",
    "            # 把元素按照[。！；？]进行分隔，得到句子。\n",
    "            line_split = re.split(r'[。！；？]',line.strip())\n",
    "            # [。！；？]这些符号也会划分出来，把它们去掉。\n",
    "            line_split = [line.strip() for line in line_split if line.strip() not in ['。','！','？','；'] and len(line.strip())>1]\n",
    "            sentences_list.append(line_split)\n",
    "sentences_list = list(chain.from_iterable(sentences_list))\n",
    "print(\"前10个句子为：\\n\")\n",
    "print(sentences_list[:10])\n",
    "print(\"句子总数：\", len(sentences_list))"
   ]
  },
  {
   "cell_type": "code",
   "execution_count": 4,
   "id": "455ce0be",
   "metadata": {},
   "outputs": [
    {
     "name": "stderr",
     "output_type": "stream",
     "text": [
      "Building prefix dict from the default dictionary ...\n",
      "Loading model from cache /tmp/jieba.cache\n",
      "Loading model cost 1.724 seconds.\n",
      "Prefix dict has been built successfully.\n"
     ]
    },
    {
     "name": "stdout",
     "output_type": "stream",
     "text": [
      "一共有 19 个句子。\n",
      "\n",
      "前10个句子分词后的结果为：\n",
      " [['吴邦国', '中国', '坚持', '和平', '发展', '不会', '国力', '地位', '变化', '改变', '国际', '在线', '消息', '记者', '吴倩', '亚太地区', '影响', '最大', '议会', '间', '组织', '亚太', '议会', '论坛', '日', '召在', '符拉迪沃斯托克', '召开', '年', '会'], ['中国', '全国人大常委会', '委员长', '吴邦国', '与会', '发言', '中', '重申', '坚持', '和平', '发展', '道路', '中国', '基于', '时代', '发展', '潮流', '根本利益', '作出', '战略', '抉择', '不会', '综合国力', '国际', '地位', '变化', '改变'], ['亚太', '议会', '论坛', '成立', '年', '拥有', '中国', '俄罗斯', '美国', '成员国'], ['年', '会', '论坛', '最高', '决策机构', '每年', '轮流', '太平洋', '两岸', '举行'], ['了解', '本届', '年', '会', '为期', '天', '与会代表', '围绕', '地区', '安全', '经济', '贸易', '区域合作', '议题', '进行', '坦诚', '对话'], ['吴邦国', '年', '会', '主旨', '发言', '中', '阐述', '中方', '事关', '亚太地区', '和平', '发展', '重大', '问题', '上', '原则', '主张'], ['指出', '促进', '亚太地区', '和平', '合作', '发展', '亚太', '各国', '共同', '责任', '各方', '战略', '高度', '审视', '地区', '形势', '关系', '努力', '扩大', '共识', '付诸行动'], ['摒弃', '冷战', '思维', '零', '博弈', '观念', '相互尊重', '主权', '核心', '利益', '推动', '建立', '公平', '有效', '地区', '安全', '机制'], ['积极', '推动', '高新技术', '先进', '制造', '节能', '环保', '能源', '资源', '现代农业', '领域', '务实', '合作', '反对', '形式', '保护主义', '推动', '贸易', '投资', '自由化', '区域', '经济', '一体化'], ['尊重', '文明', '多样性', '尊重', '各国', '人民', '自主', '选择', '发展', '道路', '促进', '不同', '文明', '社会制度', '相互', '交流', '借鉴', '推动', '亚太', '多元', '文明', '共同进步']]\n",
      "\n",
      "数据预处理后句子的数量不变！\n"
     ]
    }
   ],
   "source": [
    "#加载停用词\n",
    "stoplist= [word.strip() for word in open('stopwords.txt',encoding='utf-8').readlines()]\n",
    "# print(stoplist)\n",
    "word_flag = {}\n",
    "\n",
    "# 对句子进行分词\n",
    "def seg_depart(sentence):\n",
    "    # 去掉非汉字字符\n",
    "    sentence = re.sub(r'[^\\u4e00-\\u9fa5]+','',sentence)\n",
    "    sentence_depart = pseg.cut(sentence.strip())\n",
    "    word_list = []\n",
    "    for word,flag in sentence_depart:\n",
    "        if word not in stoplist:\n",
    "            word_list.append(word)\n",
    "            word_flag[word] = flag\n",
    "    # 如果句子整个被过滤掉了，如：'02-2717:56'被过滤，那就返回[],保持句子的数量不变\n",
    "    return word_list\n",
    "\n",
    "sentence_word_list = []\n",
    "for sentence in sentences_list:\n",
    "    line_seg = seg_depart(sentence)\n",
    "    sentence_word_list.append(line_seg)\n",
    "print(\"一共有\",len(sentences_list),'个句子。\\n')\n",
    "print(\"前10个句子分词后的结果为：\\n\",sentence_word_list[:10])\n",
    "\n",
    "# 保证处理后句子的数量不变，我们后面才好根据textrank值取出未处理之前的句子作为摘要。\n",
    "if len(sentences_list) == len(sentence_word_list):\n",
    "    print(\"\\n数据预处理后句子的数量不变！\")"
   ]
  },
  {
   "cell_type": "code",
   "execution_count": 16,
   "id": "9c88d8d8",
   "metadata": {},
   "outputs": [],
   "source": [
    "tr = TextRank_score(sentence_word_list)"
   ]
  },
  {
   "cell_type": "code",
   "execution_count": 17,
   "id": "913d326c",
   "metadata": {},
   "outputs": [],
   "source": [
    "word_list = []\n",
    "for sent in sentence_word_list:\n",
    "    for word in sent:\n",
    "        word_list.append(word)\n",
    "key_words = tr.get_TextRank_result(word_list)"
   ]
  },
  {
   "cell_type": "code",
   "execution_count": 20,
   "id": "af5ee69b",
   "metadata": {},
   "outputs": [
    {
     "name": "stdout",
     "output_type": "stream",
     "text": [
      "1 - 2 - 中国 ns\n",
      "2 - 3 - 和平 nz\n",
      "3 - 7 - 吴邦国 nr\n",
      "4 - 10 - 亚太 nr\n",
      "5 - 14 - 亚太地区 ns\n",
      "6 - 24 - 文明 nr\n",
      "7 - 74 - 吴倩 nr\n",
      "8 - 103 - 太平洋 ns\n",
      "9 - 107 - 符拉迪沃斯托克 ns\n",
      "10 - 123 - 全国人大常委会 nt\n",
      "11 - 186 - 美国 ns\n",
      "12 - 188 - 俄罗斯 ns\n"
     ]
    }
   ],
   "source": [
    "i = 0\n",
    "cnt = 0\n",
    "for word in key_words[:int(len(key_words)*.95)]:\n",
    "    fg = word_flag[word]\n",
    "    if (fg.startswith('n') and len(fg)>1) or fg.startswith('t') or fg.startswith('s'):\n",
    "        cnt += 1\n",
    "        print(cnt, \"-\", i+1, \"-\", word, fg)\n",
    "    i += 1"
   ]
  },
  {
   "cell_type": "code",
   "execution_count": null,
   "id": "cdeb5985",
   "metadata": {},
   "outputs": [],
   "source": []
  }
 ],
 "metadata": {
  "kernelspec": {
   "display_name": "Python 3 (ipykernel)",
   "language": "python",
   "name": "python3"
  },
  "language_info": {
   "codemirror_mode": {
    "name": "ipython",
    "version": 3
   },
   "file_extension": ".py",
   "mimetype": "text/x-python",
   "name": "python",
   "nbconvert_exporter": "python",
   "pygments_lexer": "ipython3",
   "version": "3.9.7"
  }
 },
 "nbformat": 4,
 "nbformat_minor": 5
}
