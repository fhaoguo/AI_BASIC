{
 "cells": [
  {
   "cell_type": "markdown",
   "id": "e626647c",
   "metadata": {},
   "source": [
    "# 最长公共子序列"
   ]
  },
  {
   "cell_type": "code",
   "execution_count": 1,
   "id": "24364289",
   "metadata": {},
   "outputs": [],
   "source": [
    "from functools import lru_cache"
   ]
  },
  {
   "cell_type": "code",
   "execution_count": 3,
   "id": "ee31d057",
   "metadata": {},
   "outputs": [],
   "source": [
    "@lru_cache(maxsize=2**10)\n",
    "def longest_common_sub(string1, string2):\n",
    "    if not string1 or not string2: return 0\n",
    "\n",
    "    if string1[-1] == string2[-1]:\n",
    "        return 1 + longest_common_sub(string1[:-1], string2[:-1])\n",
    "    else:\n",
    "        return max(longest_common_sub(string1[:-1], string2), longest_common_sub(string1, string2[:-1]))\n"
   ]
  },
  {
   "cell_type": "code",
   "execution_count": 4,
   "id": "b9ee0446",
   "metadata": {},
   "outputs": [
    {
     "name": "stdout",
     "output_type": "stream",
     "text": [
      "16\n"
     ]
    }
   ],
   "source": [
    "test_1 = 'ATGCGATBCAGTGATCGAGDBGAGHHDTAGDGASGDASGD'\n",
    "test_2 = 'AASYDNHASDJHASDAWACCCATATADAGAWTATACAG'\n",
    "print(longest_common_sub(test_1, test_2))"
   ]
  },
  {
   "cell_type": "markdown",
   "id": "88a6bee4",
   "metadata": {},
   "source": [
    "# 编辑距离"
   ]
  },
  {
   "cell_type": "code",
   "execution_count": 12,
   "id": "ba060860",
   "metadata": {},
   "outputs": [],
   "source": [
    "SOLUTION = {}\n",
    "\n",
    "@lru_cache(maxsize=2**10)\n",
    "def edit_distance(string1, string2):\n",
    "    if not string1: return len(string2)\n",
    "    elif not string2: return len(string1)\n",
    "\n",
    "    candidates = [\n",
    "        (edit_distance(string1[:-1], string2) + 1, 'DEL {}'.format(string1[-1])), # del string1[-1]\n",
    "        (edit_distance(string1, string2[:-1]) + 1, 'ADD {}'.format(string2[-1]))  # add string2[-1]\n",
    "    ]\n",
    "\n",
    "    if string1[-1] == string2[-1]:\n",
    "        candidates.append((edit_distance(string1[:-1], string2[:-1]), ''))\n",
    "    else:\n",
    "        candidates.append((edit_distance(string1[:-1], string2[:-1]) + 1,\n",
    "                           'REPLACE {} => {}'.format(string1[-1], string2[-1])))  # replace string2[-1] with string1[-1]\n",
    "\n",
    "    min_distance, operator = min(candidates, key=lambda x: x[0])\n",
    "\n",
    "    global SOLUTION\n",
    "    SOLUTION[string1, string2] = operator\n",
    "\n",
    "    return min_distance"
   ]
  },
  {
   "cell_type": "code",
   "execution_count": 13,
   "id": "54f7ae33",
   "metadata": {},
   "outputs": [],
   "source": [
    "def parse_edit_solution(s1, s2, solution):\n",
    "    if not s1 or not s2: return ''\n",
    "\n",
    "    if (s1, s2) not in solution:\n",
    "        raise ValueError('without solution of {} to {}'.format(s1, s2))\n",
    "\n",
    "    operator = solution[(s1, s2)]\n",
    "\n",
    "    if 'DEL' in operator:\n",
    "        op, char = operator.split()\n",
    "        print('del {}'.format(char))\n",
    "        parse_edit_solution(s1[:-1], s2, solution)\n",
    "    elif 'ADD' in operator:\n",
    "        op, char = operator.split()\n",
    "        print('add {}'.format(char))\n",
    "        parse_edit_solution(s1, s2[:-1], solution)\n",
    "    elif 'REPLACE' in operator:\n",
    "        op, char1, _, char2 = operator.split()\n",
    "        print('replace {} => {}'.format(char1, char2))\n",
    "        parse_edit_solution(s1[:-1], s2[:-1], solution)\n",
    "    else:\n",
    "        parse_edit_solution(s1[:-1], s2[:-1], solution)"
   ]
  },
  {
   "cell_type": "code",
   "execution_count": 14,
   "id": "3a6bdfa3",
   "metadata": {},
   "outputs": [
    {
     "name": "stdout",
     "output_type": "stream",
     "text": [
      "string1=b, string2=b\n",
      "string1=b, string2=bi\n",
      "string1=b, string2=bie\n",
      "string1=b, string2=biej\n",
      "string1=b, string2=bieji\n",
      "string1=b, string2=biejie\n",
      "string1=be, string2=b\n",
      "string1=be, string2=bi\n",
      "string1=be, string2=bie\n",
      "string1=be, string2=biej\n",
      "string1=be, string2=bieji\n",
      "string1=be, string2=biejie\n",
      "string1=bei, string2=b\n",
      "string1=bei, string2=bi\n",
      "string1=bei, string2=bie\n",
      "string1=bei, string2=biej\n",
      "string1=bei, string2=bieji\n",
      "string1=bei, string2=biejie\n",
      "string1=beij, string2=b\n",
      "string1=beij, string2=bi\n",
      "string1=beij, string2=bie\n",
      "string1=beij, string2=biej\n",
      "string1=beij, string2=bieji\n",
      "string1=beij, string2=biejie\n",
      "string1=beiji, string2=b\n",
      "string1=beiji, string2=bi\n",
      "string1=beiji, string2=bie\n",
      "string1=beiji, string2=biej\n",
      "string1=beiji, string2=bieji\n",
      "string1=beiji, string2=biejie\n",
      "string1=beijin, string2=b\n",
      "string1=beijin, string2=bi\n",
      "string1=beijin, string2=bie\n",
      "string1=beijin, string2=biej\n",
      "string1=beijin, string2=bieji\n",
      "string1=beijin, string2=biejie\n",
      "string1=beijing, string2=b\n",
      "string1=beijing, string2=bi\n",
      "string1=beijing, string2=bie\n",
      "string1=beijing, string2=biej\n",
      "string1=beijing, string2=bieji\n",
      "string1=beijing, string2=biejie\n",
      "4\n",
      "del g\n",
      "replace n => e\n",
      "del i\n",
      "add i\n"
     ]
    }
   ],
   "source": [
    "test_3 = 'beijing'\n",
    "test_4 = 'biejie'\n",
    "print(edit_distance(test_3, test_4))\n",
    "parse_edit_solution(test_3, test_4, SOLUTION)"
   ]
  },
  {
   "cell_type": "code",
   "execution_count": 7,
   "id": "1e028840",
   "metadata": {
    "scrolled": true
   },
   "outputs": [
    {
     "name": "stdout",
     "output_type": "stream",
     "text": [
      "32\n",
      "del D\n",
      "del S\n",
      "del D\n",
      "del G\n",
      "replace S => C\n",
      "del G\n",
      "del D\n",
      "replace G => T\n",
      "del D\n",
      "replace H => W\n",
      "replace H => A\n",
      "add D\n",
      "replace G => A\n",
      "replace B => T\n",
      "replace D => A\n",
      "replace G => T\n",
      "replace G => C\n",
      "replace T => C\n",
      "add W\n",
      "replace G => A\n",
      "replace T => D\n",
      "replace G => S\n",
      "add H\n",
      "replace C => J\n",
      "replace B => D\n",
      "replace T => S\n",
      "add H\n",
      "add N\n",
      "replace G => D\n",
      "replace C => Y\n",
      "replace G => S\n",
      "replace T => A\n"
     ]
    }
   ],
   "source": [
    "print(edit_distance(test_1, test_2))\n",
    "parse_edit_solution(test_1, test_2, SOLUTION)"
   ]
  }
 ],
 "metadata": {
  "kernelspec": {
   "display_name": "Python 3 (ipykernel)",
   "language": "python",
   "name": "python3"
  },
  "language_info": {
   "codemirror_mode": {
    "name": "ipython",
    "version": 3
   },
   "file_extension": ".py",
   "mimetype": "text/x-python",
   "name": "python",
   "nbconvert_exporter": "python",
   "pygments_lexer": "ipython3",
   "version": "3.9.7"
  }
 },
 "nbformat": 4,
 "nbformat_minor": 5
}
