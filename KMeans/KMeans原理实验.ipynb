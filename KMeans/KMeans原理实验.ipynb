{
 "cells": [
  {
   "cell_type": "markdown",
   "id": "7143203f",
   "metadata": {},
   "source": [
    "# KMeans原理小实验"
   ]
  },
  {
   "cell_type": "code",
   "execution_count": 27,
   "id": "afc07e45",
   "metadata": {},
   "outputs": [],
   "source": [
    "import random\n",
    "import matplotlib.pyplot as plt\n",
    "%matplotlib inline"
   ]
  },
  {
   "cell_type": "code",
   "execution_count": 28,
   "id": "6c4ea170",
   "metadata": {},
   "outputs": [],
   "source": [
    "def generate_random_point(min_, max_):\n",
    "    return random.randint(min_, max_), random.randint(min_, max_)"
   ]
  },
  {
   "cell_type": "code",
   "execution_count": 29,
   "id": "27784f67",
   "metadata": {},
   "outputs": [],
   "source": [
    "K = 5\n",
    "previous_kernels = [generate_random_point(-100, 100) for _ in range(K)]"
   ]
  },
  {
   "cell_type": "code",
   "execution_count": 30,
   "id": "e72ebfe5",
   "metadata": {},
   "outputs": [],
   "source": [
    "random_x = [random.randint(-100, 100) for _ in range(50)]\n",
    "random_y = [random.randint(-100, 100) for _ in range(50)]"
   ]
  },
  {
   "cell_type": "code",
   "execution_count": 31,
   "id": "bc864bba",
   "metadata": {},
   "outputs": [],
   "source": [
    "random_points = [(x, y) for x, y in zip(random_x, random_y)]"
   ]
  },
  {
   "cell_type": "code",
   "execution_count": 32,
   "id": "2222ccc1",
   "metadata": {},
   "outputs": [
    {
     "data": {
      "text/plain": [
       "<matplotlib.collections.PathCollection at 0x7f7ff4ae7940>"
      ]
     },
     "execution_count": 32,
     "metadata": {},
     "output_type": "execute_result"
    },
    {
     "data": {
      "image/png": "[encoded data removed]",
      "text/plain": [
       "<Figure size 432x288 with 1 Axes>"
      ]
     },
     "metadata": {
      "needs_background": "light"
     },
     "output_type": "display_data"
    }
   ],
   "source": [
    "plt.scatter([previous_kernels[0][0]], [previous_kernels[0][1]], color='red', s=100)\n",
    "plt.scatter([previous_kernels[1][0]], [previous_kernels[1][1]], color='green', s=100)\n",
    "plt.scatter([previous_kernels[2][0]], [previous_kernels[2][1]], color='yellow', s=100)\n",
    "plt.scatter([previous_kernels[3][0]], [previous_kernels[3][1]], color='yellow', s=100)\n",
    "plt.scatter([previous_kernels[4][0]], [previous_kernels[4][1]], color='yellow', s=100)\n",
    "\n",
    "plt.scatter(random_x, random_y)"
   ]
  },
  {
   "cell_type": "code",
   "execution_count": 33,
   "id": "5198f99a",
   "metadata": {},
   "outputs": [],
   "source": [
    "def dis(p1, p2):\n",
    "    #print(p1, p2)\n",
    "    return np.sqrt((p1[0] - p2[0]) ** 2 + (p1[1] - p2[1]) ** 2)"
   ]
  },
  {
   "cell_type": "code",
   "execution_count": 34,
   "id": "3ec92048",
   "metadata": {},
   "outputs": [],
   "source": [
    "import numpy as np"
   ]
  },
  {
   "cell_type": "code",
   "execution_count": 46,
   "id": "00dc94d7",
   "metadata": {},
   "outputs": [
    {
     "name": "stdout",
     "output_type": "stream",
     "text": [
      "根据新的Group获得的kernal和之前的kernel的距离是: 0.0\n",
      "根据新的Group获得的kernal和之前的kernel的距离是: 0.0\n",
      "根据新的Group获得的kernal和之前的kernel的距离是: 0.0\n",
      "根据新的Group获得的kernal和之前的kernel的距离是: 0.0\n",
      "根据新的Group获得的kernal和之前的kernel的距离是: 0.0\n"
     ]
    },
    {
     "data": {
      "image/png": "[encoded data removed]",
      "text/plain": [
       "<Figure size 432x288 with 1 Axes>"
      ]
     },
     "metadata": {
      "needs_background": "light"
     },
     "output_type": "display_data"
    }
   ],
   "source": [
    "kernel_colors = ['red', 'green', 'yellow', 'blue', 'purple']\n",
    "\n",
    "new_kernels = []\n",
    "\n",
    "groups = [[] for _ in range(K)] \n",
    "\n",
    "for p in random_points:\n",
    "    distances = [dis(p, k) for k in previous_kernels]\n",
    "    \n",
    "    min_index = np.argmin(distances)\n",
    "    \n",
    "    groups[min_index].append(p)\n",
    "    \n",
    "for i, p in enumerate(previous_kernels):\n",
    "    plt.scatter([p[0]], [p[1]], color=kernel_colors[i], s=100)\n",
    "\n",
    "\n",
    "for i, g in enumerate(groups):\n",
    "    g_x = [_x for _x, _y in g]\n",
    "    g_y = [_y for _x, _y in g]\n",
    "    \n",
    "    n_k_x, n_k_y = np.mean(g_x), np.mean(g_y)\n",
    "    new_kernels.append((n_k_x, n_k_y))\n",
    "    \n",
    "    #print(kernel_colors[i])\n",
    "    plt.scatter(g_x, g_y, color=kernel_colors[i])\n",
    "   # plt.scatter([n_k_x], [n_k_y], color=kernel_colors[i], alpha=0.5, s=200)\n",
    "    \n",
    "    print('根据新的Group获得的kernal和之前的kernel的距离是: {}'.format(dis((n_k_x, n_k_y), \n",
    "                                                            previous_kernels[i])))\n",
    "#plt.scatter(random_x, random_y, s=10)\n",
    "previous_kernels = new_kernels\n"
   ]
  },
  {
   "cell_type": "code",
   "execution_count": null,
   "id": "39962fb6",
   "metadata": {},
   "outputs": [],
   "source": []
  },
  {
   "cell_type": "code",
   "execution_count": null,
   "id": "9f68f2fa",
   "metadata": {},
   "outputs": [],
   "source": []
  }
 ],
 "metadata": {
  "kernelspec": {
   "display_name": "Python 3 (ipykernel)",
   "language": "python",
   "name": "python3"
  },
  "language_info": {
   "codemirror_mode": {
    "name": "ipython",
    "version": 3
   },
   "file_extension": ".py",
   "mimetype": "text/x-python",
   "name": "python",
   "nbconvert_exporter": "python",
   "pygments_lexer": "ipython3",
   "version": "3.9.7"
  }
 },
 "nbformat": 4,
 "nbformat_minor": 5
}
