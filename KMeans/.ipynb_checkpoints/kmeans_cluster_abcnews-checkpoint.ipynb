{
 "cells": [
  {
   "cell_type": "markdown",
   "id": "38259a3a",
   "metadata": {},
   "source": [
    "# 基于KMeans对澳大利亚广播公司ABC发布的新闻头条数据进行聚类"
   ]
  },
  {
   "cell_type": "markdown",
   "id": "3d0776c6",
   "metadata": {},
   "source": [
    "# 1.导包 读取数据 查看"
   ]
  },
  {
   "cell_type": "code",
   "execution_count": 1,
   "id": "6e2f55b0",
   "metadata": {},
   "outputs": [],
   "source": [
    "import numpy as np \n",
    "import pandas as pd \n",
    "import matplotlib.pyplot as plt\n",
    "import seaborn as sns\n",
    "\n",
    "from sklearn.feature_extraction import text\n",
    "from sklearn.feature_extraction.text import TfidfVectorizer\n",
    "from sklearn.cluster import KMeans\n",
    "from nltk.tokenize import RegexpTokenizer\n",
    "from nltk.stem.snowball import SnowballStemmer\n",
    "\n",
    "%matplotlib inline"
   ]
  },
  {
   "cell_type": "code",
   "execution_count": 2,
   "id": "93144386",
   "metadata": {},
   "outputs": [
    {
     "name": "stderr",
     "output_type": "stream",
     "text": [
      "/var/folders/19/dgxwsbgd76728hx577833nx00000gn/T/ipykernel_1726/4236528600.py:2: FutureWarning: The error_bad_lines argument has been deprecated and will be removed in a future version. Use on_bad_lines in the future.\n",
      "\n",
      "\n",
      "  data = pd.read_csv(\"abcnews-date-text.csv\", error_bad_lines=False, usecols=['headline_text'])\n"
     ]
    },
    {
     "data": {
      "text/plain": [
       "(1226258, 1)"
      ]
     },
     "execution_count": 2,
     "metadata": {},
     "output_type": "execute_result"
    }
   ],
   "source": [
    "# 读取数据集\n",
    "data = pd.read_csv(\"abcnews-date-text.csv\", error_bad_lines=False, usecols=['headline_text'])\n",
    "data.shape"
   ]
  },
  {
   "cell_type": "code",
   "execution_count": 3,
   "id": "ea0c9d0e",
   "metadata": {},
   "outputs": [],
   "source": [
    "data = data.head(100000)"
   ]
  },
  {
   "cell_type": "code",
   "execution_count": 4,
   "id": "5e232f63",
   "metadata": {},
   "outputs": [
    {
     "name": "stdout",
     "output_type": "stream",
     "text": [
      "<class 'pandas.core.frame.DataFrame'>\n",
      "RangeIndex: 100000 entries, 0 to 99999\n",
      "Data columns (total 1 columns):\n",
      " #   Column         Non-Null Count   Dtype \n",
      "---  ------         --------------   ----- \n",
      " 0   headline_text  100000 non-null  object\n",
      "dtypes: object(1)\n",
      "memory usage: 781.4+ KB\n"
     ]
    }
   ],
   "source": [
    "data.info()"
   ]
  },
  {
   "cell_type": "code",
   "execution_count": 5,
   "id": "72d5d94d",
   "metadata": {},
   "outputs": [
    {
     "data": {
      "text/html": [
       "<div>\n",
       "<style scoped>\n",
       "    .dataframe tbody tr th:only-of-type {\n",
       "        vertical-align: middle;\n",
       "    }\n",
       "\n",
       "    .dataframe tbody tr th {\n",
       "        vertical-align: top;\n",
       "    }\n",
       "\n",
       "    .dataframe thead th {\n",
       "        text-align: right;\n",
       "    }\n",
       "</style>\n",
       "<table border=\"1\" class=\"dataframe\">\n",
       "  <thead>\n",
       "    <tr style=\"text-align: right;\">\n",
       "      <th></th>\n",
       "      <th>headline_text</th>\n",
       "    </tr>\n",
       "  </thead>\n",
       "  <tbody>\n",
       "    <tr>\n",
       "      <th>9253</th>\n",
       "      <td>5 australian sars cases being monitored</td>\n",
       "    </tr>\n",
       "    <tr>\n",
       "      <th>9458</th>\n",
       "      <td>5 australian sars cases being monitored</td>\n",
       "    </tr>\n",
       "    <tr>\n",
       "      <th>28083</th>\n",
       "      <td>al jazeera broadcasts saddam tape</td>\n",
       "    </tr>\n",
       "    <tr>\n",
       "      <th>28316</th>\n",
       "      <td>al jazeera broadcasts saddam tape</td>\n",
       "    </tr>\n",
       "    <tr>\n",
       "      <th>6402</th>\n",
       "      <td>all walks of life follow protest path</td>\n",
       "    </tr>\n",
       "    <tr>\n",
       "      <th>6192</th>\n",
       "      <td>all walks of life follow protest path</td>\n",
       "    </tr>\n",
       "    <tr>\n",
       "      <th>10443</th>\n",
       "      <td>alleged people smuggler faces court</td>\n",
       "    </tr>\n",
       "    <tr>\n",
       "      <th>53526</th>\n",
       "      <td>alleged people smuggler faces court</td>\n",
       "    </tr>\n",
       "  </tbody>\n",
       "</table>\n",
       "</div>"
      ],
      "text/plain": [
       "                                 headline_text\n",
       "9253   5 australian sars cases being monitored\n",
       "9458   5 australian sars cases being monitored\n",
       "28083        al jazeera broadcasts saddam tape\n",
       "28316        al jazeera broadcasts saddam tape\n",
       "6402     all walks of life follow protest path\n",
       "6192     all walks of life follow protest path\n",
       "10443      alleged people smuggler faces court\n",
       "53526      alleged people smuggler faces court"
      ]
     },
     "execution_count": 5,
     "metadata": {},
     "output_type": "execute_result"
    }
   ],
   "source": [
    "# 查看并删除重复的数据\n",
    "data[data['headline_text'].duplicated(keep=False)].sort_values('headline_text').head(8)\n"
   ]
  },
  {
   "cell_type": "markdown",
   "id": "b9e122fa",
   "metadata": {},
   "source": [
    "# 2.数据预处理"
   ]
  },
  {
   "cell_type": "code",
   "execution_count": 6,
   "id": "84f37deb",
   "metadata": {},
   "outputs": [
    {
     "data": {
      "text/plain": [
       "array(['aba decides against community broadcasting licence',\n",
       "       'act fire witnesses must be aware of defamation',\n",
       "       'a g calls for infrastructure protection summit', ...,\n",
       "       'call in powers bill likely to fail',\n",
       "       'cambodian parties seal coalition deal',\n",
       "       'capriati confident of serena hat trick'], dtype=object)"
      ]
     },
     "execution_count": 6,
     "metadata": {},
     "output_type": "execute_result"
    }
   ],
   "source": [
    "punc = ['.', ',', '\"', \"'\", '?', '!', ':', ';', '(', ')', '[', ']', '{', '}', '%']\n",
    "stop_words = text.ENGLISH_STOP_WORDS.union(punc)\n",
    "desc = data['headline_text'].values\n",
    "desc"
   ]
  },
  {
   "cell_type": "code",
   "execution_count": 7,
   "id": "3cbcbc4d",
   "metadata": {},
   "outputs": [],
   "source": [
    "# Stemminng\n",
    "stemmer = SnowballStemmer('english')"
   ]
  },
  {
   "cell_type": "code",
   "execution_count": 8,
   "id": "8b5dd9dd",
   "metadata": {},
   "outputs": [],
   "source": [
    "# Tokenizing\n",
    "tokenizer = RegexpTokenizer(r'[a-zA-Z\\']+')\n",
    "\n",
    "def tokenize(text):\n",
    "    return [stemmer.stem(word) for word in tokenizer.tokenize(text.lower())]"
   ]
  },
  {
   "cell_type": "code",
   "execution_count": 9,
   "id": "2969b497",
   "metadata": {},
   "outputs": [
    {
     "name": "stderr",
     "output_type": "stream",
     "text": [
      "/Users/fenghaoguo/opt/anaconda3/envs/p39/lib/python3.9/site-packages/sklearn/feature_extraction/text.py:396: UserWarning: Your stop_words may be inconsistent with your preprocessing. Tokenizing the stop words generated tokens ['abov', 'afterward', 'alon', 'alreadi', 'alway', 'ani', 'anoth', 'anyon', 'anyth', 'anywher', 'becam', 'becaus', 'becom', 'befor', 'besid', 'cri', 'describ', 'dure', 'els', 'elsewher', 'empti', 'everi', 'everyon', 'everyth', 'everywher', 'fifti', 'forti', 'henc', 'hereaft', 'herebi', 'howev', 'hundr', 'inde', 'mani', 'meanwhil', 'moreov', 'nobodi', 'noon', 'noth', 'nowher', 'onc', 'onli', 'otherwis', 'ourselv', 'perhap', 'pleas', 'sever', 'sinc', 'sincer', 'sixti', 'someon', 'someth', 'sometim', 'somewher', 'themselv', 'thenc', 'thereaft', 'therebi', 'therefor', 'togeth', 'twelv', 'twenti', 'veri', 'whatev', 'whenc', 'whenev', 'wherea', 'whereaft', 'wherebi', 'wherev', 'whi', 'yourselv'] not in stop_words.\n",
      "  warnings.warn(\n"
     ]
    },
    {
     "name": "stdout",
     "output_type": "stream",
     "text": [
      "17858\n",
      "['aa', 'aaa', 'aac', 'aagaard', 'aagard', 'aapa', 'aargau', 'ab', 'aba', 'abalon', 'abandon', 'abar', 'abat', 'abattoir', 'abb', 'abba', 'abbott', 'abbrevi', 'abc', 'abdic', 'abduct', 'abducte', 'abductor', 'abdul', 'abdullah', 'abe', 'abera', 'aberdeen', 'aberhart', 'abernethi', 'abetz', 'abeylegess', 'abhorr', 'abid', 'abigroup', 'abil', 'abl', 'ablaz', 'ablett', 'abm', 'abnorm', 'aboard', 'abolish', 'abolit', 'abolon', 'aborigin', 'abort', 'abortionist', 'abound', 'abov']\n"
     ]
    },
    {
     "name": "stderr",
     "output_type": "stream",
     "text": [
      "/Users/fenghaoguo/opt/anaconda3/envs/p39/lib/python3.9/site-packages/sklearn/utils/deprecation.py:87: FutureWarning: Function get_feature_names is deprecated; get_feature_names is deprecated in 1.0 and will be removed in 1.2. Please use get_feature_names_out instead.\n",
      "  warnings.warn(msg, category=FutureWarning)\n"
     ]
    }
   ],
   "source": [
    "# 向量化\n",
    "# vec = TfidfVectorizer(stop_words=stop_words, tokenizer=tokenize, max_features=100000)\n",
    "vec = TfidfVectorizer(stop_words=stop_words, tokenizer=tokenize)\n",
    "X = vec.fit_transform(desc)\n",
    "word_features = vec.get_feature_names()\n",
    "print(len(word_features))\n",
    "print(word_features[:50])\n",
    "#print(X)"
   ]
  },
  {
   "cell_type": "markdown",
   "id": "f6e57de9",
   "metadata": {},
   "source": [
    "## 3 聚类\n",
    "### 3.1 手肘法选择聚类簇的数量"
   ]
  },
  {
   "cell_type": "code",
   "execution_count": 10,
   "id": "4049e0df",
   "metadata": {},
   "outputs": [
    {
     "data": {
      "image/png": "[encoded data removed]",
      "text/plain": [
       "<Figure size 432x288 with 1 Axes>"
      ]
     },
     "metadata": {
      "needs_background": "light"
     },
     "output_type": "display_data"
    }
   ],
   "source": [
    "# 随着聚类数k的增大,样本划分会更加的精细,每个簇的聚合程度会逐渐提高,那么误差平方和SSE自然会逐渐变小,\n",
    "# 并且当k小于真实的簇类数时,由于k的增大会大幅增加每个簇的聚合程度,因此SSE的下降幅度会很大,\n",
    "# 而当k到达真实聚类数时,再增加k所得到的聚合程度回报会迅速变小,所以SSE的下降幅度会骤减,\n",
    "# 然后随着k值的继续增大而趋于平缓,也就是说SSE和k的关系类似于手肘的形状,而这个肘部对应的k值就是数据的真实聚类数.\n",
    "# 因此这种方法被称为手肘法.\n",
    "from sklearn.cluster import KMeans\n",
    "wcss = []\n",
    "for i in range(2, 30):\n",
    "    kmeans = KMeans(n_clusters=i, init='k-means++', max_iter=300, n_init=10, random_state=0)\n",
    "    kmeans.fit(X)\n",
    "    wcss.append(kmeans.inertia_)\n",
    "plt.plot(range(2, 30), wcss)\n",
    "plt.title('The Elbow Method')\n",
    "plt.xlabel(\"Number of clusters\")\n",
    "plt.ylabel('WCSS')\n",
    "plt.savefig('elbow.png')"
   ]
  },
  {
   "cell_type": "markdown",
   "id": "56b61722",
   "metadata": {},
   "source": [
    "### 3.2 聚类\n",
    "根据以上显示，建议通过人工选取超参数K"
   ]
  },
  {
   "cell_type": "code",
   "execution_count": null,
   "id": "0850cc30",
   "metadata": {},
   "outputs": [],
   "source": [
    "# n可取3-N，进行测试\n",
    "n = 6\n",
    "# kmeans = KMeans(n_clusters = 6, n_init = 20, n_jobs = 1)\n",
    "kmeans = KMeans(n_clusters = n, n_init = 20)\n",
    "kmeans.fit(X)\n",
    "\n",
    "common_words = kmeans.cluster_centers_ter_centers_.argsort()[:, -1: -26: -1]\n",
    "for num, centroid in enumerate(common_words):\n",
    "    print(str(num) + ' : ' + ','.join(words[word] for word in centroid))"
   ]
  }
 ],
 "metadata": {
  "kernelspec": {
   "display_name": "Python 3 (ipykernel)",
   "language": "python",
   "name": "python3"
  },
  "language_info": {
   "codemirror_mode": {
    "name": "ipython",
    "version": 3
   },
   "file_extension": ".py",
   "mimetype": "text/x-python",
   "name": "python",
   "nbconvert_exporter": "python",
   "pygments_lexer": "ipython3",
   "version": "3.9.7"
  }
 },
 "nbformat": 4,
 "nbformat_minor": 5
}
