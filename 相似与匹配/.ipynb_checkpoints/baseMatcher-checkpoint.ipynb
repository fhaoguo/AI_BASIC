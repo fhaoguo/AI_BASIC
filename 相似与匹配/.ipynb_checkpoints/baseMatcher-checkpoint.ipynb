{
 "cells": [
  {
   "cell_type": "markdown",
   "metadata": {},
   "source": [
    "## 最小编辑距离"
   ]
  },
  {
   "cell_type": "markdown",
   "metadata": {},
   "source": [
    "利用编辑距离可以判断两个字符串的相似程度，即从一个字符串到另一个字符串所需要的编辑次数，包括插入字符，删除字符及替换字符这三种操作。最小编辑距离即从一个字符串到另一个字符串所需要的最小编辑次数。\n",
    "\n",
    "在这里定义的单字符编辑操作有且仅有三种：\n",
    "\n",
    "- 插入（Insertion）\n",
    "- 删除（Deletion）\n",
    "- 替换（Substitution）\n",
    "\n",
    "insertion 和 deletion 的 cost 为 1，substitution 的 cost 为 2. \n"
   ]
  },
  {
   "cell_type": "markdown",
   "metadata": {},
   "source": [
    "## 动态规划算法"
   ]
  },
  {
   "cell_type": "markdown",
   "metadata": {},
   "source": [
    "问题分析：动态规划思想\n",
    "\n",
    "1. `dp[i][j]`表示将字符串 `A[0: i-1]` 转变为 `B[0: j-1]` 的最小步骤数。\n",
    "\n",
    "2. 边界情况：\n",
    "- 当 `i = 0` , 即 A 串为空时，那么转变为 B 串就是不断添加字符，`dp[0][j] = j`。\n",
    "- 当 `j = 0`，即 B 串为空时，那么转变为 B 串就是不断删除字符，`dp[i][0] = i`。\n",
    "\n",
    "3. 对应三种字符操作方式：\n",
    "\n",
    "- 插入操作：`dp[i][j - 1] + 1` 相当于为 B 串的最后插入了 A 串的最后一个字符；\n",
    "- 删除操作：`dp[i - 1][j] + 1` 相当于将 B 串的最后字符删除 ;\n",
    "- 替换操作：`dp[i - 1][j - 1] +（A[i - 1] != B[j - 1]）`相当于通过将 B 串的最后一个字符替换为 A 串的最后一个字符。\n",
    "\n",
    "4. 所以dp方程式为:\n",
    "- `dp[i][j] = dp[i-1][j-1], A[i-1] == B[j-1] `\n",
    "- `dp[i][j] = min(dp[i-1][j-1]+2, dp[i][j-1]+1, dp[i-1][j]+1), A[i-1] != B[j-1]`\n",
    "\n",
    "Python实现（时间复杂度：O(mn)，空间复杂度：O(mn)）："
   ]
  },
  {
   "cell_type": "markdown",
   "metadata": {},
   "source": [
    "## 案例\n",
    "\n",
    "计算 execution 和 intention 的最小编辑距离，得到的 D 矩阵如下：\n"
   ]
  },
  {
   "cell_type": "markdown",
   "metadata": {},
   "source": [
    "![](./images/algo.png)\n",
    "![](./images/table_empty.png)\n",
    "![](./images/table_ful.png)"
   ]
  },
  {
   "cell_type": "code",
   "execution_count": 2,
   "metadata": {},
   "outputs": [],
   "source": [
    "class Solution:\n",
    "    def minDistance(self, word1, word2):\n",
    "        \"\"\"\n",
    "        :type word1: str\n",
    "        :type word2: str\n",
    "        :rtype: int\n",
    "        \"\"\"\n",
    "        m, n = len(word1), len(word2)\n",
    "        if m == 0:return n\n",
    "        if n == 0:return m\n",
    "        dp = [[0]*(n+1) for _ in range(m+1)]  # 初始化dp和边界\n",
    "        for i in range(1, m+1): dp[i][0] = i\n",
    "        for j in range(1, n+1): dp[0][j] = j\n",
    "        for i in range(1, m+1):  # 计算dp\n",
    "            for j in range(1, n+1):\n",
    "                if word1[i - 1] == word2[j - 1]:\n",
    "                    dp[i][j] = dp[i - 1][j - 1]\n",
    "                else:\n",
    "                    dp[i][j] = min(dp[i - 1][j - 1] + 2, dp[i][j - 1] + 1, dp[i - 1][j] + 1)\n",
    "        return dp[m][n]\n",
    " "
   ]
  },
  {
   "cell_type": "code",
   "execution_count": 3,
   "metadata": {},
   "outputs": [
    {
     "data": {
      "text/plain": [
       "8"
      ]
     },
     "execution_count": 3,
     "metadata": {},
     "output_type": "execute_result"
    }
   ],
   "source": [
    "solu = Solution()\n",
    "word1, word2 = 'execution', 'intention'\n",
    "solu.minDistance(word1,word2)"
   ]
  },
  {
   "cell_type": "markdown",
   "metadata": {},
   "source": [
    "## 汉明距离"
   ]
  },
  {
   "cell_type": "markdown",
   "metadata": {},
   "source": [
    "两个整数之间的汉明距离指的是这两个数字对应二进制位不同的位置的数目。\n",
    "\n",
    "给出两个整数 x 和 y，计算它们之间的汉明距离。\n",
    "\n",
    "```\n",
    "输入: x = 1, y = 4\n",
    "\n",
    "输出: 2\n",
    "\n",
    "解释:\n",
    "1   (0 0 0 1)\n",
    "4   (0 1 0 0)\n",
    "```\n",
    "\n",
    "上面的箭头指出了对应二进制位不同的位置。\n",
    "\n"
   ]
  },
  {
   "cell_type": "markdown",
   "metadata": {},
   "source": [
    "根据以上定义，提出一种 XOR 的位运算，当且仅当输入位不同时输出为 1。\n",
    "\n",
    "**计算 x 和 y 之间的汉明距离，可以先计算 x XOR y，然后统计结果中等于 1 的位数。**\n",
    "\n",
    "![](./images/xor.png)"
   ]
  },
  {
   "cell_type": "code",
   "execution_count": 7,
   "metadata": {},
   "outputs": [],
   "source": [
    "class Solution:\n",
    "    def hammingDistance(self, x: int, y: int) -> int:\n",
    "        return bin(x ^ y).count('1')\n",
    "\n",
    "\n",
    "class Solution2(object):\n",
    "    def hammingDistance(self, x, y):\n",
    "        \"\"\"\n",
    "        :type x: int\n",
    "        :type y: int\n",
    "        :rtype: int\n",
    "        \"\"\"\n",
    "        xor = x ^ y\n",
    "        distance = 0\n",
    "        while xor:\n",
    "            # mask out the rest bits\n",
    "            if xor & 1:\n",
    "                distance += 1\n",
    "            xor = xor >> 1\n",
    "        return distance"
   ]
  },
  {
   "cell_type": "code",
   "execution_count": 9,
   "metadata": {},
   "outputs": [
    {
     "data": {
      "text/plain": [
       "(3, 3)"
      ]
     },
     "execution_count": 9,
     "metadata": {},
     "output_type": "execute_result"
    }
   ],
   "source": [
    "solu = Solution()\n",
    "solu2 = Solution2()\n",
    "\n",
    "solu.hammingDistance(2,5), solu2.hammingDistance(2,5)"
   ]
  },
  {
   "cell_type": "markdown",
   "metadata": {},
   "source": [
    "## Dice 系数"
   ]
  },
  {
   "cell_type": "code",
   "execution_count": 14,
   "metadata": {},
   "outputs": [
    {
     "name": "stdout",
     "output_type": "stream",
     "text": [
      "0.7692307692307693\n",
      "0.5714285714285714\n"
     ]
    }
   ],
   "source": [
    "class Solution:\n",
    "\n",
    "    def dice_coefficient(self, a, b):\n",
    "        \"\"\"dice coefficient 2nt/na + nb.\"\"\"\n",
    "        a_bigrams = set(a)\n",
    "        b_bigrams = set(b)\n",
    "        overlap = len(a_bigrams & b_bigrams)\n",
    "        return overlap * 2.0/(len(a_bigrams) + len(b_bigrams))\n",
    " \n",
    "if __name__ == '__main__':\n",
    "    solu = Solution()\n",
    "\n",
    "    a= solu.dice_coefficient('execution','intention')\n",
    "    print(a)\n",
    "    b = solu.dice_coefficient('execution','student')\n",
    "    print(b)"
   ]
  },
  {
   "cell_type": "markdown",
   "metadata": {},
   "source": [
    "## Jaccard系数\n",
    "\n"
   ]
  },
  {
   "cell_type": "code",
   "execution_count": 19,
   "metadata": {},
   "outputs": [
    {
     "name": "stdout",
     "output_type": "stream",
     "text": [
      "0.625\n",
      "0.4\n"
     ]
    }
   ],
   "source": [
    "class Solution:\n",
    "    def jaccard_sim(self, a, b):\n",
    "        unions = len(set(a).union(set(b)))\n",
    "        intersections = len(set(a).intersection(set(b)))\n",
    "        return 1. * intersections / unions\n",
    "\n",
    "if __name__ == '__main__':\n",
    "    solu = Solution()\n",
    "\n",
    "    a= solu.jaccard_sim('execution','intention')\n",
    "    print(a)\n",
    "    b = solu.jaccard_sim('execution','student')\n",
    "    print(b)   "
   ]
  },
  {
   "cell_type": "markdown",
   "metadata": {},
   "source": [
    "## Ngram"
   ]
  },
  {
   "cell_type": "code",
   "execution_count": 25,
   "metadata": {},
   "outputs": [
    {
     "name": "stdout",
     "output_type": "stream",
     "text": [
      "['I', 'really']\n",
      "['really', 'like']\n",
      "['like', 'python,']\n",
      "['python,', \"it's\"]\n",
      "[\"it's\", 'pretty']\n",
      "['pretty', 'awesome.']\n",
      "\n",
      "['I', 'really', 'like', 'python,']\n",
      "['really', 'like', 'python,', \"it's\"]\n",
      "['like', 'python,', \"it's\", 'pretty']\n",
      "['python,', \"it's\", 'pretty', 'awesome.']\n"
     ]
    }
   ],
   "source": [
    "class Solution:\n",
    "    def __init__(self, N):\n",
    "        self.N = N\n",
    "    def n_grams(self, sentence):\n",
    "        return [sentence[i:i+N] for i in range(len(sentence)-N+1)]\n",
    "\n",
    "\n",
    "sentence = \"I really like python, it's pretty awesome.\".split()\n",
    "if __name__ == '__main__':\n",
    "    N = 2\n",
    "    solu = Solution(N)\n",
    "    grams = solu.n_grams(sentence)\n",
    "    for gram in grams: \n",
    "        print(gram)\n",
    "\n",
    "    print(\"\")\n",
    "    N = 4\n",
    "    solu = Solution(N)\n",
    "    grams = solu.n_grams(sentence)\n",
    "    for gram in grams: \n",
    "        print(gram)"
   ]
  },
  {
   "cell_type": "markdown",
   "metadata": {},
   "source": [
    "## Graph EditDistance"
   ]
  },
  {
   "cell_type": "code",
   "execution_count": 26,
   "metadata": {},
   "outputs": [],
   "source": [
    "import networkx as nx\n",
    "G1 = nx.cycle_graph(6)\n",
    "G2 = nx.wheel_graph(7)"
   ]
  },
  {
   "cell_type": "code",
   "execution_count": 27,
   "metadata": {},
   "outputs": [
    {
     "data": {
      "image/png": "[encoded data removed]",
      "image/svg+xml": [
       "<?xml version=\"1.0\" encoding=\"utf-8\" standalone=\"no\"?>\n",
       "<!DOCTYPE svg PUBLIC \"-//W3C//DTD SVG 1.1//EN\"\n",
       "  \"http://www.w3.org/Graphics/SVG/1.1/DTD/svg11.dtd\">\n",
       "<!-- Created with matplotlib (https://matplotlib.org/) -->\n",
       "<svg height=\"302.4pt\" version=\"1.1\" viewBox=\"0 0 446.4 302.4\" width=\"446.4pt\" xmlns=\"http://www.w3.org/2000/svg\" xmlns:xlink=\"http://www.w3.org/1999/xlink\">\n",
       " <metadata>\n",
       "  <rdf:RDF xmlns:cc=\"http://creativecommons.org/ns#\" xmlns:dc=\"http://purl.org/dc/elements/1.1/\" xmlns:rdf=\"http://www.w3.org/1999/02/22-rdf-syntax-ns#\">\n",
       "   <cc:Work>\n",
       "    <dc:type rdf:resource=\"http://purl.org/dc/dcmitype/StillImage\"/>\n",
       "    <dc:date>2021-03-25T06:16:48.105737</dc:date>\n",
       "    <dc:format>image/svg+xml</dc:format>\n",
       "    <dc:creator>\n",
       "     <cc:Agent>\n",
       "      <dc:title>Matplotlib v3.3.3, https://matplotlib.org/</dc:title>\n",
       "     </cc:Agent>\n",
       "    </dc:creator>\n",
       "   </cc:Work>\n",
       "  </rdf:RDF>\n",
       " </metadata>\n",
       " <defs>\n",
       "  <style type=\"text/css\">*{stroke-linecap:butt;stroke-linejoin:round;}</style>\n",
       " </defs>\n",
       " <g id=\"figure_1\">\n",
       "  <g id=\"patch_1\">\n",
       "   <path d=\"M 0 302.4 \n",
       "L 446.4 302.4 \n",
       "L 446.4 0 \n",
       "L 0 0 \n",
       "z\n",
       "\" style=\"fill:#ffffff;\"/>\n",
       "  </g>\n",
       "  <g id=\"axes_1\">\n",
       "   <g id=\"LineCollection_1\">\n",
       "    <path clip-path=\"url(#pb578d9d06d)\" d=\"M 106.182077 266.791642 \n",
       "L 26.836364 135.850946 \n",
       "\" style=\"fill:none;stroke:#000000;\"/>\n",
       "    <path clip-path=\"url(#pb578d9d06d)\" d=\"M 106.182077 266.791642 \n",
       "L 302.303196 282.109091 \n",
       "\" style=\"fill:none;stroke:#000000;\"/>\n",
       "    <path clip-path=\"url(#pb578d9d06d)\" d=\"M 26.836364 135.850946 \n",
       "L 144.369149 20.290909 \n",
       "\" style=\"fill:none;stroke:#000000;\"/>\n",
       "    <path clip-path=\"url(#pb578d9d06d)\" d=\"M 144.369149 20.290909 \n",
       "L 340.015702 35.719448 \n",
       "\" style=\"fill:none;stroke:#000000;\"/>\n",
       "    <path clip-path=\"url(#pb578d9d06d)\" d=\"M 340.015702 35.719448 \n",
       "L 419.563636 166.861843 \n",
       "\" style=\"fill:none;stroke:#000000;\"/>\n",
       "    <path clip-path=\"url(#pb578d9d06d)\" d=\"M 419.563636 166.861843 \n",
       "L 302.303196 282.109091 \n",
       "\" style=\"fill:none;stroke:#000000;\"/>\n",
       "   </g>\n",
       "   <g id=\"PathCollection_1\">\n",
       "    <defs>\n",
       "     <path d=\"M 0 8.660254 \n",
       "C 2.296726 8.660254 4.499694 7.747755 6.123724 6.123724 \n",
       "C 7.747755 4.499694 8.660254 2.296726 8.660254 0 \n",
       "C 8.660254 -2.296726 7.747755 -4.499694 6.123724 -6.123724 \n",
       "C 4.499694 -7.747755 2.296726 -8.660254 0 -8.660254 \n",
       "C -2.296726 -8.660254 -4.499694 -7.747755 -6.123724 -6.123724 \n",
       "C -7.747755 -4.499694 -8.660254 -2.296726 -8.660254 0 \n",
       "C -8.660254 2.296726 -7.747755 4.499694 -6.123724 6.123724 \n",
       "C -4.499694 7.747755 -2.296726 8.660254 0 8.660254 \n",
       "z\n",
       "\" id=\"mda67191e0a\" style=\"stroke:#1f78b4;\"/>\n",
       "    </defs>\n",
       "    <g clip-path=\"url(#pb578d9d06d)\">\n",
       "     <use style=\"fill:#1f78b4;stroke:#1f78b4;\" x=\"106.182077\" xlink:href=\"#mda67191e0a\" y=\"266.791642\"/>\n",
       "     <use style=\"fill:#1f78b4;stroke:#1f78b4;\" x=\"26.836364\" xlink:href=\"#mda67191e0a\" y=\"135.850946\"/>\n",
       "     <use style=\"fill:#1f78b4;stroke:#1f78b4;\" x=\"144.369149\" xlink:href=\"#mda67191e0a\" y=\"20.290909\"/>\n",
       "     <use style=\"fill:#1f78b4;stroke:#1f78b4;\" x=\"340.015702\" xlink:href=\"#mda67191e0a\" y=\"35.719448\"/>\n",
       "     <use style=\"fill:#1f78b4;stroke:#1f78b4;\" x=\"419.563636\" xlink:href=\"#mda67191e0a\" y=\"166.861843\"/>\n",
       "     <use style=\"fill:#1f78b4;stroke:#1f78b4;\" x=\"302.303196\" xlink:href=\"#mda67191e0a\" y=\"282.109091\"/>\n",
       "    </g>\n",
       "   </g>\n",
       "  </g>\n",
       " </g>\n",
       " <defs>\n",
       "  <clipPath id=\"pb578d9d06d\">\n",
       "   <rect height=\"288\" width=\"432\" x=\"7.2\" y=\"7.2\"/>\n",
       "  </clipPath>\n",
       " </defs>\n",
       "</svg>\n"
      ],
      "text/plain": [
       "<Figure size 432x288 with 1 Axes>"
      ]
     },
     "metadata": {},
     "output_type": "display_data"
    }
   ],
   "source": [
    "nx.draw(G1)"
   ]
  },
  {
   "cell_type": "code",
   "execution_count": 29,
   "metadata": {},
   "outputs": [
    {
     "data": {
      "image/png": "[encoded data removed]",
      "image/svg+xml": [
       "<?xml version=\"1.0\" encoding=\"utf-8\" standalone=\"no\"?>\n",
       "<!DOCTYPE svg PUBLIC \"-//W3C//DTD SVG 1.1//EN\"\n",
       "  \"http://www.w3.org/Graphics/SVG/1.1/DTD/svg11.dtd\">\n",
       "<!-- Created with matplotlib (https://matplotlib.org/) -->\n",
       "<svg height=\"302.4pt\" version=\"1.1\" viewBox=\"0 0 446.4 302.4\" width=\"446.4pt\" xmlns=\"http://www.w3.org/2000/svg\" xmlns:xlink=\"http://www.w3.org/1999/xlink\">\n",
       " <metadata>\n",
       "  <rdf:RDF xmlns:cc=\"http://creativecommons.org/ns#\" xmlns:dc=\"http://purl.org/dc/elements/1.1/\" xmlns:rdf=\"http://www.w3.org/1999/02/22-rdf-syntax-ns#\">\n",
       "   <cc:Work>\n",
       "    <dc:type rdf:resource=\"http://purl.org/dc/dcmitype/StillImage\"/>\n",
       "    <dc:date>2021-03-25T06:16:54.811207</dc:date>\n",
       "    <dc:format>image/svg+xml</dc:format>\n",
       "    <dc:creator>\n",
       "     <cc:Agent>\n",
       "      <dc:title>Matplotlib v3.3.3, https://matplotlib.org/</dc:title>\n",
       "     </cc:Agent>\n",
       "    </dc:creator>\n",
       "   </cc:Work>\n",
       "  </rdf:RDF>\n",
       " </metadata>\n",
       " <defs>\n",
       "  <style type=\"text/css\">*{stroke-linecap:butt;stroke-linejoin:round;}</style>\n",
       " </defs>\n",
       " <g id=\"figure_1\">\n",
       "  <g id=\"patch_1\">\n",
       "   <path d=\"M 0 302.4 \n",
       "L 446.4 302.4 \n",
       "L 446.4 0 \n",
       "L 0 0 \n",
       "z\n",
       "\" style=\"fill:#ffffff;\"/>\n",
       "  </g>\n",
       "  <g id=\"axes_1\">\n",
       "   <g id=\"LineCollection_1\">\n",
       "    <path clip-path=\"url(#p298c4e678c)\" d=\"M 224.781046 151.641658 \n",
       "L 419.563636 109.705372 \n",
       "\" style=\"fill:none;stroke:#000000;\"/>\n",
       "    <path clip-path=\"url(#p298c4e678c)\" d=\"M 224.781046 151.641658 \n",
       "L 375.46999 240.847787 \n",
       "\" style=\"fill:none;stroke:#000000;\"/>\n",
       "    <path clip-path=\"url(#p298c4e678c)\" d=\"M 224.781046 151.641658 \n",
       "L 180.144834 282.109091 \n",
       "\" style=\"fill:none;stroke:#000000;\"/>\n",
       "    <path clip-path=\"url(#p298c4e678c)\" d=\"M 224.781046 151.641658 \n",
       "L 26.836364 192.531325 \n",
       "\" style=\"fill:none;stroke:#000000;\"/>\n",
       "    <path clip-path=\"url(#p298c4e678c)\" d=\"M 224.781046 151.641658 \n",
       "L 69.753603 61.311853 \n",
       "\" style=\"fill:none;stroke:#000000;\"/>\n",
       "    <path clip-path=\"url(#p298c4e678c)\" d=\"M 224.781046 151.641658 \n",
       "L 266.502111 20.290909 \n",
       "\" style=\"fill:none;stroke:#000000;\"/>\n",
       "    <path clip-path=\"url(#p298c4e678c)\" d=\"M 419.563636 109.705372 \n",
       "L 375.46999 240.847787 \n",
       "\" style=\"fill:none;stroke:#000000;\"/>\n",
       "    <path clip-path=\"url(#p298c4e678c)\" d=\"M 419.563636 109.705372 \n",
       "L 266.502111 20.290909 \n",
       "\" style=\"fill:none;stroke:#000000;\"/>\n",
       "    <path clip-path=\"url(#p298c4e678c)\" d=\"M 375.46999 240.847787 \n",
       "L 180.144834 282.109091 \n",
       "\" style=\"fill:none;stroke:#000000;\"/>\n",
       "    <path clip-path=\"url(#p298c4e678c)\" d=\"M 180.144834 282.109091 \n",
       "L 26.836364 192.531325 \n",
       "\" style=\"fill:none;stroke:#000000;\"/>\n",
       "    <path clip-path=\"url(#p298c4e678c)\" d=\"M 26.836364 192.531325 \n",
       "L 69.753603 61.311853 \n",
       "\" style=\"fill:none;stroke:#000000;\"/>\n",
       "    <path clip-path=\"url(#p298c4e678c)\" d=\"M 69.753603 61.311853 \n",
       "L 266.502111 20.290909 \n",
       "\" style=\"fill:none;stroke:#000000;\"/>\n",
       "   </g>\n",
       "   <g id=\"PathCollection_1\">\n",
       "    <defs>\n",
       "     <path d=\"M 0 8.660254 \n",
       "C 2.296726 8.660254 4.499694 7.747755 6.123724 6.123724 \n",
       "C 7.747755 4.499694 8.660254 2.296726 8.660254 0 \n",
       "C 8.660254 -2.296726 7.747755 -4.499694 6.123724 -6.123724 \n",
       "C 4.499694 -7.747755 2.296726 -8.660254 0 -8.660254 \n",
       "C -2.296726 -8.660254 -4.499694 -7.747755 -6.123724 -6.123724 \n",
       "C -7.747755 -4.499694 -8.660254 -2.296726 -8.660254 0 \n",
       "C -8.660254 2.296726 -7.747755 4.499694 -6.123724 6.123724 \n",
       "C -4.499694 7.747755 -2.296726 8.660254 0 8.660254 \n",
       "z\n",
       "\" id=\"mef0111859a\" style=\"stroke:#1f78b4;\"/>\n",
       "    </defs>\n",
       "    <g clip-path=\"url(#p298c4e678c)\">\n",
       "     <use style=\"fill:#1f78b4;stroke:#1f78b4;\" x=\"224.781046\" xlink:href=\"#mef0111859a\" y=\"151.641658\"/>\n",
       "     <use style=\"fill:#1f78b4;stroke:#1f78b4;\" x=\"419.563636\" xlink:href=\"#mef0111859a\" y=\"109.705372\"/>\n",
       "     <use style=\"fill:#1f78b4;stroke:#1f78b4;\" x=\"375.46999\" xlink:href=\"#mef0111859a\" y=\"240.847787\"/>\n",
       "     <use style=\"fill:#1f78b4;stroke:#1f78b4;\" x=\"180.144834\" xlink:href=\"#mef0111859a\" y=\"282.109091\"/>\n",
       "     <use style=\"fill:#1f78b4;stroke:#1f78b4;\" x=\"26.836364\" xlink:href=\"#mef0111859a\" y=\"192.531325\"/>\n",
       "     <use style=\"fill:#1f78b4;stroke:#1f78b4;\" x=\"69.753603\" xlink:href=\"#mef0111859a\" y=\"61.311853\"/>\n",
       "     <use style=\"fill:#1f78b4;stroke:#1f78b4;\" x=\"266.502111\" xlink:href=\"#mef0111859a\" y=\"20.290909\"/>\n",
       "    </g>\n",
       "   </g>\n",
       "  </g>\n",
       " </g>\n",
       " <defs>\n",
       "  <clipPath id=\"p298c4e678c\">\n",
       "   <rect height=\"288\" width=\"432\" x=\"7.2\" y=\"7.2\"/>\n",
       "  </clipPath>\n",
       " </defs>\n",
       "</svg>\n"
      ],
      "text/plain": [
       "<Figure size 432x288 with 1 Axes>"
      ]
     },
     "metadata": {},
     "output_type": "display_data"
    }
   ],
   "source": [
    "nx.draw(G2)"
   ]
  },
  {
   "cell_type": "code",
   "execution_count": 30,
   "metadata": {},
   "outputs": [
    {
     "data": {
      "text/plain": [
       "7.0"
      ]
     },
     "execution_count": 30,
     "metadata": {},
     "output_type": "execute_result"
    }
   ],
   "source": [
    "nx.graph_edit_distance(G1, G2, roots=(0, 0))"
   ]
  },
  {
   "cell_type": "markdown",
   "metadata": {},
   "source": [
    "## SimRank\n",
    "\n",
    "SimRank is a similarity metric that says “two objects are considered to be similar if they are referenced by similar objects."
   ]
  },
  {
   "cell_type": "code",
   "execution_count": 35,
   "metadata": {},
   "outputs": [],
   "source": [
    "from numpy import array\n",
    "G = nx.cycle_graph(4)\n",
    "sim = nx.simrank_similarity(G)\n",
    "lol = [[sim[u][v] for v in sorted(sim[u])] for u in sorted(sim)]\n",
    "sim_array = array(lol)"
   ]
  },
  {
   "cell_type": "code",
   "execution_count": 36,
   "metadata": {},
   "outputs": [
    {
     "data": {
      "text/plain": [
       "array([[1.        , 0.        , 0.81818182, 0.        ],\n",
       "       [0.        , 1.        , 0.        , 0.81818182],\n",
       "       [0.81818182, 0.        , 1.        , 0.        ],\n",
       "       [0.        , 0.81818182, 0.        , 1.        ]])"
      ]
     },
     "execution_count": 36,
     "metadata": {},
     "output_type": "execute_result"
    }
   ],
   "source": [
    "sim_array"
   ]
  },
  {
   "cell_type": "code",
   "execution_count": null,
   "metadata": {},
   "outputs": [],
   "source": []
  }
 ],
 "metadata": {
  "kernelspec": {
   "display_name": "Python 3 (ipykernel)",
   "language": "python",
   "name": "python3"
  },
  "language_info": {
   "codemirror_mode": {
    "name": "ipython",
    "version": 3
   },
   "file_extension": ".py",
   "mimetype": "text/x-python",
   "name": "python",
   "nbconvert_exporter": "python",
   "pygments_lexer": "ipython3",
   "version": "3.9.7"
  }
 },
 "nbformat": 4,
 "nbformat_minor": 2
}
