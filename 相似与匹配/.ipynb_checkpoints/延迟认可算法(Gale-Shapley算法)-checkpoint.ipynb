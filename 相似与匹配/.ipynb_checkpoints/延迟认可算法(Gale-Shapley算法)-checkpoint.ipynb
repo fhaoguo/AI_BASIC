{
 "cells": [
  {
   "cell_type": "markdown",
   "metadata": {},
   "source": [
    "## 问题描述\n",
    "“稳定婚姻问题”在生活中是一个典型的问题,通俗地可叙述为:当前有N位男生和N位女生最后要组成稳定的婚姻家庭,过程开始之前男生和女生在各自的心目中都按照喜爱程度对N位异性有了各自的排序.然后开始选择自己的对象。\n",
    "\n",
    "我们假设男生有两个，男1和男2，女生也有两个女1和女2。假设我们组成的CP是男1和女2，男2和女1，但是呢，在女生当中，男1更喜欢女1，同样在男生当中女1也更喜欢男1。也就是说和自己的对象相比，他们对彼此的喜欢要大于各自的伴侣。那么这种情况的CP就是不稳定的，时间长了有可能会出问题。为了简化问题模型，我们假设一定会出问题，男1最终会和女1在一起，他们各自和自己现在的CP”分手“。\n",
    "\n",
    "我们希望能够把N男和N女组成CP，并且希望他们都不会分手，也就是说整个局面是稳定的。\n",
    "\n",
    "## 算法概述\n",
    "\n",
    "1962年，美国数学家David Gale和Lloyd Shapley发明了一种寻找稳定婚姻的策略，人们称之为延迟认可算法（Gale-Shapley算法）。 \n",
    "先对所有男士进行落选标记，称其为自由男。当存在自由男时，进行以下操作： \n",
    "1. 每一位自由男在所有尚未拒绝她的女士中选择一位被他排名最优先的女士； \n",
    "2. 每一位女士将正在追求她的自由男与其当前男友进行比较，选择其中排名优先的男士作为其男友，即若自由男优于当前男友，则抛弃前男友；否则保留其男友，拒绝自由男。 \n",
    "3. 若某男士被其女友抛弃，重新变成自由男。\n",
    "\n",
    "\n",
    "举个例子: 下表是男生和女生分别对异性在心里的钟意排序，编程输出最终的配对结果 \n",
    "\n",
    "![](./images/cp.png)"
   ]
  },
  {
   "cell_type": "code",
   "execution_count": 4,
   "metadata": {},
   "outputs": [
    {
     "name": "stdout",
     "output_type": "stream",
     "text": [
      "[['x', 'a'], ['y', 'b'], ['z', 'c']]\n"
     ]
    }
   ],
   "source": [
    "# 用0,1代表配对情况\n",
    "# 查找女生单身状况\n",
    "def find_Girl_state(girl_Name):\n",
    "    for girl in girls_loveSort:\n",
    "        if girl[0] == girl_Name:\n",
    "            return girl[-1]\n",
    "\n",
    "\n",
    "# 两人牵手成功\n",
    "def marry(man, woman):\n",
    "    man[-1] = 1\n",
    "    for girl in girls_loveSort:\n",
    "        if girl[0] == woman:\n",
    "            girl[-1] = 1\n",
    "    for man_Situation in love_Situation:\n",
    "        if man_Situation[0] == man[0]:\n",
    "            man_Situation[1] = woman\n",
    "\n",
    "\n",
    "# 两人分手\n",
    "def divorce(old_man):\n",
    "    for man in boys_loveSort:\n",
    "        if man[0] == old_man:\n",
    "            man[-1] = 0\n",
    "    for man2 in love_Situation:\n",
    "        if man2[0] == old_man:\n",
    "            man2[1] = \"no girl\"\n",
    "\n",
    "\n",
    "# 两个男人竞争，看女人更喜欢谁\n",
    "def complete(man, woman):\n",
    "    old_Man = \"\"\n",
    "    new_index = 0\n",
    "    old_index = 0\n",
    "    for partner in love_Situation:\n",
    "        if partner[1] == woman:\n",
    "            old_Man = partner[0]\n",
    "    for girl in girls_loveSort:\n",
    "        if girl[0] == woman:\n",
    "            for index, husband in enumerate(girl):\n",
    "                if husband == old_Man:\n",
    "                    old_index = index\n",
    "                elif husband == man[0]:\n",
    "                    new_index = index\n",
    "                else:\n",
    "                    pass\n",
    "    return [new_index < old_index, old_Man]\n",
    "\n",
    "row_Number = 3\n",
    "col_Number = 4\n",
    "\n",
    "boys_loveSort = [['x', 'a', 'b', 'c', 0], ['y','b', 'a', 'c', 0], ['z', 'a', 'b', 'c', 0]]\n",
    "girls_loveSort = [['a', 'y', 'x', 'z', 0], ['b', 'x', 'y', 'z', 0], ['c', 'x', 'y', 'z', 0]]\n",
    "love_Situation = []\n",
    "\n",
    "for item in range(row_Number):\n",
    "    a, *b = boys_loveSort[item]\n",
    "    love_Situation.extend([[a, \"no girl\"]])\n",
    "\n",
    "# 开始配对\n",
    "for item in range(1, col_Number):\n",
    "    for boy in boys_loveSort:\n",
    "        if boy[-1] == 1:\n",
    "            continue\n",
    "        girl_State = find_Girl_state(boy[item])\n",
    "        if girl_State == 0:\n",
    "            marry(boy, boy[item])\n",
    "        elif complete(boy, boy[item])[0] == True:\n",
    "            marry(boy, boy[item])\n",
    "            divorce(complete(boy, boy[item])[1])\n",
    "        else:\n",
    "            pass\n",
    "# 结果\n",
    "print(love_Situation)"
   ]
  },
  {
   "cell_type": "code",
   "execution_count": null,
   "metadata": {},
   "outputs": [],
   "source": []
  }
 ],
 "metadata": {
  "kernelspec": {
   "display_name": "Python 3 (ipykernel)",
   "language": "python",
   "name": "python3"
  },
  "language_info": {
   "codemirror_mode": {
    "name": "ipython",
    "version": 3
   },
   "file_extension": ".py",
   "mimetype": "text/x-python",
   "name": "python",
   "nbconvert_exporter": "python",
   "pygments_lexer": "ipython3",
   "version": "3.9.7"
  }
 },
 "nbformat": 4,
 "nbformat_minor": 2
}
