{
 "cells": [
  {
   "cell_type": "markdown",
   "id": "12fda794",
   "metadata": {},
   "source": [
    "# 使用PyTorch定义网络模型，对随机生成的200个二分类样本进行学习和预测\n",
    "## 1 导包准备数据"
   ]
  },
  {
   "cell_type": "code",
   "execution_count": 1,
   "id": "0f5c9c53",
   "metadata": {},
   "outputs": [],
   "source": [
    "from sklearn.datasets import make_moons\n",
    "import torch\n",
    "import numpy as np\n",
    "import matplotlib.pyplot as plt\n",
    "%matplotlib inline"
   ]
  },
  {
   "cell_type": "code",
   "execution_count": 2,
   "id": "7bcc250e",
   "metadata": {},
   "outputs": [
    {
     "name": "stdout",
     "output_type": "stream",
     "text": [
      "[[ 0.435018    0.30610664]\n",
      " [ 1.43945224 -0.09135623]\n",
      " [ 0.06755957  0.67312595]\n",
      " [ 0.31212183  0.05179172]\n",
      " [-0.09762979 -0.0955339 ]\n",
      " [ 1.27813538 -0.71572837]\n",
      " [ 0.12245535  1.0587108 ]\n",
      " [ 0.47114767  0.69480988]\n",
      " [-0.04620811  0.12777177]\n",
      " [-0.13416591  0.26590921]\n",
      " [-0.20733425 -0.12160184]\n",
      " [ 0.80424597 -0.11893613]\n",
      " [ 0.23817489 -0.22988587]\n",
      " [ 0.28640076  0.98905328]\n",
      " [ 0.32839983  0.44072682]\n",
      " [ 1.32090709 -0.88671682]\n",
      " [-1.03704101  0.61791898]\n",
      " [ 0.39073766 -0.32451606]\n",
      " [ 1.67890755  0.42637495]\n",
      " [-0.78725591  0.40904886]\n",
      " [ 1.96577789  0.61548428]\n",
      " [ 1.33739934 -0.47522962]\n",
      " [-0.00499648  1.14205822]\n",
      " [-0.87928471  1.26108455]\n",
      " [-1.22468754  0.18177208]\n",
      " [ 0.59113289  0.84819287]\n",
      " [ 1.36536059 -0.07863534]\n",
      " [ 0.91342347  0.57793407]\n",
      " [-0.84662737  0.49496337]\n",
      " [ 1.67868042 -0.26382089]\n",
      " [ 1.94760477  0.52176962]\n",
      " [ 1.96962082 -0.37169676]\n",
      " [ 0.88990353 -0.49863825]\n",
      " [ 0.23022009 -0.58860587]\n",
      " [-1.14885946  0.51640428]\n",
      " [-0.85127032  0.9914816 ]\n",
      " [-0.83411534  0.48692421]\n",
      " [ 2.03511439  0.14789109]\n",
      " [ 1.94581262  0.18601601]\n",
      " [ 0.15918155  0.12289424]\n",
      " [-1.06503785  0.61096075]\n",
      " [ 0.09526544  0.40839596]\n",
      " [ 0.04118724  0.87071274]\n",
      " [ 0.69420531  0.76407752]\n",
      " [ 0.12867727  1.07129663]\n",
      " [ 0.357365    1.04347068]\n",
      " [-0.98813534 -0.01559056]\n",
      " [-0.56981638  0.67821173]\n",
      " [ 1.43107908 -0.36072989]\n",
      " [ 0.35887347  0.37555887]\n",
      " [ 0.10577429  0.14292489]\n",
      " [ 1.80828631 -0.18225755]\n",
      " [ 2.01478409  0.45989585]\n",
      " [ 0.36648076 -0.51587068]\n",
      " [ 1.36349424 -0.02973138]\n",
      " [ 0.60311008  0.67070025]\n",
      " [-0.63134829  0.7616978 ]\n",
      " [ 1.92046623  0.32282077]\n",
      " [ 1.25310219 -0.55075603]\n",
      " [ 0.79037683  0.76490443]\n",
      " [ 0.1816138  -0.02723597]\n",
      " [ 0.6096021  -0.4252977 ]\n",
      " [-0.6870069   0.37911149]\n",
      " [-0.74421582  0.27086904]\n",
      " [-0.61066565  1.27455662]\n",
      " [ 2.74272276  0.57538106]\n",
      " [ 0.51910914 -0.2384296 ]\n",
      " [ 1.03162664  0.32346667]\n",
      " [ 1.24661945  0.1127982 ]\n",
      " [ 2.35499785  0.34292325]\n",
      " [-1.17222454  0.31353488]\n",
      " [ 1.97892144  0.08433192]\n",
      " [ 2.02543576  0.15315787]\n",
      " [ 1.36463788 -0.43380255]\n",
      " [-0.1712293   0.11741914]\n",
      " [-0.54435488  0.51195144]\n",
      " [-0.34972432  0.32664545]\n",
      " [ 0.79051419  0.63009036]\n",
      " [ 1.98599284  0.47629648]\n",
      " [ 0.992875    0.28114532]\n",
      " [-0.36922479  1.09191384]\n",
      " [ 0.84175241 -0.39526726]\n",
      " [ 0.57509269 -0.26118205]\n",
      " [ 1.18266866 -0.81729843]\n",
      " [ 1.74048876 -0.17727221]\n",
      " [ 0.34951807 -0.46091425]\n",
      " [ 1.6433263  -0.27141242]\n",
      " [ 0.98486809 -0.64076732]\n",
      " [ 0.27596619 -0.47658108]\n",
      " [-0.01989086  0.11268426]\n",
      " [ 0.94805056 -0.2623211 ]\n",
      " [ 1.16545506 -0.49448243]\n",
      " [ 1.95852235  0.51466456]\n",
      " [-0.81774057  0.76213313]\n",
      " [-0.0850003   0.42736877]\n",
      " [ 1.36402991 -0.75376007]\n",
      " [ 2.05631563 -0.33746381]\n",
      " [ 0.83299665  0.22667963]\n",
      " [ 1.75167037 -0.26722045]\n",
      " [-0.56191459  0.79544431]\n",
      " [ 1.91824884 -0.02306448]\n",
      " [ 0.83516275  0.64585002]\n",
      " [ 1.76397143  0.16560414]\n",
      " [ 0.71421696  1.1743062 ]\n",
      " [-0.03804308  0.82384642]\n",
      " [ 0.09061412 -0.20691495]\n",
      " [-0.49528034  1.09290228]\n",
      " [ 0.57500921  0.79564919]\n",
      " [-0.7143172   0.31234677]\n",
      " [ 0.82426772  0.33567844]\n",
      " [ 1.03794639  0.28705797]\n",
      " [-0.87316602  0.37097992]\n",
      " [ 1.02206965  0.08799086]\n",
      " [ 0.98231969 -0.24887745]\n",
      " [ 0.19893461 -0.30199201]\n",
      " [ 0.59969823  0.92082839]\n",
      " [ 0.2945232   0.77687314]\n",
      " [ 1.30904798 -0.3106205 ]\n",
      " [ 0.56923869 -0.03920632]\n",
      " [-0.61709261  0.78238714]\n",
      " [ 0.02904389  1.14617429]\n",
      " [ 0.29400196 -0.74302007]\n",
      " [ 0.58452888  0.53563071]\n",
      " [-0.29590091  0.97710255]\n",
      " [ 1.26979035 -0.35249564]\n",
      " [ 0.03556914  0.27080983]\n",
      " [ 2.15397865 -0.15221341]\n",
      " [ 0.45004096  0.77525051]\n",
      " [ 0.19918753  0.96234109]\n",
      " [ 0.90188229  0.44869265]\n",
      " [-0.88410711  0.29205438]\n",
      " [ 0.63543611 -0.30616691]\n",
      " [-0.32326096  1.34241637]\n",
      " [ 0.17860752  1.36923311]\n",
      " [ 0.47603753 -0.03523768]\n",
      " [ 0.34680445  0.19883899]\n",
      " [-1.03768521  0.59884224]\n",
      " [ 0.4806759  -0.05724602]\n",
      " [-0.03644793  1.01625431]\n",
      " [ 1.96556773  0.47184956]\n",
      " [ 1.06582921  0.27822351]\n",
      " [ 0.97121411 -0.51249118]\n",
      " [ 0.75980595 -0.1355196 ]\n",
      " [-0.51338729  0.7079553 ]\n",
      " [ 0.18512747 -0.18094794]\n",
      " [ 2.11196181  0.14906101]\n",
      " [ 0.00642748  0.95313789]\n",
      " [ 1.07086359  0.10335821]\n",
      " [ 0.05913605  0.9584338 ]\n",
      " [ 1.86457816  0.21103352]\n",
      " [ 0.81351754 -0.46931863]\n",
      " [-0.86920035 -0.10247571]\n",
      " [ 0.42980153  0.96701219]\n",
      " [ 0.18591324  1.01504641]\n",
      " [ 0.78830631 -0.41182276]\n",
      " [-0.40980476  0.61838315]\n",
      " [-0.24207612  0.96074228]\n",
      " [-0.34017099  1.01426872]\n",
      " [ 0.16742021 -0.17886799]\n",
      " [-0.87376296  0.50082293]\n",
      " [ 0.23394663  0.50325057]\n",
      " [ 1.34450272 -0.48948927]\n",
      " [ 0.7844702   0.4641021 ]\n",
      " [ 0.09117741 -0.33032745]\n",
      " [ 1.70467962 -0.19038957]\n",
      " [ 0.44722569 -0.28086546]\n",
      " [ 1.63477197 -0.44378687]\n",
      " [-0.48431708  0.68504332]\n",
      " [ 0.63871046 -0.18580244]\n",
      " [ 1.25275636  0.28464756]\n",
      " [-1.12055286  0.55526275]\n",
      " [-0.64673104  0.16325026]\n",
      " [ 0.84451081  0.69974757]\n",
      " [ 0.87802081 -0.74024758]\n",
      " [-1.0058665   0.14999431]\n",
      " [-0.78658436  0.62884353]\n",
      " [ 0.82185726  0.32786014]\n",
      " [ 1.82127509  0.30410152]\n",
      " [ 0.15421074  0.3430262 ]\n",
      " [ 1.28515997 -0.18036792]\n",
      " [-0.45600303  0.58244203]\n",
      " [ 1.04710688 -0.45309133]\n",
      " [ 0.50205723 -0.84929334]\n",
      " [ 0.85208148 -0.88517752]\n",
      " [ 0.31317708 -0.18897937]\n",
      " [ 1.62929146 -0.58076788]\n",
      " [ 0.57307835  0.59571604]\n",
      " [-1.01196395  0.43789612]\n",
      " [ 0.41608372  0.69671155]\n",
      " [ 0.41435096  1.08898361]\n",
      " [ 0.22559626  0.83081383]\n",
      " [ 1.77716317 -0.42032218]\n",
      " [ 0.60001553 -0.17564208]\n",
      " [-0.33709863  0.71631745]\n",
      " [ 0.17079559  0.51127215]\n",
      " [-0.07636556  1.07544525]\n",
      " [ 0.63459599 -0.5915997 ]\n",
      " [-0.24751748  0.72241894]\n",
      " [ 0.45180194 -0.53261775]\n",
      " [ 0.64086162  0.6702666 ]]\n",
      "[0 1 1 1 1 1 0 0 1 1 1 0 1 0 0 1 0 1 1 0 1 1 0 0 0 0 1 0 0 1 1 1 1 1 0 0 0\n",
      " 1 1 1 0 1 0 0 0 0 0 0 1 1 1 1 1 1 1 0 0 1 1 0 1 1 0 0 0 1 1 0 0 1 0 1 1 1\n",
      " 1 0 0 0 1 0 0 1 1 1 1 1 1 1 1 1 1 1 1 0 1 1 1 0 1 0 1 0 1 0 0 1 0 0 0 0 0\n",
      " 0 0 1 1 0 0 1 0 0 0 1 0 0 1 1 1 0 0 0 0 1 0 0 1 1 0 1 0 1 0 1 0 0 1 1 0 0\n",
      " 0 1 1 0 0 0 0 0 0 0 1 0 0 1 0 1 1 1 1 0 1 0 0 0 0 1 0 0 0 1 1 1 0 1 1 1 1\n",
      " 1 0 0 0 0 0 1 1 0 1 0 1 0 1 0]\n"
     ]
    }
   ],
   "source": [
    "# 使用make_moon内置生成模型，随机产生二分类数据，200个样本\n",
    "np.random.seed(33)\n",
    "X, y = make_moons(200, noise=0.2)\n",
    "print(X)\n",
    "print(y)"
   ]
  },
  {
   "cell_type": "code",
   "execution_count": 5,
   "id": "bb12f434",
   "metadata": {
    "scrolled": true
   },
   "outputs": [
    {
     "data": {
      "image/png": "[encoded data removed]",
      "text/plain": [
       "<Figure size 432x288 with 1 Axes>"
      ]
     },
     "metadata": {
      "needs_background": "light"
     },
     "output_type": "display_data"
    }
   ],
   "source": [
    "#cm = plt.cm.get_cmap('RdYlBu')\n",
    "#plt.scatter(X[:, 0], X[:, 1], s=40, cmap=cm)\n",
    "plt.scatter(X[:, 0], X[:, 1], s=40)\n",
    "plt.show()"
   ]
  },
  {
   "cell_type": "code",
   "execution_count": 8,
   "id": "080d01ca",
   "metadata": {},
   "outputs": [],
   "source": [
    "X = torch.from_numpy(X).type(torch.FloatTensor)\n",
    "y = torch.from_numpy(y).type(torch.LongTensor)"
   ]
  },
  {
   "cell_type": "markdown",
   "id": "9bcb114e",
   "metadata": {},
   "source": [
    "## 2 模型\n",
    "### 2.1 使用PyTorch定义网络模型"
   ]
  },
  {
   "cell_type": "code",
   "execution_count": 7,
   "id": "88200611",
   "metadata": {},
   "outputs": [],
   "source": [
    "import torch.nn as nn\n",
    "import torch.nn.functional as F"
   ]
  },
  {
   "cell_type": "code",
   "execution_count": 16,
   "id": "d542aab4",
   "metadata": {},
   "outputs": [],
   "source": [
    "class Net(nn.Module):\n",
    "    def __init__(self):\n",
    "        super(Net, self).__init__()\n",
    "        # 定义第一个FC层\n",
    "        self.fc1 = nn.Linear(2, 100)\n",
    "        # 定义第二个FC层\n",
    "        self.fc2 = nn.Linear(100, 2)\n",
    "        \n",
    "    def forward(self, x):\n",
    "        x = self.fc1(x)\n",
    "        x = F.tanh(x)\n",
    "        x = self.fc2(x)\n",
    "        \n",
    "        return x\n",
    "    \n",
    "    def predict(self, x):\n",
    "        pred = self.forward(x)\n",
    "        ans = []\n",
    "        for t in pred:\n",
    "            if t[0] > t[1]:\n",
    "                ans.append(0)\n",
    "            else:\n",
    "                ans.append(1)\n",
    "                \n",
    "        return torch.tensor(ans)"
   ]
  },
  {
   "cell_type": "markdown",
   "id": "2902e840",
   "metadata": {},
   "source": [
    "### 2.2 初始化模型"
   ]
  },
  {
   "cell_type": "code",
   "execution_count": 17,
   "id": "bd0ad44d",
   "metadata": {},
   "outputs": [],
   "source": [
    "model = Net()"
   ]
  },
  {
   "cell_type": "markdown",
   "id": "7b636e61",
   "metadata": {},
   "source": [
    "## 3 定义评估标准"
   ]
  },
  {
   "cell_type": "code",
   "execution_count": 18,
   "id": "ac6ecb1f",
   "metadata": {},
   "outputs": [],
   "source": [
    "criterion = nn.CrossEntropyLoss()"
   ]
  },
  {
   "cell_type": "markdown",
   "id": "d7ad5a18",
   "metadata": {},
   "source": [
    "## 4 定义优化器"
   ]
  },
  {
   "cell_type": "code",
   "execution_count": 19,
   "id": "ed9c59bd",
   "metadata": {},
   "outputs": [
    {
     "name": "stdout",
     "output_type": "stream",
     "text": [
      "\n",
      "Parameters:502\n"
     ]
    }
   ],
   "source": [
    "print(f'\\nParameters:{np.sum([param.numel() for param in model.parameters()])}')"
   ]
  },
  {
   "cell_type": "code",
   "execution_count": 20,
   "id": "c32bda80",
   "metadata": {},
   "outputs": [],
   "source": [
    "optimizer = torch.optim.Adam(model.parameters(), lr=0.01)"
   ]
  },
  {
   "cell_type": "markdown",
   "id": "299f7e46",
   "metadata": {},
   "source": [
    "## 5 训练"
   ]
  },
  {
   "cell_type": "code",
   "execution_count": 22,
   "id": "e4963a6b",
   "metadata": {},
   "outputs": [],
   "source": [
    "epochs = 1000\n",
    "losses = []\n",
    "for i in range(epochs):\n",
    "    # 对输入的X进行预测\n",
    "    y_pred = model.forward(X)\n",
    "    # 得到损失\n",
    "    loss = criterion(y_pred, y)\n",
    "    losses.append(loss.item())\n",
    "    # 清空之前的梯度\n",
    "    optimizer.zero_grad()\n",
    "    # 反向传播\n",
    "    loss.backward()\n",
    "    # 调整权重\n",
    "    optimizer.step()"
   ]
  },
  {
   "cell_type": "markdown",
   "id": "bbda205f",
   "metadata": {},
   "source": [
    "## 6 预测"
   ]
  },
  {
   "cell_type": "code",
   "execution_count": 23,
   "id": "6d5ee63a",
   "metadata": {
    "scrolled": true
   },
   "outputs": [
    {
     "name": "stdout",
     "output_type": "stream",
     "text": [
      "tensor([0, 1, 1, 1, 1, 1, 0, 0, 1, 1, 1, 0, 1, 0, 0, 1, 0, 1, 1, 0, 1, 1, 0, 0,\n",
      "        0, 0, 1, 0, 0, 1, 1, 1, 1, 1, 0, 0, 0, 1, 1, 1, 0, 1, 0, 0, 0, 0, 0, 0,\n",
      "        1, 0, 1, 1, 1, 1, 1, 0, 0, 1, 1, 0, 1, 1, 0, 0, 0, 1, 1, 0, 0, 1, 0, 1,\n",
      "        1, 1, 1, 0, 0, 0, 1, 0, 0, 1, 1, 1, 1, 1, 1, 1, 1, 1, 1, 1, 1, 0, 1, 1,\n",
      "        1, 0, 1, 0, 1, 0, 1, 0, 0, 1, 0, 0, 0, 0, 0, 0, 0, 1, 1, 0, 0, 1, 0, 0,\n",
      "        0, 1, 0, 0, 1, 1, 1, 0, 0, 0, 0, 1, 0, 0, 1, 1, 0, 1, 0, 1, 0, 1, 0, 0,\n",
      "        1, 1, 0, 0, 0, 1, 1, 0, 0, 0, 0, 0, 0, 0, 1, 0, 1, 1, 0, 1, 1, 1, 1, 0,\n",
      "        1, 0, 0, 0, 0, 1, 0, 0, 0, 1, 1, 1, 0, 1, 1, 1, 1, 1, 0, 0, 0, 0, 0, 1,\n",
      "        1, 0, 1, 0, 1, 0, 1, 0])\n"
     ]
    },
    {
     "name": "stderr",
     "output_type": "stream",
     "text": [
      "/Users/fenghaoguo/opt/anaconda3/envs/p39/lib/python3.9/site-packages/torch/nn/functional.py:1933: UserWarning: nn.functional.tanh is deprecated. Use torch.tanh instead.\n",
      "  warnings.warn(\"nn.functional.tanh is deprecated. Use torch.tanh instead.\")\n"
     ]
    }
   ],
   "source": [
    "from sklearn.metrics import accuracy_score\n",
    "print(model.predict(X))"
   ]
  },
  {
   "cell_type": "code",
   "execution_count": 24,
   "id": "fc6477fe",
   "metadata": {},
   "outputs": [
    {
     "name": "stdout",
     "output_type": "stream",
     "text": [
      "0.99\n"
     ]
    },
    {
     "name": "stderr",
     "output_type": "stream",
     "text": [
      "/Users/fenghaoguo/opt/anaconda3/envs/p39/lib/python3.9/site-packages/torch/nn/functional.py:1933: UserWarning: nn.functional.tanh is deprecated. Use torch.tanh instead.\n",
      "  warnings.warn(\"nn.functional.tanh is deprecated. Use torch.tanh instead.\")\n"
     ]
    }
   ],
   "source": [
    "print(accuracy_score(model.predict(X), y))"
   ]
  },
  {
   "cell_type": "markdown",
   "id": "570e3a5a",
   "metadata": {},
   "source": [
    "## 7 绘制决策面"
   ]
  },
  {
   "cell_type": "code",
   "execution_count": 25,
   "id": "398f537b",
   "metadata": {},
   "outputs": [],
   "source": [
    "def predict(x):\n",
    "    x = torch.from_numpy(x).type(torch.FloatTensor)\n",
    "    ans = model.predict(x)\n",
    "    return ans.numpy()"
   ]
  },
  {
   "cell_type": "code",
   "execution_count": 29,
   "id": "834e226b",
   "metadata": {},
   "outputs": [],
   "source": [
    "def plot_decision_boundary(pred_func, X, y):\n",
    "    # Set min and max values and give it some padding\n",
    "    x_min, x_max = X[:,0].min() - .5, X[:, 0].max() + .5\n",
    "    y_min, y_max = X[:,1].min() - .5, X[:, 1].max() + .5\n",
    "    h = 0.01\n",
    "    # 计算决策面\n",
    "    xx, yy = np.meshgrid(np.arange(x_min, x_max, h), np.arange(y_min, y_max, h))\n",
    "    # np.c_按行连接两个矩阵，就是把两个矩阵左右相加\n",
    "    Z = pred_func(np.c_[xx.ravel(), yy.ravel()])\n",
    "    Z = Z.reshape(xx.shape)\n",
    "    # 绘制分类决策面\n",
    "    plt.contourf(xx, yy, Z, cmap=plt.cm.Spectral)\n",
    "    # 绘制样本点\n",
    "    plt.scatter(X[:, 0], X[:, 1], c=y, cmap=plt.cm.binary)\n",
    "    plt.show()"
   ]
  },
  {
   "cell_type": "code",
   "execution_count": 30,
   "id": "991cccfb",
   "metadata": {},
   "outputs": [
    {
     "name": "stderr",
     "output_type": "stream",
     "text": [
      "/Users/fenghaoguo/opt/anaconda3/envs/p39/lib/python3.9/site-packages/torch/nn/functional.py:1933: UserWarning: nn.functional.tanh is deprecated. Use torch.tanh instead.\n",
      "  warnings.warn(\"nn.functional.tanh is deprecated. Use torch.tanh instead.\")\n"
     ]
    },
    {
     "data": {
      "image/png": "[encoded data removed]",
      "text/plain": [
       "<Figure size 432x288 with 1 Axes>"
      ]
     },
     "metadata": {
      "needs_background": "light"
     },
     "output_type": "display_data"
    }
   ],
   "source": [
    "plot_decision_boundary(lambda x : predict(x) ,X.numpy(), y.numpy())"
   ]
  },
  {
   "cell_type": "code",
   "execution_count": null,
   "id": "a39500f9",
   "metadata": {},
   "outputs": [],
   "source": []
  }
 ],
 "metadata": {
  "kernelspec": {
   "display_name": "Python 3 (ipykernel)",
   "language": "python",
   "name": "python3"
  },
  "language_info": {
   "codemirror_mode": {
    "name": "ipython",
    "version": 3
   },
   "file_extension": ".py",
   "mimetype": "text/x-python",
   "name": "python",
   "nbconvert_exporter": "python",
   "pygments_lexer": "ipython3",
   "version": "3.9.7"
  }
 },
 "nbformat": 4,
 "nbformat_minor": 5
}
