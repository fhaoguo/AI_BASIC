{
 "cells": [
  {
   "cell_type": "markdown",
   "id": "38c312a0",
   "metadata": {},
   "source": [
    "# 交叉熵PyTorch实现"
   ]
  },
  {
   "cell_type": "code",
   "execution_count": 1,
   "id": "ee5e3775",
   "metadata": {},
   "outputs": [],
   "source": [
    "import math\n"
   ]
  },
  {
   "cell_type": "code",
   "execution_count": 2,
   "id": "8fc1fc01",
   "metadata": {},
   "outputs": [],
   "source": [
    "def cross_entropy(true_p, predict_p):\n",
    "    sum = 0.0\n",
    "    for p, q in zip(true_p, predict_p):\n",
    "        sum += p * math.log(q)\n",
    "        \n",
    "    return -sum"
   ]
  },
  {
   "cell_type": "code",
   "execution_count": null,
   "id": "3f0a404b",
   "metadata": {},
   "outputs": [],
   "source": [
    "true = [0, 1, 0]\n",
    "predict_p = [0.212, 0.]"
   ]
  }
 ],
 "metadata": {
  "kernelspec": {
   "display_name": "Python 3 (ipykernel)",
   "language": "python",
   "name": "python3"
  },
  "language_info": {
   "codemirror_mode": {
    "name": "ipython",
    "version": 3
   },
   "file_extension": ".py",
   "mimetype": "text/x-python",
   "name": "python",
   "nbconvert_exporter": "python",
   "pygments_lexer": "ipython3",
   "version": "3.9.7"
  }
 },
 "nbformat": 4,
 "nbformat_minor": 5
}
