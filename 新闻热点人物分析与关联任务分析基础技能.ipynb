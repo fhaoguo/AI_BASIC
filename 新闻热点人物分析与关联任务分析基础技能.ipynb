{
 "cells": [
  {
   "cell_type": "markdown",
   "metadata": {},
   "source": [
    "## 新闻热词分析与关联任务分析"
   ]
  },
  {
   "cell_type": "markdown",
   "metadata": {},
   "source": [
    "我们每天接受到的文字信息中，新闻内容占据了相当的部分。在此次的课程联系中，我们会带着大家完成一个新闻热词的分析与关联人物的分析。"
   ]
  },
  {
   "cell_type": "markdown",
   "metadata": {},
   "source": [
    "经过本次的训练，大家能掌握的能力有：\n",
    "\n",
    "1. 文件读取的方法；\n",
    "2. tf-idf重点单词提取的方法；\n",
    "3. collection Counter的使用"
   ]
  },
  {
   "cell_type": "markdown",
   "metadata": {},
   "source": [
    "## 1. 文件的读取与分词"
   ]
  },
  {
   "cell_type": "markdown",
   "metadata": {},
   "source": [
    "我们的此次使用的文件，存放在 \"datas/articles_9k\"中"
   ]
  },
  {
   "cell_type": "code",
   "execution_count": 1,
   "metadata": {},
   "outputs": [],
   "source": [
    "# use `open()` to get the content from a file\n",
    "content = open('article_9k.txt')"
   ]
  },
  {
   "cell_type": "code",
   "execution_count": 2,
   "metadata": {},
   "outputs": [],
   "source": [
    "CHARACTERS = content.read()"
   ]
  },
  {
   "cell_type": "code",
   "execution_count": 3,
   "metadata": {},
   "outputs": [
    {
     "data": {
      "text/plain": [
       "33425826"
      ]
     },
     "execution_count": 3,
     "metadata": {},
     "output_type": "execute_result"
    }
   ],
   "source": [
    "len(CHARACTERS)"
   ]
  },
  {
   "cell_type": "markdown",
   "metadata": {},
   "source": [
    "## 我们可以看到，一共有3千多万个字"
   ]
  },
  {
   "cell_type": "markdown",
   "metadata": {},
   "source": [
    "## 2. 切割成句子"
   ]
  },
  {
   "cell_type": "code",
   "execution_count": 4,
   "metadata": {},
   "outputs": [
    {
     "data": {
      "text/plain": [
       "'此外自本周6月12日起除小米手机6等15款机型外其余机型已暂停更新发布含开发版体验版内测稳定版暂不受影响以确保工程师可以集中全部精力进行系统优化工作有人猜测这也是将精力主要用到MIUI9的研发之中MI'"
      ]
     },
     "execution_count": 4,
     "metadata": {},
     "output_type": "execute_result"
    }
   ],
   "source": [
    "CHARACTERS[:100]"
   ]
  },
  {
   "cell_type": "markdown",
   "metadata": {},
   "source": [
    "我们可以看出来，这些都是一个一个单字组成的，如果我们要进行文章内容的分析，我们要把这些连起来的单子，切割成句子。"
   ]
  },
  {
   "cell_type": "code",
   "execution_count": 5,
   "metadata": {},
   "outputs": [
    {
     "data": {
      "text/plain": [
       "'此外自本周6月12日起除小米手机6等15款机型外其余机型已暂停更新发布含开发版体验版内测稳定版暂不受影响以确保工程师可以集中全部精力进行系统优化工作有人猜测这也是将精力主要用到MIUI9的研发之中MIUI8去年5月发布距今已有一年有余也是时候更新换代了当然关于MIUI9的确切信息我们还是等待官方消息\\n骁龙835作为唯一通过Windows10桌面平台认证的ARM处理器高通强调不会因为只考虑性能而去屏蔽掉小核心相反他们正联手微软找到一种适合桌面平台的兼顾性能和功耗的完美方案报道称微软已经拿到了一些新的源码以便Windows10更好地理解biglittle架构资料显示骁龙835作为一款集成了CPUGPU基带蓝牙WiFi的SoC比传统的Wintel方案可以节省至少30的PCB空间按计划今年Q4华硕惠普联想将首发骁龙835Win10电脑预计均是二合一形态的产品当然高通骁龙只是个开始未来也许还能见到三星Exynos联发科华为麒麟小米澎湃等进入Windows10桌面平台\\n此前的一加3T搭载的是3400mAh电池DashCharge快充规格为5V4A至于电池缩水可能与刘作虎所说一加手机5要做市面最轻薄大屏旗舰的设定有关按照目前掌握的资料一加手机5拥有55寸1080P三星AMOLED显示屏6G8GBRAM64GB128GBROM双1600万摄像头备货量惊喜根据京东泄露的信息一加5起售价是xx99元应该是在279928992999中的某个\\n这是6月18日在葡萄牙中部大佩德罗冈地区拍摄的被森林大火烧毁的汽车新华社记者张立云摄\\n原标题44岁女子跑深圳约会网友被拒暴雨中裸身奔走深圳交警微博称昨日清晨交警发现有一女子赤裸上身行走在南坪快速上期间还起了轻生年头一辅警发现后赶紧为其披上黄衣并一路劝说她那么事发时到底都发生了些什么呢南都记者带您一起还原现场南都记者在龙岗大队坂田中队见到了辅警刘青发现女生的辅警一位外表高大帅气说话略带些腼腆的90后青年刘青介绍6月16日早上7时36分他正在环城南路附近值勤接到中队关于一位女子裸身进入机动车可能有危险的警情随后骑着小铁骑开始沿路寻找大概花了十多分钟在南坪大道坂田出口往龙岗方向的逆行辅道上发现该女子女子身上一丝不挂地逆车流而行时走时停时坐时躺险象环生刘青停好小铁骑和另外一名巡防员追了上去发现女子的情绪很低落话不多刘青尝试和女子交流劝说女子离开可女子并不愿意'"
      ]
     },
     "execution_count": 5,
     "metadata": {},
     "output_type": "execute_result"
    }
   ],
   "source": [
    "CHARACTERS[:1000]"
   ]
  },
  {
   "cell_type": "markdown",
   "metadata": {},
   "source": [
    "在编程语言中，'\\n'是一个特殊字符，表示一个句子的换行。那么我们可以使用这个特殊标志来对文章进行切词。"
   ]
  },
  {
   "cell_type": "code",
   "execution_count": 6,
   "metadata": {},
   "outputs": [],
   "source": [
    "sentences = CHARACTERS.split('\\n')"
   ]
  },
  {
   "cell_type": "markdown",
   "metadata": {},
   "source": [
    "### 思考：为什么sentences用的是复数的形式？为什么CHARACTERS用的是全部大写的形式？"
   ]
  },
  {
   "cell_type": "code",
   "execution_count": 7,
   "metadata": {},
   "outputs": [
    {
     "data": {
      "text/plain": [
       "89612"
      ]
     },
     "execution_count": 7,
     "metadata": {},
     "output_type": "execute_result"
    }
   ],
   "source": [
    "len(sentences)"
   ]
  },
  {
   "cell_type": "markdown",
   "metadata": {},
   "source": [
    "### 思考：这个89612意味着什么？ "
   ]
  },
  {
   "cell_type": "code",
   "execution_count": 8,
   "metadata": {},
   "outputs": [
    {
     "data": {
      "text/plain": [
       "'此外自本周6月12日起除小米手机6等15款机型外其余机型已暂停更新发布含开发版体验版内测稳定版暂不受影响以确保工程师可以集中全部精力进行系统优化工作有人猜测这也是将精力主要用到MIUI9的研发之中MIUI8去年5月发布距今已有一年有余也是时候更新换代了当然关于MIUI9的确切信息我们还是等待官方消息'"
      ]
     },
     "execution_count": 8,
     "metadata": {},
     "output_type": "execute_result"
    }
   ],
   "source": [
    "sentences[0]"
   ]
  },
  {
   "cell_type": "code",
   "execution_count": 9,
   "metadata": {},
   "outputs": [
    {
     "data": {
      "text/plain": [
       "'图片来自于Flickr亚马逊以竞争性的价格著称它正试图通过发力食品杂货领域吸引更多的中低收入消费者据悉亚马逊已经向接受政府救助的用户提供Prime会员资格折扣同时还参与了向食品券使用者派发食品杂货的试点项目实际上全食超市已经推行降价以试图扭转其1992年上市以来最严重的销量下滑它拥有四家全食365超市其造价和运营比传统全食超市成本更低同时还针对年轻用户提供价格更低的商品亚马逊曾在其西雅图AmazonGo实体店开发出无需排队结账的技术据知情人士称亚马逊正考虑利用该技术扩大成本消减举措这项技术无需出纳员或结账处用户只需智能手机即可支付费用这将帮助亚马逊与其他实体商店区分开来并降低全食超市的劳工成本知情人士称留下来的员工将帮助提升用户的购物体验针对报道一位亚马逊发言人表示该公司并没有将全食超市出纳工作自动化的计划同时也没有裁员计划知情人士表示亚马逊还希望改变全食超市的库存推出自有品牌产品来取代售价过高的产品从而吸引大众这与全食超市利用自有品牌进行价格竞争的举措相符这些改变可能需要长期才能实现而由于收购全食超市的交易预计直到下半年才能完成亚马逊拥有大量的时间来改变战略'"
      ]
     },
     "execution_count": 9,
     "metadata": {},
     "output_type": "execute_result"
    }
   ],
   "source": [
    "sentences[199]"
   ]
  },
  {
   "cell_type": "markdown",
   "metadata": {},
   "source": [
    "## 我们可以看到，文章被分成了一个一个的句子，那么，我们现在进行第一个任务，找到每个句子中的关键词。"
   ]
  },
  {
   "cell_type": "markdown",
   "metadata": {},
   "source": [
    "## 为了切词，我们需要使用jieba这个工具包进行分词。"
   ]
  },
  {
   "cell_type": "markdown",
   "metadata": {},
   "source": [
    "## 例如"
   ]
  },
  {
   "cell_type": "code",
   "execution_count": 10,
   "metadata": {},
   "outputs": [],
   "source": [
    "import jieba"
   ]
  },
  {
   "cell_type": "code",
   "execution_count": 11,
   "metadata": {},
   "outputs": [
    {
     "name": "stderr",
     "output_type": "stream",
     "text": [
      "Building prefix dict from the default dictionary ...\n",
      "Loading model from cache /var/folders/19/dgxwsbgd76728hx577833nx00000gn/T/jieba.cache\n",
      "Loading model cost 0.676 seconds.\n",
      "Prefix dict has been built successfully.\n"
     ]
    },
    {
     "data": {
      "text/plain": [
       "['我', '今天', '不', '知道', '为什么', '迟到', '了']"
      ]
     },
     "execution_count": 11,
     "metadata": {},
     "output_type": "execute_result"
    }
   ],
   "source": [
    "list(jieba.cut('我今天不知道为什么迟到了'))"
   ]
  },
  {
   "cell_type": "code",
   "execution_count": 12,
   "metadata": {},
   "outputs": [],
   "source": [
    "def cut(string):\n",
    "    return list(jieba.cut(string))"
   ]
  },
  {
   "cell_type": "code",
   "execution_count": 13,
   "metadata": {},
   "outputs": [],
   "source": [
    "all_sentences_with_cut_tokens = []"
   ]
  },
  {
   "cell_type": "markdown",
   "metadata": {},
   "source": [
    "### 需要你进行的第1个任务：完成all_sentences_with_cut_tokens"
   ]
  },
  {
   "cell_type": "markdown",
   "metadata": {},
   "source": [
    "在这个任务中，我们需要构建 all_sentence_with_cut_tokens, 该元素为一个列表，列表中的每个元素也是一个列表，这个列表中包含的是一个一个单独的词汇。"
   ]
  },
  {
   "cell_type": "code",
   "execution_count": 14,
   "metadata": {},
   "outputs": [],
   "source": [
    "#you can code here\n",
    "all_sentences_with_cut_tokens = [cut(s) for s in sentences]"
   ]
  },
  {
   "cell_type": "markdown",
   "metadata": {},
   "source": [
    "为了检验你的程序是否正确，请运行以下代码，如果你的代码是正确的，会打印“你做对了”，否则，你报错"
   ]
  },
  {
   "cell_type": "code",
   "execution_count": 15,
   "metadata": {},
   "outputs": [
    {
     "name": "stdout",
     "output_type": "stream",
     "text": [
      "你做对了\n"
     ]
    }
   ],
   "source": [
    "assert isinstance(all_sentences_with_cut_tokens, list)\n",
    "assert isinstance(all_sentences_with_cut_tokens[0], list)\n",
    "assert isinstance(all_sentences_with_cut_tokens[0][0], str)\n",
    "assert all_sentences_with_cut_tokens[0][0] == '此外'\n",
    "print('你做对了')"
   ]
  },
  {
   "cell_type": "markdown",
   "metadata": {},
   "source": [
    "## 任务2：计算每个句子中，每个单词的tf值和idf值"
   ]
  },
  {
   "cell_type": "markdown",
   "metadata": {},
   "source": [
    "所谓，tf值，全称是 “term frequency”，指的是某个单词在一个句子中出现的次数\n",
    "\n",
    "所谓，df值，全称是 \"document frequency\"， 指的是一个单词出现在了多少个文章中\n",
    "\n",
    "而 tf-idf中的“i”，是 inverse的意思，值得是用 df的倒数。\n",
    "\n",
    "> \n",
    "\n",
    "为了保持数据的单位的稳定，我们常常会给idf加上一个log函数，tfidf值就等于 $ tf * \\frac{1}{log(idf)} $"
   ]
  },
  {
   "cell_type": "markdown",
   "metadata": {},
   "source": [
    "这是为什么呢？ 例如“的”这个单词，在某个文章或者句子中出现的次数很多，但是它在每个文章中几乎都出现了，那么，这个单词就不是很重要的词汇，但是如果某个单词的'tf'值很大，但是'df'值很小，那么 'tf*1/idf' 这个值也会很大，这种在一个文章中出现了很多次，但是别的文章中都没有出现的单词，我们就说这种单词是重要单词。"
   ]
  },
  {
   "cell_type": "code",
   "execution_count": 16,
   "metadata": {},
   "outputs": [],
   "source": [
    "import numpy as np"
   ]
  },
  {
   "cell_type": "code",
   "execution_count": 28,
   "metadata": {},
   "outputs": [],
   "source": [
    "def idf(word):\n",
    "    return 1 / np.log10(sum(1 for s in sentences if word in s))"
   ]
  },
  {
   "cell_type": "code",
   "execution_count": 29,
   "metadata": {},
   "outputs": [
    {
     "data": {
      "text/plain": [
       "0.20630404456287582"
      ]
     },
     "execution_count": 29,
     "metadata": {},
     "output_type": "execute_result"
    }
   ],
   "source": [
    "idf('的')"
   ]
  },
  {
   "cell_type": "code",
   "execution_count": 30,
   "metadata": {},
   "outputs": [
    {
     "data": {
      "text/plain": [
       "0.25654465884095223"
      ]
     },
     "execution_count": 30,
     "metadata": {},
     "output_type": "execute_result"
    }
   ],
   "source": [
    "idf('我们')"
   ]
  },
  {
   "cell_type": "code",
   "execution_count": 31,
   "metadata": {},
   "outputs": [],
   "source": [
    "def tf(word, sentence_cut):\n",
    "    return sentence_cut.count(word)"
   ]
  },
  {
   "cell_type": "code",
   "execution_count": 32,
   "metadata": {
    "scrolled": true
   },
   "outputs": [
    {
     "data": {
      "text/plain": [
       "['此外',\n",
       " '自',\n",
       " '本周',\n",
       " '6',\n",
       " '月',\n",
       " '12',\n",
       " '日起',\n",
       " '除',\n",
       " '小米',\n",
       " '手机',\n",
       " '6',\n",
       " '等',\n",
       " '15',\n",
       " '款',\n",
       " '机型',\n",
       " '外',\n",
       " '其余',\n",
       " '机型',\n",
       " '已',\n",
       " '暂停',\n",
       " '更新',\n",
       " '发布',\n",
       " '含',\n",
       " '开发',\n",
       " '版',\n",
       " '体验版',\n",
       " '内测',\n",
       " '稳定版',\n",
       " '暂不受',\n",
       " '影响',\n",
       " '以',\n",
       " '确保',\n",
       " '工程师',\n",
       " '可以',\n",
       " '集中',\n",
       " '全部',\n",
       " '精力',\n",
       " '进行',\n",
       " '系统优化',\n",
       " '工作',\n",
       " '有人',\n",
       " '猜测',\n",
       " '这',\n",
       " '也',\n",
       " '是',\n",
       " '将',\n",
       " '精力',\n",
       " '主要',\n",
       " '用到',\n",
       " 'MIUI9',\n",
       " '的',\n",
       " '研发',\n",
       " '之中',\n",
       " 'MIUI8',\n",
       " '去年',\n",
       " '5',\n",
       " '月',\n",
       " '发布',\n",
       " '距今已有',\n",
       " '一年',\n",
       " '有余',\n",
       " '也',\n",
       " '是',\n",
       " '时候',\n",
       " '更新换代',\n",
       " '了',\n",
       " '当然',\n",
       " '关于',\n",
       " 'MIUI9',\n",
       " '的',\n",
       " '确切',\n",
       " '信息',\n",
       " '我们',\n",
       " '还是',\n",
       " '等待',\n",
       " '官方消息']"
      ]
     },
     "execution_count": 32,
     "metadata": {},
     "output_type": "execute_result"
    }
   ],
   "source": [
    "all_sentences_with_cut_tokens[0]"
   ]
  },
  {
   "cell_type": "code",
   "execution_count": 33,
   "metadata": {},
   "outputs": [
    {
     "data": {
      "text/plain": [
       "1"
      ]
     },
     "execution_count": 33,
     "metadata": {},
     "output_type": "execute_result"
    }
   ],
   "source": [
    "tf('小米', all_sentences_with_cut_tokens[0])"
   ]
  },
  {
   "cell_type": "markdown",
   "metadata": {},
   "source": [
    "那么，我们就可以构造一个函数，这个函数输入一个单词和一个句子，然后输出是这个单词对应的tf-idf值"
   ]
  },
  {
   "cell_type": "code",
   "execution_count": 34,
   "metadata": {},
   "outputs": [],
   "source": [
    "def tfidf(word, sentence):\n",
    "    return tf(word, sentence) * idf(word)"
   ]
  },
  {
   "cell_type": "code",
   "execution_count": 35,
   "metadata": {},
   "outputs": [
    {
     "data": {
      "text/plain": [
       "0.41260808912575164"
      ]
     },
     "execution_count": 35,
     "metadata": {},
     "output_type": "execute_result"
    }
   ],
   "source": [
    "tfidf('的', all_sentences_with_cut_tokens[0])"
   ]
  },
  {
   "cell_type": "code",
   "execution_count": 36,
   "metadata": {},
   "outputs": [
    {
     "data": {
      "text/plain": [
       "0.49785916284315224"
      ]
     },
     "execution_count": 36,
     "metadata": {},
     "output_type": "execute_result"
    }
   ],
   "source": [
    "tfidf('小米', all_sentences_with_cut_tokens[0])"
   ]
  },
  {
   "cell_type": "code",
   "execution_count": 37,
   "metadata": {},
   "outputs": [
    {
     "data": {
      "text/plain": [
       "0.9723347186917767"
      ]
     },
     "execution_count": 37,
     "metadata": {},
     "output_type": "execute_result"
    }
   ],
   "source": [
    "tfidf('机型', all_sentences_with_cut_tokens[0])"
   ]
  },
  {
   "cell_type": "markdown",
   "metadata": {},
   "source": [
    "以上3个数值的意思是，在这个文章中，“机型”的重要性大于“小米”，大于“的”"
   ]
  },
  {
   "cell_type": "markdown",
   "metadata": {},
   "source": [
    "## 任务2： 输入一个句子，获得句子中每个单词的tfidf值\n",
    "\n",
    "### 这个场景下，1. 你需要Python的dictionary这个数据类型"
   ]
  },
  {
   "cell_type": "code",
   "execution_count": 38,
   "metadata": {},
   "outputs": [
    {
     "name": "stdout",
     "output_type": "stream",
     "text": [
      "11\n"
     ]
    }
   ],
   "source": [
    "# the use of dictionary\n",
    "student_age_info = dict()\n",
    "\n",
    "student_age_info['小明'] = 10\n",
    "student_age_info['小明'] += 1\n",
    "\n",
    "print(student_age_info['小明'])"
   ]
  },
  {
   "cell_type": "markdown",
   "metadata": {},
   "source": [
    "### 第二，你需要Python的set()函数，将一个列表转换成一个集合，集合相对于list，特点是，每个元素只会出现一次"
   ]
  },
  {
   "cell_type": "code",
   "execution_count": 39,
   "metadata": {},
   "outputs": [],
   "source": [
    "some_list = [1, 2, 3, 1, 1, 3,1, 1, 41, 4]"
   ]
  },
  {
   "cell_type": "code",
   "execution_count": 40,
   "metadata": {},
   "outputs": [
    {
     "data": {
      "text/plain": [
       "{1, 2, 3, 4, 41}"
      ]
     },
     "execution_count": 40,
     "metadata": {},
     "output_type": "execute_result"
    }
   ],
   "source": [
    "set(some_list)"
   ]
  },
  {
   "cell_type": "code",
   "execution_count": 41,
   "metadata": {},
   "outputs": [],
   "source": [
    "def get_tfidf_from_sentence(sentence_cut):\n",
    "    tf_idf_words = dict()\n",
    "    for c in set(sentence_cut):\n",
    "        tf_idf_words[c] = tfidf(c, sentence_cut)\n",
    "    return tf_idf_words"
   ]
  },
  {
   "cell_type": "markdown",
   "metadata": {},
   "source": [
    "如果你的程序正确，那么运行以下代码应该打印“你做对了！”，否则将会打印出错误"
   ]
  },
  {
   "cell_type": "code",
   "execution_count": 43,
   "metadata": {},
   "outputs": [
    {
     "name": "stderr",
     "output_type": "stream",
     "text": [
      "/var/folders/19/dgxwsbgd76728hx577833nx00000gn/T/ipykernel_4224/2617571425.py:2: RuntimeWarning: divide by zero encountered in double_scalars\n",
      "  return 1 / np.log10(sum(1 for s in sentences if word in s))\n"
     ]
    },
    {
     "name": "stdout",
     "output_type": "stream",
     "text": [
      "你做对了！\n"
     ]
    }
   ],
   "source": [
    "assert '确切' in get_tfidf_from_sentence(all_sentences_with_cut_tokens[0])\n",
    "assert isinstance(get_tfidf_from_sentence(all_sentences_with_cut_tokens[0]), dict)\n",
    "assert isinstance(get_tfidf_from_sentence(all_sentences_with_cut_tokens[0])['确切'], float)\n",
    "\n",
    "print(\"你做对了！\")"
   ]
  },
  {
   "cell_type": "markdown",
   "metadata": {},
   "source": [
    "### Task 3, 使用python内置的sorted方法对结果进行排序，找到最重要的单词"
   ]
  },
  {
   "cell_type": "markdown",
   "metadata": {},
   "source": [
    "sorted是一个很常用的方法，用法很简单"
   ]
  },
  {
   "cell_type": "code",
   "execution_count": 44,
   "metadata": {},
   "outputs": [],
   "source": [
    "some_list = [1, 2, 3, 4, 1, 3, 1, 41, 1, 1, 31]"
   ]
  },
  {
   "cell_type": "code",
   "execution_count": 45,
   "metadata": {},
   "outputs": [
    {
     "data": {
      "text/plain": [
       "[1, 1, 1, 1, 1, 2, 3, 3, 4, 31, 41]"
      ]
     },
     "execution_count": 45,
     "metadata": {},
     "output_type": "execute_result"
    }
   ],
   "source": [
    "sorted(some_list)"
   ]
  },
  {
   "cell_type": "code",
   "execution_count": 46,
   "metadata": {},
   "outputs": [
    {
     "data": {
      "text/plain": [
       "[41, 31, 4, 3, 3, 2, 1, 1, 1, 1, 1]"
      ]
     },
     "execution_count": 46,
     "metadata": {},
     "output_type": "execute_result"
    }
   ],
   "source": [
    "sorted(some_list, reverse=True) #加上参数，可以逆序"
   ]
  },
  {
   "cell_type": "markdown",
   "metadata": {},
   "source": [
    "对于我们这个问题而言，我们想做的是，通过每个单词的“值”来排序"
   ]
  },
  {
   "cell_type": "markdown",
   "metadata": {},
   "source": [
    "如果我们来直接sorted我们的之前get_tfidf函数产出的dictionary，结果会是什么呢？ "
   ]
  },
  {
   "cell_type": "code",
   "execution_count": 47,
   "metadata": {},
   "outputs": [
    {
     "name": "stderr",
     "output_type": "stream",
     "text": [
      "/var/folders/19/dgxwsbgd76728hx577833nx00000gn/T/ipykernel_4224/2617571425.py:2: RuntimeWarning: divide by zero encountered in double_scalars\n",
      "  return 1 / np.log10(sum(1 for s in sentences if word in s))\n"
     ]
    }
   ],
   "source": [
    "sentence_1_result = get_tfidf_from_sentence(all_sentences_with_cut_tokens[0])"
   ]
  },
  {
   "cell_type": "code",
   "execution_count": 48,
   "metadata": {
    "scrolled": true
   },
   "outputs": [
    {
     "data": {
      "text/plain": [
       "['12',\n",
       " '15',\n",
       " '5',\n",
       " '6',\n",
       " 'MIUI8',\n",
       " 'MIUI9',\n",
       " '一年',\n",
       " '主要',\n",
       " '之中',\n",
       " '也',\n",
       " '了',\n",
       " '以',\n",
       " '体验版',\n",
       " '信息',\n",
       " '全部',\n",
       " '关于',\n",
       " '其余',\n",
       " '内测',\n",
       " '去年',\n",
       " '发布',\n",
       " '可以',\n",
       " '含',\n",
       " '外',\n",
       " '官方消息',\n",
       " '将',\n",
       " '小米',\n",
       " '工作',\n",
       " '工程师',\n",
       " '已',\n",
       " '开发',\n",
       " '当然',\n",
       " '影响',\n",
       " '我们',\n",
       " '手机',\n",
       " '日起',\n",
       " '时候',\n",
       " '是',\n",
       " '暂不受',\n",
       " '暂停',\n",
       " '更新',\n",
       " '更新换代',\n",
       " '月',\n",
       " '有人',\n",
       " '有余',\n",
       " '本周',\n",
       " '机型',\n",
       " '款',\n",
       " '此外',\n",
       " '版',\n",
       " '猜测',\n",
       " '用到',\n",
       " '的',\n",
       " '研发',\n",
       " '确保',\n",
       " '确切',\n",
       " '稳定版',\n",
       " '等',\n",
       " '等待',\n",
       " '精力',\n",
       " '系统优化',\n",
       " '自',\n",
       " '距今已有',\n",
       " '还是',\n",
       " '这',\n",
       " '进行',\n",
       " '除',\n",
       " '集中']"
      ]
     },
     "execution_count": 48,
     "metadata": {},
     "output_type": "execute_result"
    }
   ],
   "source": [
    "sorted(sentence_1_result)"
   ]
  },
  {
   "cell_type": "markdown",
   "metadata": {},
   "source": [
    "你会发现这个结果是根据字符排序的，不是我们想要的结果。我们还可以做个测试"
   ]
  },
  {
   "cell_type": "code",
   "execution_count": 49,
   "metadata": {},
   "outputs": [],
   "source": [
    "student_info = {\n",
    "    'A': 9,\n",
    "    'B': 4,\n",
    "    'Z': 8,\n",
    "    'D': 1\n",
    "}"
   ]
  },
  {
   "cell_type": "code",
   "execution_count": 50,
   "metadata": {},
   "outputs": [
    {
     "data": {
      "text/plain": [
       "['A', 'B', 'D', 'Z']"
      ]
     },
     "execution_count": 50,
     "metadata": {},
     "output_type": "execute_result"
    }
   ],
   "source": [
    "sorted(student_info)"
   ]
  },
  {
   "cell_type": "markdown",
   "metadata": {},
   "source": [
    "那么这个时候怎么办呢？ "
   ]
  },
  {
   "cell_type": "markdown",
   "metadata": {},
   "source": [
    "我们需要用到一个sorted的参数，这个参数叫做`key`"
   ]
  },
  {
   "cell_type": "code",
   "execution_count": 55,
   "metadata": {},
   "outputs": [
    {
     "data": {
      "text/plain": [
       "[('A', 9), ('Z', 8), ('B', 4), ('D', 1)]"
      ]
     },
     "execution_count": 55,
     "metadata": {},
     "output_type": "execute_result"
    }
   ],
   "source": [
    "sorted(student_info.items(), key=lambda x: x[1])"
   ]
  },
  {
   "cell_type": "markdown",
   "metadata": {},
   "source": [
    "## 你会发现，这个按照studen_info的key值进行排序了，如果要从大到小也很简单"
   ]
  },
  {
   "cell_type": "code",
   "execution_count": 110,
   "metadata": {},
   "outputs": [
    {
     "data": {
      "text/plain": [
       "[('A', 9), ('Z', 8), ('B', 4), ('D', 1)]"
      ]
     },
     "execution_count": 110,
     "metadata": {},
     "output_type": "execute_result"
    }
   ],
   "source": [
    "sorted(student_info.items(), key=lambda x: x[1], reverse=True)"
   ]
  },
  {
   "cell_type": "markdown",
   "metadata": {},
   "source": [
    "### 这个里边，有几个点你可能目前还不知道，一个是 .items() 是用来做什么的，一个是 lambda是用来做什么的。如果你不知道的话，也没关系，先用！这个涉及到的知识，之后的课程会涉及到。"
   ]
  },
  {
   "cell_type": "markdown",
   "metadata": {},
   "source": [
    "## Task3: 构建一个函数，输入一个切词切好的句子，然后返回tfidf值大小排前25%的单词"
   ]
  },
  {
   "cell_type": "code",
   "execution_count": 62,
   "metadata": {},
   "outputs": [],
   "source": [
    "top_ratio = 0.25\n",
    "\n",
    "def get_top_tfidf(sentence_cut):\n",
    "    \"\"\"\n",
    "    return : [(word1, tfidf_value), (word2, tfidf_value)]\n",
    "    \"\"\"\n",
    "    tfidf_value = get_tfidf_from_sentence(sentence_cut)\n",
    "    \n",
    "    topk = int(top_ratio * len(tfidf_value))\n",
    "    \n",
    "    return sorted(tfidf_value.items(), key=lambda x:x[1], reverse=True)[:topk]"
   ]
  },
  {
   "cell_type": "code",
   "execution_count": 63,
   "metadata": {},
   "outputs": [
    {
     "name": "stderr",
     "output_type": "stream",
     "text": [
      "/var/folders/19/dgxwsbgd76728hx577833nx00000gn/T/ipykernel_4224/2617571425.py:2: RuntimeWarning: divide by zero encountered in double_scalars\n",
      "  return 1 / np.log10(sum(1 for s in sentences if word in s))\n"
     ]
    },
    {
     "data": {
      "text/plain": [
       "[('稳定版', inf),\n",
       " ('MIUI8', inf),\n",
       " ('体验版', inf),\n",
       " ('系统优化', inf),\n",
       " ('MIUI9', inf),\n",
       " ('暂不受', 1.660964047443681),\n",
       " ('官方消息', 1.0),\n",
       " ('机型', 0.9723347186917767),\n",
       " ('内测', 0.9602525677891274),\n",
       " ('精力', 0.7932925264694807),\n",
       " ('距今已有', 0.756304195516401),\n",
       " ('更新换代', 0.6585385709929115),\n",
       " ('确切', 0.5515983410546411),\n",
       " ('发布', 0.5163915841215005),\n",
       " ('有余', 0.5022031461958567),\n",
       " ('小米', 0.49785916284315224)]"
      ]
     },
     "execution_count": 63,
     "metadata": {},
     "output_type": "execute_result"
    }
   ],
   "source": [
    "get_top_tfidf(all_sentences_with_cut_tokens[0])"
   ]
  },
  {
   "cell_type": "markdown",
   "metadata": {},
   "source": [
    "# 这些单词是不是这个句子的重点单词呢？ ：）"
   ]
  },
  {
   "cell_type": "markdown",
   "metadata": {},
   "source": [
    "## 人物信息关联分析"
   ]
  },
  {
   "cell_type": "markdown",
   "metadata": {},
   "source": [
    "除了分析热词，我们还想对人物之间的关联关系进行分析，我们想知道那些名字同时出现的次数比较多。"
   ]
  },
  {
   "cell_type": "markdown",
   "metadata": {},
   "source": [
    "要判断人的名字，这件事情之前是很复杂的，现在，jieba有一个很方便的工具，可以来判断一个单词是不是人名，例如"
   ]
  },
  {
   "cell_type": "code",
   "execution_count": 64,
   "metadata": {},
   "outputs": [],
   "source": [
    "example = '张晓竞是此次的最佳选手'"
   ]
  },
  {
   "cell_type": "code",
   "execution_count": 65,
   "metadata": {},
   "outputs": [],
   "source": [
    "from jieba import posseg"
   ]
  },
  {
   "cell_type": "code",
   "execution_count": 66,
   "metadata": {},
   "outputs": [
    {
     "data": {
      "text/plain": [
       "[pair('张晓竞', 'nr'),\n",
       " pair('是', 'v'),\n",
       " pair('此次', 'r'),\n",
       " pair('的', 'uj'),\n",
       " pair('最佳', 'z'),\n",
       " pair('选手', 'v')]"
      ]
     },
     "execution_count": 66,
     "metadata": {},
     "output_type": "execute_result"
    }
   ],
   "source": [
    "list(posseg.cut(example))"
   ]
  },
  {
   "cell_type": "markdown",
   "metadata": {},
   "source": [
    "## 所有写的是\"nr\"的单词，都是人名"
   ]
  },
  {
   "cell_type": "code",
   "execution_count": 87,
   "metadata": {},
   "outputs": [],
   "source": [
    "def is_name(cut_word):\n",
    "    w, _type = list(posseg.cut(cut_word))[0]\n",
    "    \n",
    "    if _type == 'nr': return True\n",
    "    \n",
    "    return False"
   ]
  },
  {
   "cell_type": "code",
   "execution_count": 88,
   "metadata": {},
   "outputs": [
    {
     "data": {
      "text/plain": [
       "True"
      ]
     },
     "execution_count": 88,
     "metadata": {},
     "output_type": "execute_result"
    }
   ],
   "source": [
    "is_name('周杰伦')"
   ]
  },
  {
   "cell_type": "code",
   "execution_count": 89,
   "metadata": {},
   "outputs": [
    {
     "data": {
      "text/plain": [
       "True"
      ]
     },
     "execution_count": 89,
     "metadata": {},
     "output_type": "execute_result"
    }
   ],
   "source": [
    "is_name('周杰')"
   ]
  },
  {
   "cell_type": "code",
   "execution_count": 90,
   "metadata": {},
   "outputs": [
    {
     "data": {
      "text/plain": [
       "True"
      ]
     },
     "execution_count": 90,
     "metadata": {},
     "output_type": "execute_result"
    }
   ],
   "source": [
    "is_name('伊丽莎白')"
   ]
  },
  {
   "cell_type": "code",
   "execution_count": 91,
   "metadata": {},
   "outputs": [
    {
     "data": {
      "text/plain": [
       "False"
      ]
     },
     "execution_count": 91,
     "metadata": {},
     "output_type": "execute_result"
    }
   ],
   "source": [
    "is_name('小猫')"
   ]
  },
  {
   "cell_type": "markdown",
   "metadata": {},
   "source": [
    "那么，我们可以构建一个函数，这个函数我们输入一个切词之后的句子，返回一个 list， 这个list包含了文章中所有包含的人名。"
   ]
  },
  {
   "cell_type": "code",
   "execution_count": 92,
   "metadata": {},
   "outputs": [],
   "source": [
    "def get_names_from_sentence(cut_sentence):\n",
    "    \n",
    "    return [w for w in cut_sentence if is_name(w)]"
   ]
  },
  {
   "cell_type": "code",
   "execution_count": 93,
   "metadata": {},
   "outputs": [
    {
     "data": {
      "text/plain": [
       "['普惠性', '任远明', '邹', '普惠性']"
      ]
     },
     "execution_count": 93,
     "metadata": {},
     "output_type": "execute_result"
    }
   ],
   "source": [
    "get_names_from_sentence(all_sentences_with_cut_tokens[99])"
   ]
  },
  {
   "cell_type": "code",
   "execution_count": 94,
   "metadata": {},
   "outputs": [
    {
     "data": {
      "text/plain": [
       "['阿森纳',\n",
       " '桑切斯',\n",
       " '阿森纳',\n",
       " '桑切斯',\n",
       " '仁和',\n",
       " '桑切斯',\n",
       " '桑切斯',\n",
       " '阿森纳',\n",
       " '桑切斯',\n",
       " '桑切斯',\n",
       " '拜仁',\n",
       " '拜仁',\n",
       " '拜仁',\n",
       " '阿森纳',\n",
       " '桑切斯',\n",
       " '拜仁',\n",
       " '桑切斯',\n",
       " '桑切斯',\n",
       " '拜仁',\n",
       " '拜仁',\n",
       " '周薪',\n",
       " '拜仁',\n",
       " '拜仁',\n",
       " '桑切斯',\n",
       " '拜仁',\n",
       " '高薪',\n",
       " '拜仁',\n",
       " '阿森纳',\n",
       " '马尔科']"
      ]
     },
     "execution_count": 94,
     "metadata": {},
     "output_type": "execute_result"
    }
   ],
   "source": [
    "get_names_from_sentence(all_sentences_with_cut_tokens[200])"
   ]
  },
  {
   "cell_type": "markdown",
   "metadata": {},
   "source": [
    "## 思考题：如何把所有的句子运行一遍， 生成一个字典，这个字典中的每个key是人名，N1, value是一个dictionary，这个dictionary中，每个的key是一个人名，Ni, value是Ni与N1同时出现在一篇文章中的次数"
   ]
  },
  {
   "cell_type": "code",
   "execution_count": 95,
   "metadata": {},
   "outputs": [],
   "source": [
    "from collections import defaultdict"
   ]
  },
  {
   "cell_type": "code",
   "execution_count": 97,
   "metadata": {},
   "outputs": [],
   "source": [
    "def get_name_correlate(sentences_cut):\n",
    "    \"\"\"\n",
    "    \n",
    "    return : {\n",
    "    \n",
    "        name1: {\n",
    "            name1_1: int\n",
    "            name1_2: int\n",
    "        }\n",
    "        \n",
    "        name2: {\n",
    "            name2_1: int\n",
    "            name2_2: int\n",
    "        }\n",
    "    \n",
    "    }\n",
    "    \n",
    "    \"\"\"\n",
    "    name = defaultdict(lambda :defaultdict(int))\n",
    "    \n",
    "    for s in sentences_cut:\n",
    "        result = get_names_from_sentence(s)\n",
    "        \n",
    "        for n in result:\n",
    "            for w in result:\n",
    "                if n == w: continue\n",
    "                name[n][w] += 1\n",
    "                \n",
    "    return name"
   ]
  },
  {
   "cell_type": "markdown",
   "metadata": {},
   "source": [
    "## 如果你的程序正确，那么以下代码可以运行"
   ]
  },
  {
   "cell_type": "code",
   "execution_count": 98,
   "metadata": {},
   "outputs": [],
   "source": [
    "sample_corrleate = get_name_correlate(all_sentences_with_cut_tokens[:1000])"
   ]
  },
  {
   "cell_type": "code",
   "execution_count": 99,
   "metadata": {
    "scrolled": true
   },
   "outputs": [
    {
     "data": {
      "text/plain": [
       "dict_keys(['高通', '华硕', '惠普', '华为', '佩德罗', '张立', '龙岗', '坂田', '刘青', '刘青停', '坂雪岗', '刘青递', '雨大', '连', '陈系', '史', '陈某', '康复', '弓常', '原谅', '萨摩耶', '帅', '李赫海', '言语', '白马股', '修正', '李立峰', '权重股', '夏普', '罗忠生', '蓝筹股', '易居', '李军', '马磊', '普跌仅', '宜先', '钱荒', '玉名', '荣耀', '关键因素', '费尽', '平开', '阴小阳', '今天上午', '俊男靓女', '白领', '银行卡', '塔子', '洪山', '黑名单', '李晓猫', '明白人', '童颜', '高薪', '宇宇家', '小铭大', '金', '叶子', '冉冉', '宝', '霖心', '张蒙', '蒋', '支付宝', '安全性', '卢某', '熊', '廖', '王道', '普跌', '迪士尼', '天茂', '银监会', '罗森', '上周四', '普涨', '齐齐', '沃金斯', '伊薇特', '马拉', '韦恩郡', '陈述', '严肃性', '刘洪滨', '刘洪滨滨', '斌', '张怡', '华腾', '朗源', '白水', '万杰', '远高于', '明朗', '智能化', '高峰', '雷达', '拓普', '星宇', '崔琰', '谢夫', '相冲突', '特朗普', '许可', '永辉', '日永辉', '戴维斯', '高永辉', '归母', '商超', '如高鑫', '沃尔玛', '彭毅', '海思', '大道至简', '王', '孙昌旭', '加时赛', '吉翔', '晋级', '伯仲之间', '卡佩罗', '王劲', '景驰', '里景驰', '吕是', '韩旭', '卡耐基', '梅隆', '于微软', '洪泰', '梅正', '梅', '后梅', '格伦费', '伊丽莎白', '孙子', '王子', '梅在', '宾', '幸存者', '唐宁街', '爱尔兰', '帕里斯', '欧派', '黄培昭', '鲁能', '申鑫排', '申鑫', '毅腾', '邱中', '侯隽', '周琦', '世茂', '续命之', '贾跃亭', '权威', '孙宏斌', '贾', '梁军', '刘步尘', '孙总', '贾跃芳', '辟谣', '世茂工', '张巍', '张巍称', '阳光', '鲁', '延后', '林栖', '玄想', '苑', '安倍晋三', '松野博一', '安倍', '府', '爱媛县', '公正', '幸三', '朱曼君', '牟利', '智慧', '李思默', '张稀哲', '佩兰', '高洪波', '皮国足', '本赛季', '何塞', '张稀', '施密特', '上赛季', '埃德温', '杰克逊', '王健', '黑客', '卫星', '于本周', '伯明翰', '法布雷', '梅西', '托尼', '英超', '阿斯顿', '高迪耿晓峰', '吕征', '毛剑卿', '阿斗', '李若谷', '李', '红绿灯', '太贵', '容纳', '续航', '黄牛', '乐迷', '智诚', '连胜', '曾诚', '耶拉', '张莫斯', '郜林', '戈麦斯', '伊斯梅', '李磊', '马兹', '权健', '乌龙球', '哈维尔', '曹赟定', '利继', '梅开二度', '亚森', '矫健', '俊逸', '雪山', '文韩婷', '李文武', '张勇', '武卫', '董本洪', '易观', '马云', '齐聚', '陈志霖', '周晓龙', '索尼', '任天堂', '吐尔孙', '艾拜', '博客', '高三', '和田县', '博士生', '真是太', '关怀', '郭庆光', '史宗恺', '慈祥', '养育之恩', '光荣', '甘甜', '幼儿园', '幸福家庭', '安检门', '努力学习', '阿富汗', '温馨', '安康', '黄土背', '大胜', '上少赛', '亚冠', '佩莱', '戈壁', '乌兰布', '邓华摄', '无人驾驶', '西雅图', '顾客', '麦肯锡', '劳氏', '星巴克', '奥特尔', '布林', '王珩', '黄瑾', '雷先生', '安全法', '严重性', '公共安全', '熊瑛', '拜他为师', '高胜', '高胜称', '邓文辉', '曹玮', '养老', '瞿海', '观摩会', '司', '越权', '木姐', '南坎', '小狗', '五星红旗', '福娃', '肖', '傅文霞', '蓝图', '金爵', '曹玲娟', '谭仲良', '戴尔', '戴尔公司', '徐', '权衡', '周', '胡浩', '翁泽仁', '刘涛', '赵雷', '崔健', '高潮', '赵雷来', '李开复', '陆奇', '王海', '陆奇外', '林元庆', '徐伟', '吴华', '云则', '智能家居', '阿波罗', '慈善', '赵婷', '龚铂洋', '单一化', '穆雷', '格兰菲', '马斯登', '哈钦斯', '霍杰金', '伦德尔', '伯蒂奇', '巴托丽', '辛吉斯', '明星', '贝德内', '惠', '武林高手', '夏提', '小姑娘', '母所生', '车开进', '王悦', '冯云', '冯', '荣幸', '荣获', '雷恺', '通知书', '蓝绿色', '云彩', '季后赛', '马刺', '莫雷', '贝弗利', '大大增加', '乔治', '伯德', '詹姆斯', '姚麦', '王利', '里氏', '梅雨', '覃超祥', '徐满生', '二道桥', '曹振平', '古丽', '毛拉', '瓦林卡', '克耶', '高斯', '斯坦', '维列夫', '大师赛', '科维奇', '唐纳德', '满贯', '费德勒', '安纳', '孔以', '和保罗', '巨星', '卫冕冠军', '史密斯', '鲁尔', '盛世', '雷同', '王健林', '王东明', '刘颖超', '蒋毅', '牟', '曲某', '夏', '荣成', '鞠', '鞠某', '夏某', '牟平', '黄洪', '惠民', '达鑫', '东旭', '蓝天', '王永飞', '段时间', '明显提高', '腾飞', '拓宽', '孙利利', '董', '董明珠', '于斌', '卡塔尔', '孙兴', '孙兴慜为', '神勇', '天孙兴', '张晓光', '耿学鹏', '严蕾', '汤加', '阿根廷', '金立群', '阿曼', '沙特', '肖捷', '潘旭临', '亚太', '拉森', '阿蒙森', '利玛', '特怀特', '红白', '滑雪板', '科考', '马丁', '特鲁弗', '夜幕降临', '砰砰', '海冰', '荆棘', '向海', '浮冰', '詹金斯', '滕', '布', '鱼雷', '雪冰', '海伦', '融洞', '斯', '霍', '龙尼', '斯威特', '格陵兰', '托滕', '肯希', '吉隆坡', '赵胜玉', '宝腾', '李书福', '萨义德', '沃尔沃', '宝腾能', '纳吉布', '黄惠康', '普惠性', '任远明', '邹', '刘瑾', '王瑞祥', '任重道远', '徐工', '陈斌', '吕丽娜', '托克逊', '谢谢', '詹皇', '海沃德', '尹卓称', '邱越', '尹卓', '若真', '斯盾舰', '成龙', '亚军', '奥斯卡', '保时捷', '董荷斌', '劳伦斯', '荣誉', '麦田', '金黄', '麦麦', '孙敏', '艾力', '麦收', '墨玉', '墨玉县', '艾日克村', '红旗', '田埂', '友谊', '周春梅', '艾木', '萨依', '麦子', '束', '麦穗', '特开', '马达', '鲜甜', '玉米', '李树刚', '王辉', '马君刚', '香甜', '郭军', '赵铭丰', '孙征', '华泽', '昌九达', '张晓昱', '弘扬', '格林', '詹皇未', '詹皇则', '威少', '张狂', '祝贺', '裕', '金鹰', '银华', '惠利', '申万', '易方达', '田华英', '蒲', '克拉玛依', '英才', '向疆', '洪', '黄洪说', '永鸿', '万青', '师傅', '经过培训', '毛柳', '丛生', '静谧', '叶明', '马儿', '田园', '陶醉', '牛羊', '美的', '雪峰', '山涧', '保健', '观光客', '尤勒敦', '丘陵', '红柳', '冬暖夏凉', '苏鲁克', '乔尔乔村', '幻化成', '叶', '朱鼎', '谦', '朱鼎健', '朱树豪', '泰斗', '高尔夫球', '高尔夫', '朱氏', '老少皆宜', '冯小刚', '青少年', '佩工', '英超球', '蓝月亮', '欧冠四强', '立德', '恩', '克里木', '舒尔说', '赵西娅', '王东', '晁瑾', '赵', '谢赫', '阿卜杜', '拉赫曼', '吉布提', '廉丹', '梁振英', '安老', '施政', '老大难', '非常明显', '胡', '梅扬', '尼', '波尔图', '冯玉', '冯玉笑', '清宇', '刘广卿', '安静', '依拉夏', '依拉', '阿卜力', '小家伙', '贡是', '艾尼', '耶', '老虎', '小兔子', '伊米然', '古丽学', '科博', '嘉能', '康', '富蕴县', '玉石', '牛羊肉', '桑蕾', '林波夏', '森森', '杨梅', '春旺', '富', '麦迪', '平麦迪', '昂', '吉洛', '拉塞尔', '全明星', '游渐', '刘玉桃', '徐雪', '贾春霞', '于田县', '加依', '恩知', '党恩', '阿布力', '艾尼说', '毛兰', '韩璐', '国博', '韩璐摄', '林明', '杨毅', '达沃斯', '纪志坚', '林忠治', '高新区', '红其拉甫', '杨建刚', '王立', '胡晨刚', '越学', '永久性', '曾几何时', '恩报', '山鸟飞', '杨映伟', '杨', '王利军', '封山', '帕米尔', '拉开帷幕', '练兵', '邵敏许', '李蕾', '刘志轩', '博格达', '李莉', '何龙', '蓝天白云', '林涛', '童声', '斯拉夫', '暴风雪', '明科', '星耀', '闫义明', '孤城', '南派', '探秘', '吴亦凡', '赵丽颖', '吴磊', '尤文', '周中', '伍学焱', '宗', '母爱', '田瑞哲', '清真寺', '封锁', '劳伦', '凤凰', '亚冠赛', '帅领', '吴曦', '鑫', '谢娜', '毅', '苗圃', '高云', '翔', '邓伦', '于毅', '邓伦王', '贝斯', '蓬勃', '大秀', '朴树', '哈', '大秀令', '翔变', '高坡', '邓伦以', '邓伦用', '王之争', '姚晨', '陈建斌', '陈赫', '娄艺潇', '魏大勋', '安悦溪', '陈小春', '贝尔', '潘玮柏', '孙坚', '博文', '彭博社', '李子', '夏雨萌', '赵怡蓁', '张歆艺', '华丽', '范儿', '谷', '张歆', '沈腾', '黑飞', '艾瑞', '曾阳', '王京玲', '严格执行', '马凯', '卓越', '陈可辛', '路人甲', '丁鑫', '刘梦为', '王婆', '刘梦', '范', '权健后', '张呈栋', '瑞恩', '吉格斯', '欧冠', '周薪', '潘志勇', '贡献者', '刘强', '仓', '若想', '麦克', '古瑞吉', '高水平', '宾客', '藉此', '郑碧雪', '吴蕙君', '梁晓鸣', '戴祖义', '周焯华', '美高梅', '信德', '宝马', '顾问', '施南生', '刘易斯', '奥班奴', '陈志玲', '范畴', '春娇', '志明', '薛洪言', '董希淼', '蓝领', '杜绝', '马斯克', '莫妮卡', '韦斯特', '伍德', '李健', '陈粒', '尹毓恪', '赵英博', '陈粒互', '罗志祥', '焦迈奇', '健哥', '大赞', '王菲', '林禹', '马纳里', '迪米', '特洛夫', '哈里森', '沙', '埃德蒙', '母亲节', '成超萌', '马龙', '公开赛', '樊振东', '高喊', '龙连得', '邢晓婧据', '巴马科', '西方人', '金白银', '李九鹏', '向心力', '李锦', '公开化', '於', '老少咸宜', '保驾护航', '吉恩', '詹妮佛', '艾美奖', '柯登', '安东尼', '迪斯', '宝贝', '史迪奇', '熊猫', '乌云', '米歇尔', '莫库', '冷修', '马卡报', '马尔迪', '格列', '迪', '拜仁', '孙颖莎', '陈幸', '师姐', '陈梦', '刘国梁', '朱雨玲', '刘诗雯', '亚锦赛', '丁宁', '李隼', '冯天薇', '梁夏银田志希', '王欢', '威瑞森', '黎明', '谢幕', '谷歌', '雅博', '孙正义', '拉力赛', '马诚', '雅虎将', '宫坂学', '马蒂厄', '费内', '巴切', '马赛', '官宣', '赫苏斯', '韦德', '高希希何澍', '陈同勋', '钟志鹏林', '晋诺', '美轮美奂', '古剑', '胡冰卿', '张丹峰', '徐正溪', '李依晓应昊', '安以轩', '博', '常礼', '左掌', '普巴', '朱佩据', '塔斯社', '莫斯科', '文明', '丁彦雨航', '李慕豪', '郭', '艾伦', '袁方', '李楠', '杜锋', '夏联', '孟菲斯', '姚明', '诸如', '森林狼', '陈忠实', '白鹿原', '张嘉译', '何冰', '秦海璐', '刘佩琦', '洪涛', '翟天临', '李沁姬', '史诗', '双丰收', '白灵孙', '鹿兆海', '邓伦饰', '白灵兆海', '英勇', '白灵', '鹿兆鹏', '白鹿', '田福贤', '扈耀', '朱先生', '毛发', '白嘉轩', '张嘉译饰', '白鹿村', '鹿子霖', '何冰饰', '古老', '新丽', '安卓', '阴阳师', '智冠', '屠龙记', '汤姆', '韦', '布尔', '雷义', '巩', '老三', '巴掌', '翟晓川', '赵继伟', '常林', '方硕', '沙拉', '范子铭', '贾姆希', '连下', '小高潮', '哈文', '哈文连罚', '马沙耶希', '卡兹米', '沙耶希', '迪两罚', '迪卡兹米', '韩国现代', '郑义', '宣', '韩美军', '萨德', '韦某', '许乐', '王老板', '白玉兰', '朗', '张君', '蒋昌建', '董卿', '真人秀', '日渐式微', '郑渊洁', '柳传志', '濮存昕', '王千源', '徐静蕾', '曹文轩', '李立群', '敬畏', '张力', '宣传司', '刘奇葆', '双雄', '通微信', '艾瑞称', '董峥', '向银联', '倪', '李超', '银联卡', '范一飞', '许凌则', '双卡', '多窗口', '陈伟波', '池以', '杨海华', '豆满', '白狼', '庞氏', '介绍费', '池', '九乾', '赫氏宝', '潘越', '吴亚桥', '李氢', '王耀庆', '车晓', '吴', '磊', '王浩钧', '常曦元程', '雍石凉', '柴鸥', '王亚梅', '崔可法', '张濮薪', '杨子', '郭家铭', '浩', '安全感', '雍', '李民浩', '石凉', '大家庭', '张小磊程', '李何', '子孙', '赵传', '祝福', '阿森纳', '桑切斯', '仁和', '马尔科', '潘', '肯尼迪', '潘说', '聂鲁彬', '罗伊特', '塞进来', '阿姨', '崔永元', '璞', '谷塘', '方舟子', '柴斌', '中瀚', '汪清', '廉京燮', '延吉', '崔', '班娅', '庄园', '元璞', '麦', '卢卡', '安格斯', '朱丹蓬', '双赢', '许可证', '英杰', '马克', '林纳斯', '林丹', '谌龙', '张楠', '奥运冠军', '李宗伟', '黄宇翔', '石宇奇', '谌龙林', '丹田', '李东根', '黄永棋', '谌龙均', '连闯', '谌', '赵俊鹏', '陈晓欣约', '战辛杜', '陈晓欣', '赛中', '辛杜', '陈雨菲', '李佳馨', '戴资颖', '孙瑜', '何冰娇', '马林', '黄凯翔', '王懿律', '李俊', '慧', '刘雨辰', '陈', '贾一凡', '包宜鑫', '黄雅琼于', '黄东萍', '李茵晖', '白衬衫', '易怒', '黄一', '小绿猪', '明智', '特惠', '卡领', '刘璐莎', '忆利', '谢峰', '唐诗', '奥古斯', '李翰博', '马兹和索', '里亚诺', '路传中', '马斯', '夏练', '罗曼赫', '高超', '巴大秀', '泰勒', '格里芬', '云彦', '夏普是', '夏普后', '富士康', '夏普答', '爱夏普', '夏普中', '小学生', '师生', '奥', '萨斯', '小姐', '杰奎琳', '玛丽', '巴超', '苏黎世', '邱', '今年夏天', '贝索斯', '埃里森', '胡德', '纳', '阿奎', '刘某', '周某', '周林杰', '卢永慧', '林杰', '常德', '鲁某', '卢刚', '金娘科', '蒲桃', '周晓梦', '李幸璜', '田野', '天气晴好', '山尼即', '常绿灌木', '山尼是', '占领区', '紫黑色', '高幼枝', '黄黄', '朴薮', '古文', '叶含', '叶经', '甘有', '毛', '夏熟', '黄甘', '蒲陶隐', '蒲陶', '蓝', '南方周末', '陈列', '朱聃则', '朱聃', '朱聃说', '刘瑞瑞', '鸿海', '郭台铭', '夏普则', '戴正', '李林生', '布阵', '柳堤', '黄先生', '高雅', '张贴', '恩爱', '米粉', '冷汗', '农家乐', '玉林', '蓝英干', '陈先生', '江亭', '唐山店', '古董', '尹', '明白', '金桂', '北斗', '莫远锋', '马德里', '佩佩是', '佩佩', '克鲁伊', '和泽', '泽', '曼奇尼', '和璐璐', '唐杰忠', '黄梅戏', '吴琼', '唐', '侯宝林', '刘宝瑞为', '马季', '郝', '姜昆', '戴志诚', '王杰', '闵', '李根', '闵鹿蕾', '恩师', '李根到', '老东家', '马布里', '孙悦', '李根为', '李秋平', '顾忌', '林志玲', '志玲', '宇', '宇抱', '辛巴', '李先生', '种卿', '韩章', '李妍', '赵小敏', '张远', '黄田', '陈哲方', '远远不够', '段子', '贝佐斯', '萨蒂', '吉', '曼提', '卡兹', '岩', '白班', '布鲁克', '梅杰尔', '魏圣美', '汤普森', '戴夫', '阿瑞雅', '冯珊', '冯思敏', '卢晓晴', '金荷娜', '姚宣榆', '森田遥', '萨兰朋以', '叶莉英', '郭彩竹', '隋响', '杜墨', '陈思涵', '李茜娅', '韩巡', '大满贯', '金知', '韩元', '金楷林', '高宝', '柳箫然', '田仁智', '朴仁妃', '朴城', '安娜', '金世', '林希妤', '阎菁', '石昱婷', '黎佳韵', '刘文博', '那昕', '孙峰', '崔龙洙', '谭琦有', '老伴儿', '盖楼', '安林见', '王爷', '安林', '杨静茹', '胡同', '老远', '福祥', '游沿', '胡同口', '马大不差', '齐白石', '冯国璋', '万宁', '子午线', '内九外', '老肖', '小混混', '张革堂', '宰客', '老七', '满清', '文宇', '西贵', '达官贵人', '方方正正', '滑冰', '小冰', '胡来', '安林常', '安林拉过', '上格纹', '辟邪', '车安林', '游安林', '逯', '丰硕成果', '布展', '古丽齐', '马木提', '艾', '德莱斯', '祖农', '司马义', '黄三平', '融盛', '贺玉祯', '贡献率', '项目选择', '王继林', '孙力', '伊隆', '管维', '韦克', '那拉扬', '乔纳森', '夏威夷', '爱迪生', '满负荷', '拉扎尔', '高宇峰', '青秀区', '蓝玉凤', '何曾', '李婷婷', '瓦姆', '小姐姐', '乔玉', '尤为重要', '乔玉到', '樱熊', '李连樱', '乔玉长', '乔玉刚', '乔玉为', '乔玉着', '贺刚', '寻秦记', '李子雄', '马甲', '王先生', '刘先生', '梦飞', '冯雪', '韩梦飞', '郭磊', '席尔瓦', '迪奥拉', '贝尔纳', '邓超', '别提', '蔡明', '潘长江', '牛小玲', '张丹露', '那嘎', '马大姐', '花旦', '白蛇传', '红颜', '蒋珊', '白如雁', '赵文卓', '聂风', '李君羡', '楚昭南', '元奎', '徐克', '梅艳芳', '张国荣', '霍元甲', '黄飞鸿', '赵二人', '卓', '阿梅', '大姐大', '钟爱', '黑帮', '陈浩民', '毛有', '小日子', '文卓', '董洁', '何山', '公共秩序', '广大群众', '公序良', '爱知县', '周师傅', '滑铁卢', '哈维胡', '傅欢', '马德兴', '言辞', '周刚', '陈志钊', '武磊', '马加特', '西塞称', '杨博宇', '乌龙', '立柱', '杜撰', '周亮', '范志毅', '小皮克', '帕尼小', '普约尔', '维迪奇', '老帅', '克隆技术', '锋霸', '比达尔', '戈', '罗自', '周琦俩', '沃神', '马纳民', '周琦先', '王燕珍', '海富通', '景顺', '刘苏', '翟', '石家庄', '金为', '博深', '张泽群', '王嘉宁', '大礼堂', '高二', '金丝绒', '普考', '老太太', '特邀', '文新', '王剑强', '汤阳', '何刚', '文博', '刘红恩', '梁金生', '景仁榜', '朴素', '张罗', '双凤', '玉壶', '王德恒', '封疆', '祖传', '金子般', '古建筑', '李明', '王巍', '陆爱英', '阿拉伯', '斯高', '空天军', '代尔', '祖尔', '许诺', '科索沃', '公允', '方正', '王骏', '宝城', '程小勇', '覃汉', '黄文涛', '陈康', '樊骁文图', '灵文', '文昌', '嘉积', '皮秒', '东明路', '贾真', '桓古', '安然', '宁静', '白云悠悠', '萧瑟', '秋风', '燕子', '吕耀祥', '小姨子', '吉大', '吕耀祥家', '吕耀祥家旱', '李金磊', '余缺', '相衔接', '养老金', '张丹辉', '霍城', '金秋', '朱亚', '熊小', '熊骨', '唐纳', '鲁马', '卡灵顿', '周佳', '宋', '商洛', '国少', '高中生', '初中生', '亚青赛', '克林顿', '瓦登', '伯格', '索恩', '丹尼尔', '世锦赛', '卡梅隆', '弗林', '比亚斯', '彭宇案', '官微', '彭宇', '慈母', '匡正', '阿奎那', '道德', '小悦悦案', '赵锡军', '连平', '原莉', '三连胜', '秋元康', '方文山', '邓丽君', '多明戈', '才华', '秋叶原', '元康', '田敦子', '美少女', '柏木', '加藤', '西九龙', '樱', '周榜', '麻生太郎', '石破茂', '阿信', '格子裙', '田麻', '麻里', '花大', '文春', '亚岚', '宫泽佐江', '铃木', '玛莉亚', '吴哲晗', '赵嘉敏', '明显增加', '鞠婧', '康先生', '義援', '黄亚胜', '小孙', '支支吾吾', '新帅雅', '高中女生', '心羽', '井俊二', '白二弟', '卡鲁鲁', '希献声', '小山', '伯克级', '宋晓军', '向左转', '布赖斯', '张南', '梁忠', '任凭', '张钦', '扶智', '沙溪', '仲夏', '田龙', '肖玉', '任杰', '赵宇', '王雅伦', '王宇红', '广陵派', '古琴', '曹华', '张其萍', '赵津羽', '张垒', '韦璐璐', '强降雨', '安监', '郑颖', '杜亚儒', '刘冬智佳瑶', '石学敏', '荣泰', '童庆禧', '薛永祺', '贾强', '郑某', '李某', '莫曲', '小镇', '杜刚', '王秉阳', '马拉松', '马拉松赛', '苍翠', '雪岭', '云杉', '桂林', '蒋晓明', '蒋晓', '张建营', '张雨乐', '滑雪', '张军', '晁向荣', '文明委', '王晓萍', '车秀兰', '李晋', '千秋', '熊丰', '赵飞', '申士', '吉鲁会', '吉鲁对', '和维尔', '贝克', '吉鲁', '乌达', '尚虹波', '堵城', '刘宏军', '白塔', '刘刚', '东佳', '东佳镇', '肖公庙', '安抚', '向东', '张玉雷', '李小华摄', '李小华叶', '卫东', '紫荆花', '杨柳', '张晓曦', '春夏秋冬', '斯蒂芬', '法律顾问', '熊彼特', '雷厚义', '比尔盖茨', '海蓝', '施华洛', '宝石', '霍某', '江润黎', '张美芳', '李素梅', '李佳', '占有欲', '朱芳云', '香奈儿', '巴宝莉', '迪奥', '春雷', '王某', '一审判决', '阳宝华', '向阳', '阳某', '谢剑雄', '蔡军', '买卖双方', '娄底', '傅蕾', '刘沙', '肖璋', '新焕村', '严格把关', '钱财', '吴非', '邢静', '幸福感', '王研', '黄勇', '大力加强', '云鹰', '倪元', '怀柔', '范围广', '雨强', '北少', '白云', '白云区', '龙归', '独栋', '陶', '马天放', '冯毅', '赵炎', '吕烁', '王异', '姜磊', '刘汤颢', '卢宁', '胡子真', '马震', '王立国', '鲍云', '吕', '唐盈', '张子', '付利', '张泽君', '王琛', '刘卓明', '周郁夫', '唐可风', '袁泽世', '周尧', '彭建育', '杨振哲', '龙霖', '陈思', '苏庆涛', '谢洧', '肖天力', '张书弈', '胡啸', '陈浩宇', '孙宜国', '邵光', '谭杰', '冼建辉', '谢根深', '王鹤龄', '杨健', '杨凌波', '刘勇军', '耿钰婷', '红光', '李兵', '曹轩', '邬', '钟', '谭基', '瑜', '邓恩联', '刘冰', '张晓春', '朱某', '金鼎', '唐家湾', '朱', '经审查', '小龙', '甘', '沙坪坝', '王女士', '杨易林', '朱燕林', '马大哈', '胡杰', '钱存', '楼栋', '石墩', '买椟还珠', '丁', '安保', '东张西望', '周密', '张书浩摄', '张书浩', '何家坝', '弗格森', '鲁尼说', '范尼和鲁尼', '左后卫', '老大爷', '塞进', '楚天', '华师', '程溪', '金某', '巴方仅', '巴方', '齐凤芝', '方世才', '老公', '齐凤芝家', '齐凤芝压', '黄草坝', '邵家', '邵曰昌', '惠农', '杨某', '赵剑', '吴翔', '采取任何', '刑事判决', '伊藤美诚', '扬言', '王曼昱', '梁靖', '双冠王', '孔令辉', '张继科', '朱雀', '卢先生', '李女士', '梁墙', '梁和墙', '大修', '吴昕', '颜到', '内秀', '地秀', '朱波', '荣立', '连云港', '查明', '麻古', '吴某', '张某', '法律文书', '方沈', '查清', '徐根宝', '唐晖', '李翔', '宿舍楼', '范尼', '格拉纳', '鲁尼亚', '高昂', '蒋立章', '晖', '唐晖学', '鹿岛', '鹿角', '唐晖要', '董晓斌', '徐某', '王怀', '王怀清', '耶特如', '波耶特', '波耶特应', '和稀泥', '和尚', '亦然', '科隆', '莫德斯', '权健卡帅', '鲁尼', '施', '拉克斯', '孔蒂而', '梅扬贝', '贝利', '伊戈', '阿杜', '老鹰', '阿杜将', '沃神称', '乐福换', '巴特勒', '雷霆', '由南向北', '由西向东', '桂平', '本田雅阁', '木圭', '蒙绪晓', '韦伟强', '克隆', '唐鑫', '咸太腥', '金台里', '占地约', '布满', '泰伦卢', '雷登', '黄帅', '小蒋', '宁可', '傲娇', '时髦', '麦蒂', '郭少', '拉开战幕', '周琦将', '沃森', '埃森哲', '乔尼', '埃文斯', '许正', '丹顶鹤', '白鹳', '盛夏', '宝清县', '李臣', '樊胜美', '赖', '辛未', '于今', '王奶奶', '养娃', '刘青欧', '洪武', '孟公镇', '伍', '孟公村', '司法鉴定', '伍某', '张榜公布', '萨巴蒂', '小胜', '劳尔', '毕加索', '西多夫', '王哲林', '邹雨宸', '李楠队', '朱荣振', '范斌', '小钢炮', '堵代疏', '博士后', '杨丁淼', '罗来法', '聂伟平', '程超', '周打', '欧巡', '布雷克', '特雷', '蔡斯', '矫正', '刚毅', '卡用', '融会贯通', '瑞奇', '莱德杯', '布兰德', '斯内德', '相克', '艾林山', '布莱恩', '卡首', '卡赢', '卡小风', '陈庚', '小可', '周威榕', '瓦尔迪', '努力实现', '蒋雪娇', '张鸿', '陈婉仪', '张国祥', '刘伟', '石磊', '杜洪飙', '吴林芳', '老中医', '胡松', '白马湖', '何斌', '周文渊', '王丽', '高明', '张一辰', '韩开兴', '高精尖', '姜', '孟', '石沉大海', '温', '高壮', '昌平', '采齐', '张闯', '丘成桐', '格罗斯', '马德', '王贻芳', '杨振宁', '雁栖湖', '雁栖', '曹则', '温伯格', '安德森', '奥秘', '赵晗', '陈派', '杭福深', '武广', '左向右', '乌索', '姜至鹏', '莫雷诺', '蔡慧康', '体育道德', '南辕北辙', '秦升', '张翅', '曹德旺', '福耀', '保持警惕', '左艾甫', '许俊富', '谢尔', '安德里', '阿福比', '阿森纳队', '谢尔向', '劳伦妮尔', '阿婆', '老阿婆', '刘志锋', '赖伟杰', '颜骏', '凌扑球', '哈维以', '高拉', '卫冕', '白沙', '麻醉', '余生', '蓝光', '宝宝', '显微镜', '常见病', '光辉', '胡喆', '岳麓', '岳阳', '克扣', '马仔', '余坪', '熊某', '袁某', '嘉琳', '梁', '梁某', '成嘉琳', '张强', '远勤山', '卡友', '刘卓志为', '保卡', '赵云', '花木扶疏', '龙卷风', '陈良镇', '陈良', '王玉琴', '周观臣', '孔荡', '慈济', '孔子', '周观', '倪嘉缵', '倪老', '高敏', '杜志浩', '苏银霞', '凌辱', '卡得', '雪亮', '仁慈', '九亭', '黄某', '小美', '小美才', '裴帅', '老总', '大红大紫', '全能王', '杨旭', '杨善平', '利滚利', '洪水猛兽', '缪', '奥博', '苟仲文', '张建东', '弗瑞艾', '张家口', '巴赫', '白十源', '祖先', '金累', '宝白', '玉如意', '古波斯', '古代文明', '黄永玉', '刘大为', '墨客', '杨晓阳', '何家英', '吴为', '蒋山青', '崔自默范扬', '刘泉义', '俊杰', '加微信', '黑屏', '陈宗庆', '牟其中', '夏宗伟', '慕名', '同辉', '陈毅', '元帅', '阎罗', '陈独秀', '马克思', '宝贵', '李彦宏', '刘慈欣', '乌托邦', '莫尔', '褚时健', '褚', '郭沫若', '古比雪夫', '刘忠智', '宣言', '终审判决', '张维夏', '聂', '马王堆', '徐裕国', '拉蒙德', '鲍勃', '文勒夫', '杜兰特', '童', '胡玉翔', '黄荣明', '顾同宝', '宿迁', '顾同', '宝开', '车刚', '老伯', '孙帆', '王姓', '马路边', '洪水', '陈博', '戈登', '保留住', '费尔德', '曼', '鲁马出', '汉庭', '水果湖', '天馨馨', '明珠', '王朝', '李晓喻', '王贺军', '欧方', '李黔', '习水县', '安顺', '田建川', '周杰', '陈震', '陈震带', '云贵', '红樱桃', '邓云', '周杰家', '李飞飞', '桑蚕', '海萍', '种桑养蚕', '梁健', '易用性', '朱国亮', '颜兵', '涂满', '詹尼因', '沃尼', '马蒂亚', '福斯特', '弗', '蔡振华', '张剑及', '张剑', '孙学', '柳林', '郭才', '怀特', '戴伦', '凯齐娅', '戴伦便', '爱犬', '谭慧', '市场秩序', '仁寿县', '韩瑜', '安晓明', '冯某', '章莹颖', '田村', '小洁', '小聪明', '卢琳', '小清河', '托举', '西向东', '张女士', '米左右', '简阳', '王林', '汪', '崔某', '汪加', '周转', '蓝鲸', '蒋小天酷', '蒋超', '纪震', '安居房', '博雅', '张伟', '迪信通', '刘江峰', '郭德英', '明丰', '鲁迪', '张衣北', '张卫国', '波士顿', '雷军', '埃弗顿', '乔丹', '皮克福德', '太妃糖', '桑德兰', '达灵顿', '伯顿布', '拉德福', '尼康', '贺礼', '吴彦祖', '奥克兰', '束之高阁', '刘建顺', '同仁堂', '尹杰', '牛黄丸', '石斛', '毛驴', '牛黄', '田七', '黄进', '明向', '陈旧', '爱立信', '高保真', '陈杂', '鲁马开', '德国人', '洛维奇', '向前走', '西三环', '林国振', '廖力', '生梅方', '冯潇霆', '郑智王', '方镜琪', '荣昊', '张文钊', '黄博文', '刘健', '于汉超', '邹正', '刘殿', '李学鹏', '徐新下', '殷蒙', '经人介绍', '新娘子', '罗基奇', '克洛泽', '霍金的', '霍金', '原文中', '高清', '徐来', '拉开序幕', '朱婷', '布兰特', '卡右', '瓦格纳', '塔菲', '易边', '维尔纳', '克鲁斯', '赫克托', '吕迪格', '埃姆雷', '詹', '隆戈', '卡希尔', '小城镇', '安邦', '单循环', '刘星宇', '昨天早上', '杨磊', '杨乔栋', '野三坡', '松树', '吕贺岩', '容城', '广泛开展', '乐福', '斯杨', '泰厄斯', '欧乔', '路宾东', '沃克', '林立', '奥乔亚', '纳尼蹭入', '萨尔', '格雷罗', '左路传', '安德列', '马丁斯', '霍纳桑', '纳尼', '雷耶斯', '拉云', '梅内斯', '雍六', '内若', '欧兴荣', '颜骏凌', '武磊断', '森在', '路直传', '肖智', '凌厉', '黄政宇', '叶楚贵', '程月磊', '王嘉楠', '王燊超', '石柯', '郑致', '吕文君', '陶汉林', '易建联', '周鹏', '德怀特', '霍华德', '封盖', '奥拉朱旺', '加索尔', '萨普', '由东向西', '朱俊', '战全胜', '刘立宾', '饶书涵', '童嘉骅', '李润铭', '季道帅', '连得', '任骏', '韩德君', '吴前', '李敬宇击', '刘晓宇', '韩德君于', '德豪', '赵岩昊', '麦克风', '马特', '屠龙', '王座', '迪乌斯', '权之争', '沈曼', '萧全', '张杰', '南方人', '赵本山', '宋丹丹', '张二', '麦时', '赵一涵', '涵姐', '刘谋', '卢本伟', '小宝', '周云鹏', '小沈龙', '刘老根', '韩系', '连麦', '周卫', '易立', '李利春', '门德斯', '德赫亚来', '罗一人', '梁子', '罗和穆帅', '穆帅', '齐祖', '罗能', '老佛爷', '富德', '沃纳', '罗斯基', '过亚冠', '体操', '特维斯', '吴新', '纳智捷', '后继', '李章洙', '黎兵', '帕切科', '贾秀全', '罗伯特', '白宫', '克恩', '香榭丽舍', '杰拉尔', '静静', '韩伟', '赵震', '帕文', '诺是', '杜兆才', '今天下午', '洪臣', '马来人', '和善', '兰卡威', '马六甲', '孟加拉', '盖章', '昂山', '马泰', '寄希望于', '马岩岩', '欧青赛', '何原因', '甘井子', '蕾', '戴高乐', '安全带', '左肩', '威少尬', '赵四', '穆建栋', '李达', '伍尬', '春旭', '干哈', '金夫人', '罗爷', '孙颖莎均', '樊振东国', '许昕', '陈梦则', '韩莹', '丹羽', '刘晨', '金延', '屈尊', '封街', '郑彦标', '封进', '蒋晨悦', '曾裕', '华强', '齐备', '洪钦', '洪钦到', '西门子', '卡尔蔡', '图洪钦', '郑彦', '愿赌服输', '蒙羞', '李典', '小猴子', '鲁莽', '义智为', '艾马', '卡拉奇', '拉合尔', '马晓云', '赫', '韦利', '刘天', '司马迁', '管晏', '晏子', '太史公', '侍疾', '德育', '保持足够', '左耳', '马思纯', '黎', '时尚网', '马思', '思纯', '维生素', '马骋', '严肃处理', '严峻考验', '杜某', '高中学生', '寻人', '杭州人', '邵', '岳父', '哈利法', '沙丘', '天柱山', '建立健全', '谯', '米公祠', '马钢', '普仁滩', '扁平化', '刘晓农', '董扶周', '董某', '杨树', '迎客', '东方明珠', '明十三陵', '彭德成', '小鸣', '官微发', '戴学锋', '戴学峰', '后勇', '钟林生', '魏翔', '后大松', '越积越', '向钱看', '斯诺', '德国总理', '波恩', '张海迪', '贾勇', '克雷文', '克格勃', '东德', '李骥志摄', '陈豪', '井喷式', '孙志刚', '咸辉', '路子走', '高端化', '郝鹏', '魏礼群', '魏建国', '张学武', '黄金周', '段强', '陈丽华', '李景田', '卡取', '原以为', '双清区', '张晓荣', '朱永', '颜灵', '林浩摄', '林浩', '梁树章', '延伸线', '明广', '周相吉', '有为者', '江浙沪', '劳顿', '孙辈', '韩游', '姚', '康师傅', '肯德基', '安恕', '孙奎', '袁', '王博', '马世忠', '严峻性', '史林静', '申请人', '李昂', '梁晓飞', '卡纳克', '叶三石', '叶先生', '金字塔', '赫尔', '马里昂', '瓦利德', '柯利安', '李晓东', '陈庆滨', '师范', '黄磊', '黄磊版', '小龙虾', '爱戴', '谢安琪', '加冰', '闻名全球', '牛腩', '蔡', '康庄大道', '曾国藩', '谭若冰', '李卫华', '白燕', '朱卫怀', '夏秋航', '孟环', '漆成', '波涛', '张斌', '鹿特丹', '成倍增加', '罗羽', '华裔', '张学友', '范冰冰', '代刚', '陈溯', '刘光博', '文考', '罗某', '叶毓兰则', '叶毓兰', '诸公', '隆起带', '春光明媚', '罗云鹏', '杨富琨', '李云平', '岚', '杨凌', '西咸', '通达', '秦汉', '陆空', '高陵', '阎良', '马庄', '蓝田', '洪庆', '唐延路', '常宁', '蒲城', '路高桥', '马虎', '邹少欢', '周勉', '大力支持', '陆恺摄', '双刃剑', '冯导称', '鲁畅', '云居寺', '银山', '龙庆峡', '金海湖', '怀柔区', '双垂尾', '红外', '易损性', '格斗', '李玉海', '高阶', '商飞', '任国强', '杜', '唐怡', '王兴栋', '胡宜', '小升初', '小英赛', '奥英', '刘女士', '陆', '幼升', '广州某', '孟母们', '严肃查处', '成才观', '望子成龙', '戴秀文', '刘硕', '海拉尔', '范丽芳', '吕梁', '养羊', '白文', '刘谈青', '唐永强', '王致和', '科普馆', '于家务', '黄芩', '融青', '小汤山', '蔡家洼', '乐平', '奥润', '白石山', '蔡俊', '吴鑫', '钱进', '马菲张', '大伟', '马菲', '吴兴', '闫睿', '弗朗', '戴斌', '陈荣', '苗壮', '罗军', '吴剑', '解晓东', '庄', '刘锋', '有志之士', '高舜礼', '张辉', '庄莹', '李媛萍', '官肖剑', '丛琳', '朱冰尧', '束盈', '碧桂园', '艾肯', '周村', '龙宫', '郁孤台', '荣膺', '于文', '夏震宇', '吴玉萍', '白皮书', '浮萍', '王井怀', '刘海', '立功', '从宽', '刑五庭', '叶晓颖', '博社村', '卢笑', '余宗', '辜鹏博', '孔', '凌霄路', '轩轩', '杨立华', '夏无', '融佛', '柏文喜', '林华', '应丽君', '曹', '秦始皇', '库有', '柏', '广大青年', '振兴老', '谢拉', '顾超', '汪嵩', '陈吉', '胡斯蒂', '孙捷力', '刘建业', '吴亚轲', '杨笑', '谭龙', '周云', '戈伟', '范晓冬', '孙捷', '蒋哲', '何超', '杜震宇', '黄淮', '雷阵雨', '玉溪', '呼伦贝尔', '小雨', '张迪', '司马', '胡博', '白旗', '大佐', '蒋介石', '何应钦', '陆军', '冀冲野', '陆军军官', '佩刀', '吉章', '原贤二', '铃木贞', '晋升', '安宅', '普燕', '扬子江', '汪精卫', '唐乐', '顾祝同', '徐永昌', '少佐', '福留繁', '相宗邦造', '博通', '张鼓峰', '郎中', '曹池', '魏小安', '温泉', '张嘴', '鲁能泰山', '乌贾', '戴琳', '涵再', '杨宇', '蒿俊闵', '石笑', '孙兆靓', '赫第', '郎征', '边路传', '金敬道', '王大雷', '胡延强', '桑一非', '涵第', '冯伯元', '张野', '乌贾后', '太正', '刘尚', '张延军', '吉尔', '徐泽', '赵瑞希', '周科', '徐泽说', '陈启任', '陆河', '利用微', '燕', '南万镇', '弓弩', '于德斌', '索', '利亚诺', '马兹双', '潘喜明', '杨智', '王栋', '马兹后', '杨启鹏', '托前', '宋博轩', '雷永驰', '赵和靖', '吕鹏', '白岳峰', '黄锡镐', '杨立', '胡人', '李源', '石福涛', '丽', '纪检监察', '博鳌', '赵叶', '通沙立', '张尼', '佟明彪', '李陵申', '安全检查', '安全措施', '王开广', '陈剑', '封信', '采取措施', '伯尼', '桑德斯', '阴晴圆', '彭真', '灵', '左小腿', '雷锋', '蒋杰', '魏欣宁据', '多渠道', '刘佳', '马岩', '张岩', '凌扑出', '姜至鹏染', '雷纳尔迪', '哈维', '张卫', '望远镜', '红外光', '德令哈', '戈壁滩', '薛定谔', '潘建伟', '罗斌', '马克吐温', '上周二', '楼罗斌', '春晖', '艾灸', '毛金朝', '朱仰义', '郑纪表', '罗斌治好', '朱晓义', '老太婆', '邵逸夫', '方勇', '祝罗斌', '赵奕叶', '海春', '潘晔', '陈金茂', '拉客', '杨俊', '左晓莉', '李锡平', '秦景安说', '张国民', '张捷', '苗木', '窦成松', '康养', '宁镇扬', '宁仪扬', '何世春', '邹平', '吴忠祥', '果阿邦', '丹妮尔', '麦克劳', '阿邦', '斯维尼', '马其顿', '乌克兰', '高超音速', '马赫', '双引擎', '罗布', '魏斯', '刘石泉', '空天', '东三环', '冷清', '庄帅', '王永平', '奥赛', '潘跃', '卫浴', '王雷捷', '戴威', '胡玮炜', '师范生', '本专科', '高职班', '龙母', '艾米莉', '小溪', '刘豪健', '刘争良', '刘豪', '滕滕', '西林寺', '覃某', '朴韦', '格列佛', '欧新', '隆林', '杨取', '木瓦', '老屋里', '康桥', '宣传部', '林斌', '杨洋', '俞某', '石岩山', '张师傅', '萧山', '俞父', '小超', '高某', '李带', '李上', '王军', '远大于', '杰', '爱祖国', '海燕', '明水', '王府井', '郭先生', '李在', '赵丽', '刘雪妍', '刘力', '张秉龙', '韩添', '宾三人', '刘力宾', '张晨能', '詹国俊', '帅仲为', '希柳田', '车库里', '王玉春', '刘建国', '杨先生', '吴先生', '后小王', '小王', '刚刚开始', '韩方', '格尔方', '孙忠怀', '木乃伊', '沙尘暴', '阿甘正传', '哈利波', '林奇', '双峰', '科恩', '德伯格', '姜戈', '金刚', '姜文', '甄子丹', '赵薇', '国宏', '国宏众', '吴增剑', '胡京', '钮洪德', '邹巍', '白富', '何家星', '特瑞兹', '萨顿', '英文单词', '徐颖向', '徐颖', '徐颖称', '颖琪', '张海冰', '吴頔', '劳埃德', '费茨纳', '斯巴鲁', '霍斯县', '罗德岛', '丹佛', '霍斯', '田纳西', '牛群', '黄松', '玄武岩', '石子路', '慈爱', '乔像', '小公牛', '贝克姆', '乔穿', '加尔', '韦斯', '乔能', '汉娜', '兰', '玛伦', '牧羊犬', '卡恩', '霍卡', '乔在', '奥卡姆', '成百', '斯特林', '福勒则', '霍斯峰', '韦斯说', '内乔', '沃特森', '肖恩', '伍兹', '拉姆齐', '马匹', '吉普车', '布隆菲', '乔用', '吉娃娃', '艾米', '沃尔柏克德', '特邀嘉宾', '斯特劳', '海蒂', '梅萨维', '黛妮', '斯宾塞', '尔', '边远', '暴风雨', '乔恩', '花白', '李恩', '左转', '格凡', '柴', '柴草堆', '但原告', '雷雨', '庄子', '麻黄', '山洪', '文渊阁', '齐鲁', '维修保养', '艾森市', '路虎', '王怡平', '刘洋', '廖俊波', '廉洁奉公', '努力创造', '卫道士', '鲁本斯', '探监', '明骚', '西红柿', '苍井空', '潘绥铭', '宣传画', '凝晴雪', '欧阳询', '花钿', '龙蟠', '李庆文', '石俊峰', '李盛', '应邀出席', '采埃孚', '维修厂', '清德', '洪孟楷', '项庄舞剑', '邱义仁', '文青', '赖清德', '郭正亮', '严格执法', '凌云', '查重', '沙某', '霍鲁', '霍鲁杰', '王骏勇', '杨绍功', '赵久龙', '小康', '裴成', '柏说', '颜井平', '裴', '刘巧英', '池村', '刘焕业', '刘炜建', '文化周', '加朵', '戴安娜', '史蒂夫', '小寨', '王晓勇', '林健', '林健金锋', '华宇星', '老婆婆', '依山', '边玛央宗', '静怡', '罗思高', '通过培训', '岳爱', '子镇', '丹凤县', '花镇', '巩家湾', '管娃', '李丹竹', '李丹', '池中', '刘丽娜', '郭宝珍', '卢迈', '天岳爱', '孙辈罗思高', '博特', '李实', '靳媛媛', '龙嘉', '谢谢你们', '皮卡置', '巧家县', '郑月', '陈小愿', '大前提', '马云到', '卡为', '宝哥', '克鲁', '但克鲁', '宝哥彩', '宝盈彩', '王琴', '郁俊', '安大略', '法网恢恢', '赵某', '赵军', '宋某', '柯洁', '姜儒泽', '朴廷桓', '科士达', '卢晓晨', '碧波荡漾', '翠', '翠屏山', '林木', '翠绿', '桑葚', '白紫', '卢天瑜', '李宁', '西成', '由西成', '成绵乐', '秦岭', '贝赛', '艾利湖', '吴潇', '郝烨', '史完', '罗素', '费奇', '位漫威', '黑寡妇', '侠', '雷神', '绿巨人', '黑豹', '瓦尔基', '鲁特', '弗瑞神盾', '玛丽亚', '德云社', '唐老', '孙越', '李文华', '王八', '侯', '岳云鹏', '郭德纲', '石富', '唐老先', '李锦斌', '穆伦', '巨大贡献', '鲍尔默', '傲骨', '童璐', '黄红喜', '白石', '李湘力', '李时珍', '益智', '甘微苦', '温归', '益血', '阳虚', '阴虚', '易生', '周路平', '阴雨天', '老二', '龙腾', '褚俊健', '拓', '卡住', '申久', '邱国', '王金', '吕说', '刘礼华', '尔胜', '袁鑫', '平添', '郭尧尧', '银杏', '施克', '高田', '立夫', '高田约', '高田重', '贾全明', '梅西梅西', '许巍', '任贤齐', '李志', '黄贯中', '金庆', '舒适型', '白云鹏', '小英', '林全', '哲并', '哲对', '叶则', '蓝营', '柯绿合', '柯绿难', '柯绿', '明晟', '张晓军', '张博炜', '吴达', '赵宏宇', '万琼称', '余军', '乔林', '高招', '张文茂', '和子', '宋祖强', '宫曼琳', '李颖', '瓦蒂谈', '瓦蒂', '向东看', '鲁托因', '和锡卡', '相连接', '吴涛', '陈杰', '嘉实', '国产奔驰', '王子平', '上周三', '杨为', '吉灵浩', '汉克斯', '罗杰', '钱景', '赵荣春向', '赵荣春', '尤文图斯', '马修', '古德温', '潘一侨', '德温', '马化宇', '应勇', '陆家嘴', '金改', '李沪生', '欣鑫', '信诚', '蔡先生', '蔡某', '基永旭', '贯', '荣宰据', '东森', '荣宰', '太冲', '马蒂斯', '平稳过渡', '鲁瓦', '保守派', '哈蒙德', '鲍里斯', '安伯', '戴维', '布雷', '迪说梅', '李鹏', '梅对', '梅曾', '安娜苏', '梅有', '邱季端', '彭博', '新一波', '沃尔顿', '阿贝赛', '关系密切', '本杰明', '碧昂斯', '阿塔尔', '汪东城', '单飞', '吴尊', '吴尊辰', '凯雷', '萨', '由新晋', '武林', '高开', '马卡梅', '乌干达', '郭春菊摄', '峰', '高中历史', '明文', '许智杰', '罗致', '柯建铭', '陆客', '陈菊', '李显龙', '美元兑', '耶伦', '伯顿', '容祖儿', '宝刀未老', '王涛', '和斐', '波纳契', '仓至', '白银', '马拉维', '阿布沙', '耶夫', '杜特', '马尼拉', '张启畅', '雷亚尔', '罗斯福', '丘吉尔', '特蕾莎梅', '容克', '张雪飞', '舒适性', '石羊', '牧羊人', '蔡奇', '陈吉宁', '卢彦受', '蓝豹', '宝马车', '董怡虹', '徐汇区', '徐汇', '朱晟', '柏林', '弗兰肯', '慕尼黑', '斯特凡', '何伟', '李书福右', '智驾', '何伟前', '加倍努力', '能源安全', '李书福股', '北爱', '鲁塞尔', '卢森堡', '莫盖', '瑞典人', '塞缪尔', '高露洁', '哈雷', '戴维森', '伏特加', '高峰会', '何美玥', '高硕泰', '莫健', '梅健华', '续升', '续升近', '南韩', '巴结', '申斯右', '碧昂斯生', '龙凤胎', '碧', '彭斯称', '彭斯', '陈世渊', '阿布', '贝克尔', '巴格达', '迪已', '巨大胜利', '王连香', '孟母三迁', '张燕', '张燕称', '陆道培', '吕范永称', '候俊杰', '连香', '小天使', '小脸蛋', '宇豪', '巩宇豪', '小宇豪', '王荣梅', '吕范永', '广泛传播', '颜佑诚', '巩宇', '都还没', '巩书阳', '乐天', '金龙', '文在寅', '朴槿惠', '朴槿惠前', '卢武铉', '李明博', '翁庄', '玉米粒', '南风', '徐程', '冯德伦', '舒淇', '雷诺', '张静初', '刘德华', '曾志伟', '张丹', '叶红', '皮埃尔', '空高开', '罗斯', '官渡', '王静史', '董登新', '陆基', '张诚', '清仓', '王力宏', '李靓蕾', '嘉莉', '王嘉娜', '白马王子', '羡煞', '小女儿', '盼望已久', '和歌山', '阳', '青梅', '乌梅', '张浪摄', '乌梅酒', '庞毅甫', '毛绒', '马维东', '山羊绒', '马生国', '马希忠', '蒲泽春', '陈水扁', '阿帕奇', '国轩', '比亚迪', '欧阳明', '索罗斯', '巴尼耶', '别当真', '秦某', '秦', '高淳', '李启威', '李启元', '凯', '达格兰', '鹏', '蔡林', '康仁堂', '王力', '绍兴酒', '赵一迪', '爱国志士', '大少爷', '那敏', '阿九是', '千金小姐', '沈湘菱', '隋唐演义', '杨玉儿', '呈几何', '郭少波', '惠东', '陆丰', '恩平', '高素质', '辛勤', '刘传江', '傅琼瑛', '吴杰', '神圣感', '黑中介', '马常艳上', '千玺', '萌娃', '帅帅', '长得帅', '雪儿', '苏神', '天宇', '中千玺', '符桂英', '罗非鱼', '通福贷', '贡献度', '孙亚琼', '孙亚琼用', '汪浚', '印象形成', '曼迪利', '田原', '波洛兹', '金斯均', '金斯称', '加油卡', '大鹏', '埃克森', '鹿晗', '张弓', '张峻宁', '姚笛', '吴倩', '陈数', '耿直', '林冲', '吴邪', '鹿吹', '大张伟', '危矣', '明剑暗', '天资聪颖', '白落衡', '白帝', '师生恋', '单恋', '唐家', '公子哥', '徐有容', '苍生', '轩辕剑', '云之凡', '蒋劲夫', '东君', '丛丛', '郎才女貌', '鹿哥', '灵光', '贝尔蒙', '小丑', '刘建伟', '施策', '秦皇岛', '亚豪', '郭毅', '夏丹', '肖骁', '陈铭', '陈铭输', '邱晨', '肖骁有', '王后', '肖骁仗', '黄执中', '肖骁背', '高晓松', '雷曼', '皮卡', '欧蓝德', '雅阁', '凯美瑞', '荣加东', '荣加', '东荣加', '东于', '体育锻炼', '富翁', '高智', '林肯', '莎拉', '苏克雷', '米帅', '温特沃斯', '高智商', '杰吉厄', '奥提斯', '昌吉', '古泉', '钟鸣镇', '钟鸣段', '陈晨', '高开高', '朱佩', '叶甫盖', '尼季', '欧佩克', '布伦特', '心情舒畅', '瑞郎', '瑞郎朝', '马常艳摄', '朴素无华', '张晓明', '李达康', '高育良', '候良平', '侯亮', '陈海', '祁同伟', '昌明', '陆毅', '张丰毅', '吴刚', '柯蓝', '周梅森', '赵德汉', '丁义珍', '许亚军', '张志坚', '柯蓝张', '徐光宇', '胡静', '张凯丽', '高亚麟', '白志迪', '赵子琪', '丁海峰', '冯雷', '天刚', '达康', '陆桥', '同伟和季', '安置费', '钱孙', '宁静致远', '陈老送', '陈老', '静默', '严于律己', '汉大帮', '爱豆帅', '李达刚', '小女生', '时达康', '康外', '马扎', '侯勇饰', '侯勇', '塞满', '孟晓光据', '承德', '唐山', '灵寿', '新思维', '侯汉廷', '小三通', '台湾独立', '党纲', '范丽青', '阿方', '王冠', '姜建清', '王江', '嘉', '宗剑', '阎学通', '本硕博', '斯托克', '龚', '过敏', '宓', '汪星', '成毅', '阿拉蕾', '雅涵', '明星阵容', '欧弟', '郑则仕', '周嘉诚', '费希尔', '房利美', '席勒', '温哥华', '杨雨望', '旷野', '乌德', '恰克图', '车水马龙', '杨雨', '杨洁', '杨启成', '沙石', '小北', '健自评', '孙怡', '沙滩', '宝贝儿', '俊凯', '刘昊然', '王俊凯', '张一山', '昊然', '健有', '许可费', '邓智刚', '卢鸿鸣', '周小青', '卡尼', '巴克莱', '平昌', '束草', '崔文洵', '杜希萌', '刘乐据', '张波', '李世明', '左移', '易冷', '安慕希', '方特', '林依晨', '任嘉伦', '李现', '嘉伦', '袁湘琴', '郑恺祖', '凯丽', '忆', '绿茵', '明朗化', '史蒂文', '从严治党', '尤焕玲', '雷雨大风', '石钟乳', '吴起', '黑后', '高升', '白庙', '侯爵', '卢浮宫', '桂冠', '郭媛丹', '张震', '张仕波', '刘亚洲', '郑和曾', '任陆军', '黎火辉', '邓茜', '帕迪', '鲍尔', '斯墨菲', '卡帕', '莫里森', '鹿', '鹿校', '齐全', '钮云', '皇太后', '万寿', '万寿载', '洪少', '何润东', '曾庆', '轩尼诗', '佩尼亚', '安迪诺', '桑坦德', '丁飞据', '孙继文', '王强', '蒲式耳', '春小麦', '张玉明', '王乃水', '罗森格伦则', '瑞士法郎', '魏亮', '李泽湘', '汪滔', '卡内基', '李泽湘固', '汪滔修', '李泽湘以', '红杉', '沈南鹏', '陈冠华', '董建华', '大力提倡', '孙莹据', '戴建海', '曹学军', '李霄峰', '罗晋', '姜珮瑶', '辛鹏', '杨一威', '刘陆', '乔乔', '阎汶', '王朔', '袁国强', '沈德', '辜雨晴', '阳泉', '伊春', '玉树', '刑马岩', '牛须', '华娱', '和悦', '蒋家', '智勇', '黄金卡', '文武双全', '范闲', '凯在', '陈伟霆', '赵又廷', '律所', '律协', '律', '王磊', '何合', '纪晓岚', '纪', '铁三角', '邹静', '范存宝', '李先', '陈建才', '郭利平', '万载县', '葛晓燕', '鲁炜', '伦理道德', '邱毅评', '邱毅', '沈寂', '忠', '李丰瑞', '齐头', '卡迪夫', '博罗', '拉马丹', '阿贝迪', '马苏德', '汤玛斯', '梅尔', '雷顿斯通', '伍利奇', '阿黛尔', '刘祎辰', '刘毅军', '韩晓平', '张译雷', '辛芷蕾', '金士杰', '修罗', '谭旋', '徐徐', '武侠', '沈炼', '张震饰', '北斋', '周深', '陆文昭', '裴纶', '江上', '屈服于', '陈舒路', '阳禹扬', '嘉映', '马雅', '舒在', '张明浩据', '杨杰敏', '殷健', '王毅同', '胡安', '卡洛斯', '修宪', '立法权', '党执政', '鲁文德', '罗梅罗', '戈恩', '塞梅纳', '卡莱斯', '米格尔', '迪贝略', '马里奥', '埃切', '马塞拉', '帕雷德', '斯女', '罗伊', '科雷亚', '古斯塔', '沃伊姆', '司法权', '罗卡尔', '贝尼', '鲁宾逊', '阿莱曼', '门多萨', '王建民', '沈静', '周树宇', '郑钧天', '武里府', '戴刚', '毕毅', '花少团', '桑巴', '丛林', '陈柏霖', '宁以', '沙为', '花少', '张若昀', '呼声最高', '宁中', '杰尼斯', '木村拓哉', '特雷斯', '孙新原', '孙新', '钱庄', '尉迟', '静', '郭果', '吴姐姐', '谭德忠', '张嫩', '秦翔', '大雪山', '越来越近', '梦柯', '老虎沟', '高耸', '寒风凛冽', '马英九', '陈威仁', '闻言', '连笑', '思羽', '尼日尔', '小宝宝', '武功山', '韩先林', '阳埠', '山清水秀', '蓝山'])"
      ]
     },
     "execution_count": 99,
     "metadata": {},
     "output_type": "execute_result"
    }
   ],
   "source": [
    "sample_corrleate.keys()"
   ]
  },
  {
   "cell_type": "code",
   "execution_count": 100,
   "metadata": {},
   "outputs": [
    {
     "data": {
      "text/plain": [
       "defaultdict(int, {'张立': 2})"
      ]
     },
     "execution_count": 100,
     "metadata": {},
     "output_type": "execute_result"
    }
   ],
   "source": [
    "sample_corrleate['佩德罗']"
   ]
  },
  {
   "cell_type": "code",
   "execution_count": 101,
   "metadata": {},
   "outputs": [
    {
     "data": {
      "text/plain": [
       "defaultdict(int,\n",
       "            {'胡': 1,\n",
       "             '李俊': 1,\n",
       "             '峰': 1,\n",
       "             '高中历史': 1,\n",
       "             '史': 1,\n",
       "             '蔡': 8,\n",
       "             '明文': 1,\n",
       "             '许智杰': 2,\n",
       "             '清德': 2,\n",
       "             '罗致': 1,\n",
       "             '柯建铭': 1,\n",
       "             '陆客': 2,\n",
       "             '陈菊': 1,\n",
       "             '封锁': 1,\n",
       "             '张迪': 1})"
      ]
     },
     "execution_count": 101,
     "metadata": {},
     "output_type": "execute_result"
    }
   ],
   "source": [
    "sample_corrleate['李显龙']"
   ]
  },
  {
   "cell_type": "markdown",
   "metadata": {},
   "source": [
    "## 以上的数据分析结果，会有一些小问题，但是瑕不掩瑜，我们之后再学习一点数据图标的方法，就可以很好的展示我们的结果了，可以是词云的方式，也可以是连接图的方式。大家一定要相信，那些酷炫的可视化效果不是技术难点，重点是后边的编程实现和算法模型。 "
   ]
  }
 ],
 "metadata": {
  "kernelspec": {
   "display_name": "Python 3 (ipykernel)",
   "language": "python",
   "name": "python3"
  },
  "language_info": {
   "codemirror_mode": {
    "name": "ipython",
    "version": 3
   },
   "file_extension": ".py",
   "mimetype": "text/x-python",
   "name": "python",
   "nbconvert_exporter": "python",
   "pygments_lexer": "ipython3",
   "version": "3.9.7"
  }
 },
 "nbformat": 4,
 "nbformat_minor": 2
}
