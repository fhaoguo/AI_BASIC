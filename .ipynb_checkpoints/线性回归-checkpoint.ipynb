{
 "cells": [
  {
   "cell_type": "markdown",
   "id": "1292bd3c",
   "metadata": {},
   "source": [
    "# 线性回归\n",
    "模型:\n",
    "$f(x_i)=w_1x_i^1+w_2x_i^2+...+w_px_i^p+b$\n",
    "\n",
    "即:\n",
    "$f(x_i)=W \\cdot X$, $W=[b, w_1, w_2, ..., w_p]$, $X=[1, x_1, x_2, ..., x_p]$\n",
    "\n",
    "损失函数:\n",
    "$argmax_{W}\\sum_{i=1}^n[f(x_i)-y_i]^2$\n",
    "\n",
    "## 读取数据"
   ]
  },
  {
   "cell_type": "code",
   "execution_count": 1,
   "id": "6d503908",
   "metadata": {},
   "outputs": [],
   "source": [
    "import numpy as np\n",
    "from sklearn.datasets import load_boston\n",
    "from sklearn.model_selection import train_test_split"
   ]
  },
  {
   "cell_type": "code",
   "execution_count": 6,
   "id": "c29918b5",
   "metadata": {},
   "outputs": [],
   "source": [
    "import warnings\n",
    "warnings.filterwarnings('ignore')"
   ]
  },
  {
   "cell_type": "code",
   "execution_count": 7,
   "id": "da75389d",
   "metadata": {
    "scrolled": true
   },
   "outputs": [
    {
     "name": "stdout",
     "output_type": "stream",
     "text": [
      "f.shape:(506, 13)\n",
      "y.shape:(506,)\n",
      "x[0]:[6.320e-03 1.800e+01 2.310e+00 0.000e+00 5.380e-01 6.575e+00 6.520e+01\n",
      " 4.090e+00 1.000e+00 2.960e+02 1.530e+01 3.969e+02 4.980e+00]\n",
      "y[0]:24.0\n"
     ]
    }
   ],
   "source": [
    "boston = load_boston()\n",
    "x = boston.data\n",
    "y = boston.target\n",
    "\n",
    "print(f\"f.shape:{x.shape}\")\n",
    "print(f\"y.shape:{y.shape}\")\n",
    "print(f'x[0]:{x[0]}')\n",
    "print(f'y[0]:{y[0]}')"
   ]
  },
  {
   "cell_type": "markdown",
   "id": "e3a55f79",
   "metadata": {},
   "source": [
    "## 划分数据"
   ]
  },
  {
   "cell_type": "code",
   "execution_count": 8,
   "id": "7c1a2122",
   "metadata": {},
   "outputs": [
    {
     "name": "stdout",
     "output_type": "stream",
     "text": [
      "(379, 13)\n",
      "(127, 13)\n"
     ]
    }
   ],
   "source": [
    "x_train, x_test, y_train, y_test = train_test_split(x, y, random_state=8)\n",
    "print(x_train.shape)\n",
    "print(x_test.shape)"
   ]
  },
  {
   "cell_type": "markdown",
   "id": "26e53355",
   "metadata": {},
   "source": [
    "## 训练模型"
   ]
  },
  {
   "cell_type": "code",
   "execution_count": 9,
   "id": "7efc8a26",
   "metadata": {},
   "outputs": [],
   "source": [
    "from sklearn.linear_model import LinearRegression\n",
    "from sklearn.model_selection import cross_validate\n",
    "\n",
    "# 线性回归\n",
    "lr = LinearRegression(normalize=True, n_jobs=2)\n",
    "scores = cross_validate(lr, x_train, y_train, cv=10, scoring='neg_mean_squared_error')\n"
   ]
  },
  {
   "cell_type": "code",
   "execution_count": 10,
   "id": "22a3de57",
   "metadata": {},
   "outputs": [
    {
     "data": {
      "text/plain": [
       "{'fit_time': array([0.00181413, 0.00105405, 0.00086594, 0.00084567, 0.00080514,\n",
       "        0.00081396, 0.00091219, 0.00093603, 0.00088692, 0.00086713]),\n",
       " 'score_time': array([0.00036192, 0.00030589, 0.00029111, 0.00027704, 0.00027609,\n",
       "        0.00027895, 0.00030208, 0.00032306, 0.00029302, 0.000283  ]),\n",
       " 'test_score': array([-28.58836436, -18.05963883, -38.65397282, -16.72591549,\n",
       "        -19.24338451, -41.11994213, -46.86664107, -11.25843391,\n",
       "         -9.8140435 , -15.88790921])}"
      ]
     },
     "execution_count": 10,
     "metadata": {},
     "output_type": "execute_result"
    }
   ],
   "source": [
    "scores"
   ]
  },
  {
   "cell_type": "code",
   "execution_count": 11,
   "id": "d2fcaea9",
   "metadata": {},
   "outputs": [
    {
     "data": {
      "text/plain": [
       "-0.5283208335737187"
      ]
     },
     "execution_count": 11,
     "metadata": {},
     "output_type": "execute_result"
    }
   ],
   "source": [
    "1.0/3*np.log2(1.0/3) "
   ]
  },
  {
   "cell_type": "code",
   "execution_count": 12,
   "id": "cbccfe1e",
   "metadata": {},
   "outputs": [
    {
     "data": {
      "text/plain": [
       "-0.5"
      ]
     },
     "execution_count": 12,
     "metadata": {},
     "output_type": "execute_result"
    }
   ],
   "source": [
    "1.0/2 * np.log2(1.0/2)"
   ]
  },
  {
   "cell_type": "code",
   "execution_count": null,
   "id": "8bc7aa5a",
   "metadata": {},
   "outputs": [],
   "source": []
  }
 ],
 "metadata": {
  "kernelspec": {
   "display_name": "Python 3 (ipykernel)",
   "language": "python",
   "name": "python3"
  },
  "language_info": {
   "codemirror_mode": {
    "name": "ipython",
    "version": 3
   },
   "file_extension": ".py",
   "mimetype": "text/x-python",
   "name": "python",
   "nbconvert_exporter": "python",
   "pygments_lexer": "ipython3",
   "version": "3.9.7"
  }
 },
 "nbformat": 4,
 "nbformat_minor": 5
}
