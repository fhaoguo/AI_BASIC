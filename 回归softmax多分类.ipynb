{
 "cells": [
  {
   "cell_type": "code",
   "execution_count": 1,
   "id": "0893862b",
   "metadata": {},
   "outputs": [],
   "source": [
    "import numpy as np\n",
    "from icecream import ic"
   ]
  },
  {
   "cell_type": "markdown",
   "id": "055f2df6",
   "metadata": {},
   "source": [
    "## 线性回归原理"
   ]
  },
  {
   "cell_type": "code",
   "execution_count": 2,
   "id": "d210c506",
   "metadata": {},
   "outputs": [
    {
     "data": {
      "text/plain": [
       "array([[ 0.85605725, -0.44798511, -0.76299379,  0.56818311, -0.47529718,\n",
       "         1.23651703,  1.02730642],\n",
       "       [ 0.91817916,  0.72595334,  0.24693698,  0.59510611,  1.10119779,\n",
       "         0.30501566, -0.66789755],\n",
       "       [ 1.47051701,  2.19953562, -0.61449689,  0.88337407,  2.4031492 ,\n",
       "        -1.59545853,  1.19508094],\n",
       "       [ 1.21624915, -0.28091421, -0.1989651 , -1.41813837,  0.8091977 ,\n",
       "        -0.70718678,  0.872639  ],\n",
       "       [-0.87275914, -0.66056245, -0.27298604, -0.40192821, -0.02801716,\n",
       "         0.19282271, -0.42284425],\n",
       "       [ 0.27588889,  0.31238407, -1.48406561, -0.79524703, -1.00057132,\n",
       "         0.27902525,  1.78229275],\n",
       "       [-1.416006  , -0.12733088,  0.42220257, -0.66661885,  0.80263116,\n",
       "         1.28371881, -0.84339572],\n",
       "       [ 1.65981285, -0.04443592, -0.67680915,  0.78392584, -1.44028395,\n",
       "        -1.45969047,  1.23967048],\n",
       "       [ 0.24994738, -0.82951985, -0.70422736,  0.17934595,  0.90587694,\n",
       "        -1.15948946, -0.15535141],\n",
       "       [ 0.23284098,  0.33259819,  1.38026727,  1.14629416,  0.74969903,\n",
       "        -1.29094435, -0.58918934]])"
      ]
     },
     "execution_count": 2,
     "metadata": {},
     "output_type": "execute_result"
    }
   ],
   "source": [
    "X = np.random.normal(size=(10, 7))\n",
    "X"
   ]
  },
  {
   "cell_type": "code",
   "execution_count": 3,
   "id": "beb16eb9",
   "metadata": {},
   "outputs": [],
   "source": [
    "y = np.array([\n",
    "    [1],\n",
    "    [0],\n",
    "    [0],\n",
    "    [0],\n",
    "    [1],\n",
    "    [0],\n",
    "    [0],\n",
    "    [1],\n",
    "    [0],\n",
    "    [0],\n",
    "])"
   ]
  },
  {
   "cell_type": "code",
   "execution_count": 4,
   "id": "1d8ab9ed",
   "metadata": {},
   "outputs": [],
   "source": [
    "weights = np.random.normal(size=(1, 7))\n",
    "bias = 0"
   ]
  },
  {
   "cell_type": "code",
   "execution_count": 5,
   "id": "446c51e6",
   "metadata": {},
   "outputs": [],
   "source": [
    "def loss(yhats, y):\n",
    "    return np.mean( (yhats - y) ** 2)\n",
    "\n",
    "def partial_w(yhats, y, train_x):\n",
    "    return 2 * np.mean( (yhats - y) * train_x, axis=0)\n",
    "\n",
    "def partial_b(yhats, y):\n",
    "    return 2 * np.mean(yhats - y)\n",
    "\n",
    "def train_linear_regression(X, weights, bias, y):\n",
    "    lr = 1e-2\n",
    "    for i in range(30):\n",
    "        yhats = X @ weights.T + bias\n",
    "        weights += -1 * partial_w(yhats, y, X) * lr\n",
    "        loss_value = loss(yhats, y)\n",
    "        ic(loss_value)\n",
    "        bias += -1*partial_b(yhats, y)"
   ]
  },
  {
   "cell_type": "code",
   "execution_count": 11,
   "id": "ee789cde",
   "metadata": {
    "scrolled": true
   },
   "outputs": [
    {
     "name": "stderr",
     "output_type": "stream",
     "text": [
      "ic| loss_value: 0.2151924305495596\n",
      "ic| loss_value: 0.21704458766879356\n",
      "ic| loss_value: 0.2189764482152316\n",
      "ic| loss_value: 0.22098937395453197\n",
      "ic| loss_value: 0.2230847840414587\n",
      "ic| loss_value: 0.2252641559540053\n",
      "ic| loss_value: 0.22752902647140436\n",
      "ic| loss_value: 0.22988099269651383\n",
      "ic| loss_value: 0.23232171312311217\n",
      "ic| loss_value: 0.23485290874868253\n",
      "ic| loss_value: 0.2374763642333036\n",
      "ic| loss_value: 0.24019392910530962\n",
      "ic| loss_value: 0.2430075190144263\n",
      "ic| loss_value: 0.24591911703312408\n",
      "ic| loss_value: 0.24893077500698188\n",
      "ic| loss_value: 0.2520446149548873\n",
      "ic| loss_value: 0.25526283051994664\n",
      "ic| loss_value: 0.2585876884720192\n",
      "ic| loss_value: 0.2620215302628278\n",
      "ic| loss_value: 0.2655667736346492\n",
      "ic| loss_value: 0.26922591428362125\n",
      "ic| loss_value: 0.27300152757875207\n",
      "ic| loss_value: 0.2768962703377591\n",
      "ic| loss_value: 0.2809128826609092\n",
      "ic| loss_value: 0.2850541898240761\n",
      "ic| loss_value: 0.28932310423227636\n",
      "ic| loss_value: 0.29372262743499017\n",
      "ic| loss_value: 0.2982558522046208\n",
      "ic| loss_value: 0.30292596467949434\n",
      "ic| loss_value: 0.3077362465728447\n"
     ]
    }
   ],
   "source": [
    "train_linear_regression(X, weights, bias, y)"
   ]
  },
  {
   "cell_type": "markdown",
   "id": "2b52f856",
   "metadata": {},
   "source": [
    "## 逻辑斯蒂回归原理"
   ]
  },
  {
   "cell_type": "code",
   "execution_count": 9,
   "id": "6aa9a1f2",
   "metadata": {
    "scrolled": true
   },
   "outputs": [
    {
     "data": {
      "text/plain": [
       "array([[-0.18960463,  2.15120633,  0.92454788, -0.70237309, -1.56149436,\n",
       "        -0.14570325,  1.14843757],\n",
       "       [ 0.62362127, -0.05897596,  0.72704506, -0.82984973, -0.04199696,\n",
       "         0.67540386, -0.10570224],\n",
       "       [-0.61222791, -0.13169362,  1.47728942, -1.23001103, -0.08756364,\n",
       "         1.17425333, -0.88405139],\n",
       "       [ 0.56369411,  0.44036454, -0.29440275,  0.25148916,  0.83182337,\n",
       "        -1.11153496,  1.51470046],\n",
       "       [-0.38018386,  1.95941992, -0.14718331, -0.23422799, -0.3735152 ,\n",
       "        -2.05980188, -0.11734093],\n",
       "       [ 1.47351478,  1.85526257, -1.05468454, -0.19093845, -0.24848054,\n",
       "         0.86245277, -0.99242146],\n",
       "       [-0.66376812, -0.0768356 , -1.14601214,  0.17178516,  0.57340709,\n",
       "         0.52489463, -1.38286705],\n",
       "       [ 0.96315332,  1.18317482,  0.8824854 ,  0.33629302, -0.02248127,\n",
       "         1.16873128, -1.39587034],\n",
       "       [ 0.43097565,  1.12155886, -1.03006785,  1.72195451,  0.8002685 ,\n",
       "        -2.79522544, -0.61794303],\n",
       "       [-0.4213849 ,  0.3861082 ,  0.52671941, -0.95678824,  1.43334557,\n",
       "         0.27158936,  0.392126  ]])"
      ]
     },
     "execution_count": 9,
     "metadata": {},
     "output_type": "execute_result"
    }
   ],
   "source": [
    "X = np.random.normal(size=(10, 7))\n",
    "X"
   ]
  },
  {
   "cell_type": "code",
   "execution_count": 10,
   "id": "a6a68692",
   "metadata": {},
   "outputs": [],
   "source": [
    "y = np.array([\n",
    "    [1],\n",
    "    [0],\n",
    "    [0],\n",
    "    [0],\n",
    "    [1],\n",
    "    [0],\n",
    "    [0],\n",
    "    [1],\n",
    "    [0],\n",
    "    [0],\n",
    "])"
   ]
  },
  {
   "cell_type": "code",
   "execution_count": 11,
   "id": "508de875",
   "metadata": {},
   "outputs": [],
   "source": [
    "weights = np.random.normal(size=(1, 7))\n",
    "bias = 0"
   ]
  },
  {
   "cell_type": "code",
   "execution_count": 12,
   "id": "f6833fdc",
   "metadata": {
    "scrolled": true
   },
   "outputs": [],
   "source": [
    "def partial_w(yhats, y, train_x):\n",
    "    return 2 * np.mean( (yhats - y) * train_x, axis=0)\n",
    "\n",
    "def partial_b(yhats, y):\n",
    "    return 2 * np.mean(yhats - y)\n",
    "\n",
    "def logistic(x):\n",
    "    return 1 / (1 + np.exp(-x))\n",
    "\n",
    "# def derivatives(x):\n",
    "#     return logistic(x) * (1 - logistic(x))\n",
    "\n",
    "def logistic_loss(yhats, y):\n",
    "    return np.mean(y * np.log(yhats) + (1 - y) * np.log(yhats))\n",
    "    \n",
    "def train_logistic_regression(X, weights, bias, y):\n",
    "    for i in range(20):\n",
    "        yh = X @ weights.T + bias\n",
    "        yhats = logistic(yh)\n",
    "        threshold = 0.5\n",
    "        probs = np.array((yhats > threshold), dtype=np.int)\n",
    "        #ic(probs)\n",
    "        loss = logistic_loss(yhats, y)\n",
    "        ic(loss)\n",
    "        learning_rate = 1e-4\n",
    "        weights += partial_w(yh, y, X) * learning_rate\n",
    "        bias += partial_b(yhats, y)\n",
    "        #ic(yhats)"
   ]
  },
  {
   "cell_type": "code",
   "execution_count": 13,
   "id": "a0974186",
   "metadata": {},
   "outputs": [
    {
     "name": "stderr",
     "output_type": "stream",
     "text": [
      "/var/folders/19/dgxwsbgd76728hx577833nx00000gn/T/ipykernel_2505/1053828243.py:21: DeprecationWarning: `np.int` is a deprecated alias for the builtin `int`. To silence this warning, use `int` by itself. Doing this will not modify any behavior and is safe. When replacing `np.int`, you may wish to use e.g. `np.int64` or `np.int32` to specify the precision. If you wish to review your current use, check the release note link for additional information.\n",
      "Deprecated in NumPy 1.20; for more details and guidance: https://numpy.org/devdocs/release/1.20.0-notes.html#deprecations\n",
      "  probs = np.array((yhats > threshold), dtype=np.int)\n",
      "ic| loss: -1.282500999824686\n",
      "ic| loss: -1.158315667341081\n",
      "ic| loss: -1.0066605060994358\n",
      "ic| loss: -0.8266076148974569\n",
      "ic| loss: -0.6228378101358294\n",
      "ic| loss: -0.4110294281484691\n",
      "ic| loss: -0.2221188660939999\n",
      "ic| loss: -0.09189627638259104\n",
      "ic| loss: -0.02914430376957896\n",
      "ic| loss: -0.007837813415626713\n",
      "ic| loss: -0.0019782268681848934\n",
      "ic| loss: -0.0004901723137304115\n",
      "ic| loss: -0.00012085231057546545\n",
      "ic| loss: -2.975169326467799e-05\n",
      "ic| loss: -7.31977706480194e-06\n",
      "ic| loss: -1.8001446097284245e-06\n",
      "ic| loss: -4.4255154511005054e-07\n",
      "ic| loss: -1.087610829761617e-07\n",
      "ic| loss: -2.6720122698349204e-08\n",
      "ic| loss: -6.562355045447293e-09\n"
     ]
    }
   ],
   "source": [
    "train_logistic_regression(X, weights, bias, y)"
   ]
  },
  {
   "cell_type": "markdown",
   "id": "3deb9757",
   "metadata": {},
   "source": [
    "## softmax多分类原理"
   ]
  },
  {
   "cell_type": "code",
   "execution_count": 33,
   "id": "bc046044",
   "metadata": {},
   "outputs": [
    {
     "data": {
      "text/plain": [
       "array([[ 0.75851397,  1.18263584,  1.10194432, -0.49530614,  0.12118499,\n",
       "        -0.09903793, -0.45699385],\n",
       "       [-0.34510285,  1.28391797,  1.73206782,  1.25676382, -0.30132211,\n",
       "        -0.35629175, -0.4078143 ],\n",
       "       [ 0.0645615 ,  0.48399306, -2.6151535 , -1.45441648, -0.32754491,\n",
       "         0.34301158, -2.11707437],\n",
       "       [-0.38621005, -1.24932494,  0.77980923,  1.48737375,  0.15697739,\n",
       "        -0.19937169, -0.35541406],\n",
       "       [ 0.05489944, -1.9208908 ,  0.12819344, -0.45235292, -1.15782994,\n",
       "         0.64337273, -0.14886445],\n",
       "       [-1.26273508, -0.44073752,  0.16507198, -0.03336603,  1.06567002,\n",
       "        -1.29729771,  0.05577501],\n",
       "       [ 1.84739153, -1.01513499,  0.29877883,  0.11179003, -1.38712794,\n",
       "        -0.9122367 ,  0.21602   ],\n",
       "       [-1.03282633,  0.18363501,  1.06670473, -0.98305025,  0.46687787,\n",
       "        -0.42338033,  2.24065067],\n",
       "       [-0.86112607, -1.91433939, -0.09937837, -1.05895669, -0.19598358,\n",
       "         0.77526776,  0.37649278],\n",
       "       [ 0.04046872, -0.22312837, -0.79522361, -0.13769144,  1.62214959,\n",
       "         0.96878115,  0.23656208]])"
      ]
     },
     "execution_count": 33,
     "metadata": {},
     "output_type": "execute_result"
    }
   ],
   "source": [
    "X = np.random.normal(size=(10, 7))\n",
    "X"
   ]
  },
  {
   "cell_type": "code",
   "execution_count": 34,
   "id": "9010fcc7",
   "metadata": {},
   "outputs": [],
   "source": [
    "y = np.array([\n",
    "    [0,0,0,0,1],\n",
    "    [0,1,0,0,0],\n",
    "    [0,0,1,0,0],\n",
    "    [1,0,0,0,0],\n",
    "    [0,1,0,0,0],\n",
    "    [0,0,0,1,0],\n",
    "    [0,0,1,0,0],\n",
    "    [0,1,0,0,0],\n",
    "    [1,0,0,0,0],\n",
    "    [0,1,0,0,0]\n",
    "])"
   ]
  },
  {
   "cell_type": "code",
   "execution_count": 35,
   "id": "6b441952",
   "metadata": {},
   "outputs": [
    {
     "data": {
      "text/plain": [
       "array([[-0.8376805 , -0.93117994,  1.68161697,  0.4127514 ,  0.74117597,\n",
       "        -0.37039335, -0.30033729],\n",
       "       [-0.62133335, -1.64380405, -0.1150983 , -0.9399792 ,  0.06726693,\n",
       "         1.62178776,  0.19628432],\n",
       "       [-0.31876083,  1.13912391, -0.32543633, -1.04421023, -0.07856252,\n",
       "        -0.60897906,  0.27121422],\n",
       "       [ 0.08349229, -0.40346071,  0.20948992, -0.7721388 ,  0.56693149,\n",
       "         0.00720306, -0.78337012],\n",
       "       [ 0.37420206,  0.35593932, -1.91240523, -1.28101639,  0.74163924,\n",
       "        -0.17064796,  3.12818957]])"
      ]
     },
     "execution_count": 35,
     "metadata": {},
     "output_type": "execute_result"
    }
   ],
   "source": [
    "weights = np.random.normal(size=(5,7))\n",
    "bias = 0\n",
    "weights"
   ]
  },
  {
   "cell_type": "code",
   "execution_count": 36,
   "id": "8001acf7",
   "metadata": {},
   "outputs": [],
   "source": [
    "def softmax(x):\n",
    "    return np.exp(x) / np.sum(np.exp(x))\n"
   ]
  },
  {
   "cell_type": "code",
   "execution_count": 41,
   "id": "1195060b",
   "metadata": {},
   "outputs": [],
   "source": [
    "def softmax(x):\n",
    "    x -= np.max(x, axis=1).reshape(x.shape[0], 1)\n",
    "    x_sum = np.sum(np.exp(x), axis=1)\n",
    "    return np.exp(x) / x_sum.reshape(x.shape[0], 1)\n",
    "\n",
    "def cross_entropy(yhats, y):\n",
    "    return -np.mean( y * np.log(yhats) )\n",
    "\n",
    "def train_softmax(X, weights, bias, y):\n",
    "    for i in range(1):\n",
    "        yh = X @ weights.T + bias\n",
    "        yhats = softmax(yh)\n",
    "        ic(yhats)\n",
    "        threshold = 0.5\n",
    "        probs = np.array((yhats > threshold), dtype=np.int)\n",
    "        ic(probs)\n",
    "        loss = cross_entropy(yhats, y)\n",
    "        ic(loss)"
   ]
  },
  {
   "cell_type": "code",
   "execution_count": 42,
   "id": "ff87d304",
   "metadata": {},
   "outputs": [
    {
     "name": "stderr",
     "output_type": "stream",
     "text": [
      "ic| yhats: array([[1.81365278e-01, 1.49700875e-02, 5.00501717e-01, 2.84361812e-01,\n",
      "                   1.88011052e-02],\n",
      "                  [9.13039469e-01, 1.35772052e-03, 5.95796588e-02, 2.58531859e-02,\n",
      "                   1.69966266e-04],\n",
      "                  [2.84449229e-04, 1.38472778e-01, 4.56113812e-01, 3.43798434e-01,\n",
      "                   6.13305266e-02],\n",
      "                  [9.43540749e-01, 3.52968152e-02, 1.04741950e-03, 1.99508130e-02,\n",
      "                   1.64203821e-04],\n",
      "                  [2.24288395e-02, 9.54073140e-01, 1.31562613e-03, 2.03094664e-02,\n",
      "                   1.87292814e-03],\n",
      "                  [7.75119282e-01, 2.37489495e-02, 7.15522041e-02, 7.75776209e-02,\n",
      "                   5.20019438e-02],\n",
      "                  [1.96443104e-01, 1.39792006e-01, 1.28129221e-01, 2.89174813e-01,\n",
      "                   2.46460857e-01],\n",
      "                  [1.17408284e-02, 4.37834202e-03, 1.34311144e-02, 8.86498979e-04,\n",
      "                   9.69563216e-01],\n",
      "                  [9.27705255e-03, 9.72633370e-01, 7.79278994e-04, 7.17166805e-03,\n",
      "                   1.01386301e-02],\n",
      "                  [1.46712089e-02, 2.26554799e-01, 1.36801027e-02, 4.98055491e-02,\n",
      "                   6.95288340e-01]])\n",
      "/var/folders/19/dgxwsbgd76728hx577833nx00000gn/T/ipykernel_2505/2941833711.py:15: DeprecationWarning: `np.int` is a deprecated alias for the builtin `int`. To silence this warning, use `int` by itself. Doing this will not modify any behavior and is safe. When replacing `np.int`, you may wish to use e.g. `np.int64` or `np.int32` to specify the precision. If you wish to review your current use, check the release note link for additional information.\n",
      "Deprecated in NumPy 1.20; for more details and guidance: https://numpy.org/devdocs/release/1.20.0-notes.html#deprecations\n",
      "  probs = np.array((yhats > threshold), dtype=np.int)\n",
      "ic| probs: array([[0, 0, 1, 0, 0],\n",
      "                  [1, 0, 0, 0, 0],\n",
      "                  [0, 0, 0, 0, 0],\n",
      "                  [1, 0, 0, 0, 0],\n",
      "                  [0, 1, 0, 0, 0],\n",
      "                  [1, 0, 0, 0, 0],\n",
      "                  [0, 0, 0, 0, 0],\n",
      "                  [0, 0, 0, 0, 1],\n",
      "                  [0, 1, 0, 0, 0],\n",
      "                  [0, 0, 0, 0, 1]])\n",
      "ic| loss: 0.553463770523768\n",
      "ic| yhats: array([[1.81365278e-01, 1.49700875e-02, 5.00501717e-01, 2.84361812e-01,\n",
      "                   1.88011052e-02],\n",
      "                  [9.13039469e-01, 1.35772052e-03, 5.95796588e-02, 2.58531859e-02,\n",
      "                   1.69966266e-04],\n",
      "                  [2.84449229e-04, 1.38472778e-01, 4.56113812e-01, 3.43798434e-01,\n",
      "                   6.13305266e-02],\n",
      "                  [9.43540749e-01, 3.52968152e-02, 1.04741950e-03, 1.99508130e-02,\n",
      "                   1.64203821e-04],\n",
      "                  [2.24288395e-02, 9.54073140e-01, 1.31562613e-03, 2.03094664e-02,\n",
      "                   1.87292814e-03],\n",
      "                  [7.75119282e-01, 2.37489495e-02, 7.15522041e-02, 7.75776209e-02,\n",
      "                   5.20019438e-02],\n",
      "                  [1.96443104e-01, 1.39792006e-01, 1.28129221e-01, 2.89174813e-01,\n",
      "                   2.46460857e-01],\n",
      "                  [1.17408284e-02, 4.37834202e-03, 1.34311144e-02, 8.86498979e-04,\n",
      "                   9.69563216e-01],\n",
      "                  [9.27705255e-03, 9.72633370e-01, 7.79278994e-04, 7.17166805e-03,\n",
      "                   1.01386301e-02],\n",
      "                  [1.46712089e-02, 2.26554799e-01, 1.36801027e-02, 4.98055491e-02,\n",
      "                   6.95288340e-01]])\n",
      "ic| probs: array([[0, 0, 1, 0, 0],\n",
      "                  [1, 0, 0, 0, 0],\n",
      "                  [0, 0, 0, 0, 0],\n",
      "                  [1, 0, 0, 0, 0],\n",
      "                  [0, 1, 0, 0, 0],\n",
      "                  [1, 0, 0, 0, 0],\n",
      "                  [0, 0, 0, 0, 0],\n",
      "                  [0, 0, 0, 0, 1],\n",
      "                  [0, 1, 0, 0, 0],\n",
      "                  [0, 0, 0, 0, 1]])\n",
      "ic| loss: 0.553463770523768\n",
      "ic| yhats: array([[1.81365278e-01, 1.49700875e-02, 5.00501717e-01, 2.84361812e-01,\n",
      "                   1.88011052e-02],\n",
      "                  [9.13039469e-01, 1.35772052e-03, 5.95796588e-02, 2.58531859e-02,\n",
      "                   1.69966266e-04],\n",
      "                  [2.84449229e-04, 1.38472778e-01, 4.56113812e-01, 3.43798434e-01,\n",
      "                   6.13305266e-02],\n",
      "                  [9.43540749e-01, 3.52968152e-02, 1.04741950e-03, 1.99508130e-02,\n",
      "                   1.64203821e-04],\n",
      "                  [2.24288395e-02, 9.54073140e-01, 1.31562613e-03, 2.03094664e-02,\n",
      "                   1.87292814e-03],\n",
      "                  [7.75119282e-01, 2.37489495e-02, 7.15522041e-02, 7.75776209e-02,\n",
      "                   5.20019438e-02],\n",
      "                  [1.96443104e-01, 1.39792006e-01, 1.28129221e-01, 2.89174813e-01,\n",
      "                   2.46460857e-01],\n",
      "                  [1.17408284e-02, 4.37834202e-03, 1.34311144e-02, 8.86498979e-04,\n",
      "                   9.69563216e-01],\n",
      "                  [9.27705255e-03, 9.72633370e-01, 7.79278994e-04, 7.17166805e-03,\n",
      "                   1.01386301e-02],\n",
      "                  [1.46712089e-02, 2.26554799e-01, 1.36801027e-02, 4.98055491e-02,\n",
      "                   6.95288340e-01]])\n",
      "ic| probs: array([[0, 0, 1, 0, 0],\n",
      "                  [1, 0, 0, 0, 0],\n",
      "                  [0, 0, 0, 0, 0],\n",
      "                  [1, 0, 0, 0, 0],\n",
      "                  [0, 1, 0, 0, 0],\n",
      "                  [1, 0, 0, 0, 0],\n",
      "                  [0, 0, 0, 0, 0],\n",
      "                  [0, 0, 0, 0, 1],\n",
      "                  [0, 1, 0, 0, 0],\n",
      "                  [0, 0, 0, 0, 1]])\n",
      "ic| loss: 0.553463770523768\n",
      "ic| yhats: array([[1.81365278e-01, 1.49700875e-02, 5.00501717e-01, 2.84361812e-01,\n",
      "                   1.88011052e-02],\n",
      "                  [9.13039469e-01, 1.35772052e-03, 5.95796588e-02, 2.58531859e-02,\n",
      "                   1.69966266e-04],\n",
      "                  [2.84449229e-04, 1.38472778e-01, 4.56113812e-01, 3.43798434e-01,\n",
      "                   6.13305266e-02],\n",
      "                  [9.43540749e-01, 3.52968152e-02, 1.04741950e-03, 1.99508130e-02,\n",
      "                   1.64203821e-04],\n",
      "                  [2.24288395e-02, 9.54073140e-01, 1.31562613e-03, 2.03094664e-02,\n",
      "                   1.87292814e-03],\n",
      "                  [7.75119282e-01, 2.37489495e-02, 7.15522041e-02, 7.75776209e-02,\n",
      "                   5.20019438e-02],\n",
      "                  [1.96443104e-01, 1.39792006e-01, 1.28129221e-01, 2.89174813e-01,\n",
      "                   2.46460857e-01],\n",
      "                  [1.17408284e-02, 4.37834202e-03, 1.34311144e-02, 8.86498979e-04,\n",
      "                   9.69563216e-01],\n",
      "                  [9.27705255e-03, 9.72633370e-01, 7.79278994e-04, 7.17166805e-03,\n",
      "                   1.01386301e-02],\n",
      "                  [1.46712089e-02, 2.26554799e-01, 1.36801027e-02, 4.98055491e-02,\n",
      "                   6.95288340e-01]])\n",
      "ic| probs: array([[0, 0, 1, 0, 0],\n",
      "                  [1, 0, 0, 0, 0],\n",
      "                  [0, 0, 0, 0, 0],\n",
      "                  [1, 0, 0, 0, 0],\n",
      "                  [0, 1, 0, 0, 0],\n",
      "                  [1, 0, 0, 0, 0],\n",
      "                  [0, 0, 0, 0, 0],\n",
      "                  [0, 0, 0, 0, 1],\n",
      "                  [0, 1, 0, 0, 0],\n",
      "                  [0, 0, 0, 0, 1]])\n",
      "ic| loss: 0.553463770523768\n",
      "ic| yhats: array([[1.81365278e-01, 1.49700875e-02, 5.00501717e-01, 2.84361812e-01,\n",
      "                   1.88011052e-02],\n",
      "                  [9.13039469e-01, 1.35772052e-03, 5.95796588e-02, 2.58531859e-02,\n",
      "                   1.69966266e-04],\n",
      "                  [2.84449229e-04, 1.38472778e-01, 4.56113812e-01, 3.43798434e-01,\n",
      "                   6.13305266e-02],\n",
      "                  [9.43540749e-01, 3.52968152e-02, 1.04741950e-03, 1.99508130e-02,\n",
      "                   1.64203821e-04],\n",
      "                  [2.24288395e-02, 9.54073140e-01, 1.31562613e-03, 2.03094664e-02,\n",
      "                   1.87292814e-03],\n",
      "                  [7.75119282e-01, 2.37489495e-02, 7.15522041e-02, 7.75776209e-02,\n",
      "                   5.20019438e-02],\n",
      "                  [1.96443104e-01, 1.39792006e-01, 1.28129221e-01, 2.89174813e-01,\n",
      "                   2.46460857e-01],\n",
      "                  [1.17408284e-02, 4.37834202e-03, 1.34311144e-02, 8.86498979e-04,\n",
      "                   9.69563216e-01],\n",
      "                  [9.27705255e-03, 9.72633370e-01, 7.79278994e-04, 7.17166805e-03,\n",
      "                   1.01386301e-02],\n",
      "                  [1.46712089e-02, 2.26554799e-01, 1.36801027e-02, 4.98055491e-02,\n",
      "                   6.95288340e-01]])\n",
      "ic| probs: array([[0, 0, 1, 0, 0],\n",
      "                  [1, 0, 0, 0, 0],\n",
      "                  [0, 0, 0, 0, 0],\n",
      "                  [1, 0, 0, 0, 0],\n",
      "                  [0, 1, 0, 0, 0],\n",
      "                  [1, 0, 0, 0, 0],\n",
      "                  [0, 0, 0, 0, 0],\n",
      "                  [0, 0, 0, 0, 1],\n",
      "                  [0, 1, 0, 0, 0],\n",
      "                  [0, 0, 0, 0, 1]])\n",
      "ic| loss: 0.553463770523768\n",
      "ic| yhats: array([[1.81365278e-01, 1.49700875e-02, 5.00501717e-01, 2.84361812e-01,\n",
      "                   1.88011052e-02],\n",
      "                  [9.13039469e-01, 1.35772052e-03, 5.95796588e-02, 2.58531859e-02,\n",
      "                   1.69966266e-04],\n",
      "                  [2.84449229e-04, 1.38472778e-01, 4.56113812e-01, 3.43798434e-01,\n",
      "                   6.13305266e-02],\n",
      "                  [9.43540749e-01, 3.52968152e-02, 1.04741950e-03, 1.99508130e-02,\n",
      "                   1.64203821e-04],\n",
      "                  [2.24288395e-02, 9.54073140e-01, 1.31562613e-03, 2.03094664e-02,\n",
      "                   1.87292814e-03],\n",
      "                  [7.75119282e-01, 2.37489495e-02, 7.15522041e-02, 7.75776209e-02,\n",
      "                   5.20019438e-02],\n",
      "                  [1.96443104e-01, 1.39792006e-01, 1.28129221e-01, 2.89174813e-01,\n",
      "                   2.46460857e-01],\n",
      "                  [1.17408284e-02, 4.37834202e-03, 1.34311144e-02, 8.86498979e-04,\n",
      "                   9.69563216e-01],\n",
      "                  [9.27705255e-03, 9.72633370e-01, 7.79278994e-04, 7.17166805e-03,\n",
      "                   1.01386301e-02],\n",
      "                  [1.46712089e-02, 2.26554799e-01, 1.36801027e-02, 4.98055491e-02,\n",
      "                   6.95288340e-01]])\n",
      "ic| probs: array([[0, 0, 1, 0, 0],\n",
      "                  [1, 0, 0, 0, 0],\n",
      "                  [0, 0, 0, 0, 0],\n",
      "                  [1, 0, 0, 0, 0],\n",
      "                  [0, 1, 0, 0, 0],\n",
      "                  [1, 0, 0, 0, 0],\n",
      "                  [0, 0, 0, 0, 0],\n",
      "                  [0, 0, 0, 0, 1],\n",
      "                  [0, 1, 0, 0, 0],\n",
      "                  [0, 0, 0, 0, 1]])\n",
      "ic| loss: 0.553463770523768\n",
      "ic| yhats: array([[1.81365278e-01, 1.49700875e-02, 5.00501717e-01, 2.84361812e-01,\n",
      "                   1.88011052e-02],\n",
      "                  [9.13039469e-01, 1.35772052e-03, 5.95796588e-02, 2.58531859e-02,\n",
      "                   1.69966266e-04],\n",
      "                  [2.84449229e-04, 1.38472778e-01, 4.56113812e-01, 3.43798434e-01,\n",
      "                   6.13305266e-02],\n",
      "                  [9.43540749e-01, 3.52968152e-02, 1.04741950e-03, 1.99508130e-02,\n",
      "                   1.64203821e-04],\n",
      "                  [2.24288395e-02, 9.54073140e-01, 1.31562613e-03, 2.03094664e-02,\n",
      "                   1.87292814e-03],\n",
      "                  [7.75119282e-01, 2.37489495e-02, 7.15522041e-02, 7.75776209e-02,\n",
      "                   5.20019438e-02],\n",
      "                  [1.96443104e-01, 1.39792006e-01, 1.28129221e-01, 2.89174813e-01,\n",
      "                   2.46460857e-01],\n",
      "                  [1.17408284e-02, 4.37834202e-03, 1.34311144e-02, 8.86498979e-04,\n",
      "                   9.69563216e-01],\n",
      "                  [9.27705255e-03, 9.72633370e-01, 7.79278994e-04, 7.17166805e-03,\n",
      "                   1.01386301e-02],\n",
      "                  [1.46712089e-02, 2.26554799e-01, 1.36801027e-02, 4.98055491e-02,\n",
      "                   6.95288340e-01]])\n",
      "ic| probs: array([[0, 0, 1, 0, 0],\n",
      "                  [1, 0, 0, 0, 0],\n",
      "                  [0, 0, 0, 0, 0],\n",
      "                  [1, 0, 0, 0, 0],\n",
      "                  [0, 1, 0, 0, 0],\n",
      "                  [1, 0, 0, 0, 0],\n",
      "                  [0, 0, 0, 0, 0],\n",
      "                  [0, 0, 0, 0, 1],\n",
      "                  [0, 1, 0, 0, 0],\n",
      "                  [0, 0, 0, 0, 1]])\n",
      "ic| loss: 0.553463770523768\n",
      "ic| yhats: array([[1.81365278e-01, 1.49700875e-02, 5.00501717e-01, 2.84361812e-01,\n",
      "                   1.88011052e-02],\n",
      "                  [9.13039469e-01, 1.35772052e-03, 5.95796588e-02, 2.58531859e-02,\n",
      "                   1.69966266e-04],\n",
      "                  [2.84449229e-04, 1.38472778e-01, 4.56113812e-01, 3.43798434e-01,\n",
      "                   6.13305266e-02],\n",
      "                  [9.43540749e-01, 3.52968152e-02, 1.04741950e-03, 1.99508130e-02,\n",
      "                   1.64203821e-04],\n",
      "                  [2.24288395e-02, 9.54073140e-01, 1.31562613e-03, 2.03094664e-02,\n",
      "                   1.87292814e-03],\n",
      "                  [7.75119282e-01, 2.37489495e-02, 7.15522041e-02, 7.75776209e-02,\n",
      "                   5.20019438e-02],\n",
      "                  [1.96443104e-01, 1.39792006e-01, 1.28129221e-01, 2.89174813e-01,\n",
      "                   2.46460857e-01],\n",
      "                  [1.17408284e-02, 4.37834202e-03, 1.34311144e-02, 8.86498979e-04,\n",
      "                   9.69563216e-01],\n",
      "                  [9.27705255e-03, 9.72633370e-01, 7.79278994e-04, 7.17166805e-03,\n",
      "                   1.01386301e-02],\n",
      "                  [1.46712089e-02, 2.26554799e-01, 1.36801027e-02, 4.98055491e-02,\n",
      "                   6.95288340e-01]])\n",
      "ic| probs: array([[0, 0, 1, 0, 0],\n",
      "                  [1, 0, 0, 0, 0],\n",
      "                  [0, 0, 0, 0, 0],\n",
      "                  [1, 0, 0, 0, 0],\n",
      "                  [0, 1, 0, 0, 0],\n",
      "                  [1, 0, 0, 0, 0],\n",
      "                  [0, 0, 0, 0, 0],\n",
      "                  [0, 0, 0, 0, 1],\n",
      "                  [0, 1, 0, 0, 0],\n",
      "                  [0, 0, 0, 0, 1]])\n",
      "ic| loss: 0.553463770523768\n",
      "ic| yhats: array([[1.81365278e-01, 1.49700875e-02, 5.00501717e-01, 2.84361812e-01,\n",
      "                   1.88011052e-02],\n",
      "                  [9.13039469e-01, 1.35772052e-03, 5.95796588e-02, 2.58531859e-02,\n",
      "                   1.69966266e-04],\n",
      "                  [2.84449229e-04, 1.38472778e-01, 4.56113812e-01, 3.43798434e-01,\n",
      "                   6.13305266e-02],\n",
      "                  [9.43540749e-01, 3.52968152e-02, 1.04741950e-03, 1.99508130e-02,\n",
      "                   1.64203821e-04],\n",
      "                  [2.24288395e-02, 9.54073140e-01, 1.31562613e-03, 2.03094664e-02,\n",
      "                   1.87292814e-03],\n",
      "                  [7.75119282e-01, 2.37489495e-02, 7.15522041e-02, 7.75776209e-02,\n",
      "                   5.20019438e-02],\n",
      "                  [1.96443104e-01, 1.39792006e-01, 1.28129221e-01, 2.89174813e-01,\n",
      "                   2.46460857e-01],\n",
      "                  [1.17408284e-02, 4.37834202e-03, 1.34311144e-02, 8.86498979e-04,\n",
      "                   9.69563216e-01],\n",
      "                  [9.27705255e-03, 9.72633370e-01, 7.79278994e-04, 7.17166805e-03,\n",
      "                   1.01386301e-02],\n",
      "                  [1.46712089e-02, 2.26554799e-01, 1.36801027e-02, 4.98055491e-02,\n",
      "                   6.95288340e-01]])\n",
      "ic| probs: array([[0, 0, 1, 0, 0],\n",
      "                  [1, 0, 0, 0, 0],\n",
      "                  [0, 0, 0, 0, 0],\n",
      "                  [1, 0, 0, 0, 0],\n",
      "                  [0, 1, 0, 0, 0],\n",
      "                  [1, 0, 0, 0, 0],\n",
      "                  [0, 0, 0, 0, 0],\n",
      "                  [0, 0, 0, 0, 1],\n",
      "                  [0, 1, 0, 0, 0],\n",
      "                  [0, 0, 0, 0, 1]])\n",
      "ic| loss: 0.553463770523768\n",
      "ic| yhats: array([[1.81365278e-01, 1.49700875e-02, 5.00501717e-01, 2.84361812e-01,\n",
      "                   1.88011052e-02],\n",
      "                  [9.13039469e-01, 1.35772052e-03, 5.95796588e-02, 2.58531859e-02,\n",
      "                   1.69966266e-04],\n",
      "                  [2.84449229e-04, 1.38472778e-01, 4.56113812e-01, 3.43798434e-01,\n",
      "                   6.13305266e-02],\n",
      "                  [9.43540749e-01, 3.52968152e-02, 1.04741950e-03, 1.99508130e-02,\n",
      "                   1.64203821e-04],\n",
      "                  [2.24288395e-02, 9.54073140e-01, 1.31562613e-03, 2.03094664e-02,\n",
      "                   1.87292814e-03],\n",
      "                  [7.75119282e-01, 2.37489495e-02, 7.15522041e-02, 7.75776209e-02,\n",
      "                   5.20019438e-02],\n",
      "                  [1.96443104e-01, 1.39792006e-01, 1.28129221e-01, 2.89174813e-01,\n",
      "                   2.46460857e-01],\n",
      "                  [1.17408284e-02, 4.37834202e-03, 1.34311144e-02, 8.86498979e-04,\n",
      "                   9.69563216e-01],\n",
      "                  [9.27705255e-03, 9.72633370e-01, 7.79278994e-04, 7.17166805e-03,\n",
      "                   1.01386301e-02],\n",
      "                  [1.46712089e-02, 2.26554799e-01, 1.36801027e-02, 4.98055491e-02,\n",
      "                   6.95288340e-01]])\n",
      "ic| probs: array([[0, 0, 1, 0, 0],\n",
      "                  [1, 0, 0, 0, 0],\n",
      "                  [0, 0, 0, 0, 0],\n",
      "                  [1, 0, 0, 0, 0],\n",
      "                  [0, 1, 0, 0, 0],\n",
      "                  [1, 0, 0, 0, 0],\n",
      "                  [0, 0, 0, 0, 0],\n",
      "                  [0, 0, 0, 0, 1],\n",
      "                  [0, 1, 0, 0, 0],\n",
      "                  [0, 0, 0, 0, 1]])\n",
      "ic| loss: 0.553463770523768\n"
     ]
    }
   ],
   "source": [
    "train_softmax(X, weights, bias, y)"
   ]
  },
  {
   "cell_type": "markdown",
   "id": "4e2779df",
   "metadata": {},
   "source": [
    "## one-hot原理"
   ]
  },
  {
   "cell_type": "code",
   "execution_count": 8,
   "id": "6f775c77",
   "metadata": {},
   "outputs": [],
   "source": [
    "from icecream import ic\n",
    "\n",
    "def onehot(elements):\n",
    "    es = list(set(elements))\n",
    "    \n",
    "    res = []\n",
    "    for e in es:\n",
    "        zeros = [0] * len(es)\n",
    "        zeros[es.index(e)] = 1\n",
    "        res.append(zeros)\n",
    "    \n",
    "    return res"
   ]
  },
  {
   "cell_type": "code",
   "execution_count": 9,
   "id": "bfabfc12",
   "metadata": {},
   "outputs": [
    {
     "name": "stderr",
     "output_type": "stream",
     "text": [
      "ic| onehot(['北京', '上海','广州','北京','广州','上海']): [[1, 0, 0], [0, 1, 0], [0, 0, 1]]\n"
     ]
    },
    {
     "data": {
      "text/plain": [
       "[[1, 0, 0], [0, 1, 0], [0, 0, 1]]"
      ]
     },
     "execution_count": 9,
     "metadata": {},
     "output_type": "execute_result"
    }
   ],
   "source": [
    "ic(onehot(['北京', '上海','广州','北京','广州','上海']))"
   ]
  },
  {
   "cell_type": "code",
   "execution_count": 7,
   "id": "394cd9c5",
   "metadata": {},
   "outputs": [
    {
     "name": "stdout",
     "output_type": "stream",
     "text": [
      "Python 3.9.7\r\n"
     ]
    }
   ],
   "source": [
    "!python -V"
   ]
  },
  {
   "cell_type": "code",
   "execution_count": 11,
   "id": "64e6e9e5",
   "metadata": {},
   "outputs": [],
   "source": [
    "from sklearn.preprocessing import OneHotEncoder"
   ]
  },
  {
   "cell_type": "code",
   "execution_count": 14,
   "id": "f4510694",
   "metadata": {
    "scrolled": true
   },
   "outputs": [],
   "source": [
    "enc = OneHotEncoder(handle_unknown='ignore')"
   ]
  },
  {
   "cell_type": "code",
   "execution_count": 13,
   "id": "d1c45936",
   "metadata": {},
   "outputs": [
    {
     "name": "stdout",
     "output_type": "stream",
     "text": [
      "Help on class OneHotEncoder in module sklearn.preprocessing._encoders:\n",
      "\n",
      "class OneHotEncoder(_BaseEncoder)\n",
      " |  OneHotEncoder(*, categories='auto', drop=None, sparse=True, dtype=<class 'numpy.float64'>, handle_unknown='error')\n",
      " |  \n",
      " |  Encode categorical features as a one-hot numeric array.\n",
      " |  \n",
      " |  The input to this transformer should be an array-like of integers or\n",
      " |  strings, denoting the values taken on by categorical (discrete) features.\n",
      " |  The features are encoded using a one-hot (aka 'one-of-K' or 'dummy')\n",
      " |  encoding scheme. This creates a binary column for each category and\n",
      " |  returns a sparse matrix or dense array (depending on the ``sparse``\n",
      " |  parameter)\n",
      " |  \n",
      " |  By default, the encoder derives the categories based on the unique values\n",
      " |  in each feature. Alternatively, you can also specify the `categories`\n",
      " |  manually.\n",
      " |  \n",
      " |  This encoding is needed for feeding categorical data to many scikit-learn\n",
      " |  estimators, notably linear models and SVMs with the standard kernels.\n",
      " |  \n",
      " |  Note: a one-hot encoding of y labels should use a LabelBinarizer\n",
      " |  instead.\n",
      " |  \n",
      " |  Read more in the :ref:`User Guide <preprocessing_categorical_features>`.\n",
      " |  \n",
      " |  Parameters\n",
      " |  ----------\n",
      " |  categories : 'auto' or a list of array-like, default='auto'\n",
      " |      Categories (unique values) per feature:\n",
      " |  \n",
      " |      - 'auto' : Determine categories automatically from the training data.\n",
      " |      - list : ``categories[i]`` holds the categories expected in the ith\n",
      " |        column. The passed categories should not mix strings and numeric\n",
      " |        values within a single feature, and should be sorted in case of\n",
      " |        numeric values.\n",
      " |  \n",
      " |      The used categories can be found in the ``categories_`` attribute.\n",
      " |  \n",
      " |      .. versionadded:: 0.20\n",
      " |  \n",
      " |  drop : {'first', 'if_binary'} or an array-like of shape (n_features,),             default=None\n",
      " |      Specifies a methodology to use to drop one of the categories per\n",
      " |      feature. This is useful in situations where perfectly collinear\n",
      " |      features cause problems, such as when feeding the resulting data\n",
      " |      into a neural network or an unregularized regression.\n",
      " |  \n",
      " |      However, dropping one category breaks the symmetry of the original\n",
      " |      representation and can therefore induce a bias in downstream models,\n",
      " |      for instance for penalized linear classification or regression models.\n",
      " |  \n",
      " |      - None : retain all features (the default).\n",
      " |      - 'first' : drop the first category in each feature. If only one\n",
      " |        category is present, the feature will be dropped entirely.\n",
      " |      - 'if_binary' : drop the first category in each feature with two\n",
      " |        categories. Features with 1 or more than 2 categories are\n",
      " |        left intact.\n",
      " |      - array : ``drop[i]`` is the category in feature ``X[:, i]`` that\n",
      " |        should be dropped.\n",
      " |  \n",
      " |      .. versionadded:: 0.21\n",
      " |         The parameter `drop` was added in 0.21.\n",
      " |  \n",
      " |      .. versionchanged:: 0.23\n",
      " |         The option `drop='if_binary'` was added in 0.23.\n",
      " |  \n",
      " |  sparse : bool, default=True\n",
      " |      Will return sparse matrix if set True else will return an array.\n",
      " |  \n",
      " |  dtype : number type, default=float\n",
      " |      Desired dtype of output.\n",
      " |  \n",
      " |  handle_unknown : {'error', 'ignore'}, default='error'\n",
      " |      Whether to raise an error or ignore if an unknown categorical feature\n",
      " |      is present during transform (default is to raise). When this parameter\n",
      " |      is set to 'ignore' and an unknown category is encountered during\n",
      " |      transform, the resulting one-hot encoded columns for this feature\n",
      " |      will be all zeros. In the inverse transform, an unknown category\n",
      " |      will be denoted as None.\n",
      " |  \n",
      " |  Attributes\n",
      " |  ----------\n",
      " |  categories_ : list of arrays\n",
      " |      The categories of each feature determined during fitting\n",
      " |      (in order of the features in X and corresponding with the output\n",
      " |      of ``transform``). This includes the category specified in ``drop``\n",
      " |      (if any).\n",
      " |  \n",
      " |  drop_idx_ : array of shape (n_features,)\n",
      " |      - ``drop_idx_[i]`` is the index in ``categories_[i]`` of the category\n",
      " |        to be dropped for each feature.\n",
      " |      - ``drop_idx_[i] = None`` if no category is to be dropped from the\n",
      " |        feature with index ``i``, e.g. when `drop='if_binary'` and the\n",
      " |        feature isn't binary.\n",
      " |      - ``drop_idx_ = None`` if all the transformed features will be\n",
      " |        retained.\n",
      " |  \n",
      " |      .. versionchanged:: 0.23\n",
      " |         Added the possibility to contain `None` values.\n",
      " |  \n",
      " |  n_features_in_ : int\n",
      " |      Number of features seen during :term:`fit`.\n",
      " |  \n",
      " |      .. versionadded:: 1.0\n",
      " |  \n",
      " |  feature_names_in_ : ndarray of shape (`n_features_in_`,)\n",
      " |      Names of features seen during :term:`fit`. Defined only when `X`\n",
      " |      has feature names that are all strings.\n",
      " |  \n",
      " |      .. versionadded:: 1.0\n",
      " |  \n",
      " |  See Also\n",
      " |  --------\n",
      " |  OrdinalEncoder : Performs an ordinal (integer)\n",
      " |    encoding of the categorical features.\n",
      " |  sklearn.feature_extraction.DictVectorizer : Performs a one-hot encoding of\n",
      " |    dictionary items (also handles string-valued features).\n",
      " |  sklearn.feature_extraction.FeatureHasher : Performs an approximate one-hot\n",
      " |    encoding of dictionary items or strings.\n",
      " |  LabelBinarizer : Binarizes labels in a one-vs-all\n",
      " |    fashion.\n",
      " |  MultiLabelBinarizer : Transforms between iterable of\n",
      " |    iterables and a multilabel format, e.g. a (samples x classes) binary\n",
      " |    matrix indicating the presence of a class label.\n",
      " |  \n",
      " |  Examples\n",
      " |  --------\n",
      " |  Given a dataset with two features, we let the encoder find the unique\n",
      " |  values per feature and transform the data to a binary one-hot encoding.\n",
      " |  \n",
      " |  >>> from sklearn.preprocessing import OneHotEncoder\n",
      " |  \n",
      " |  One can discard categories not seen during `fit`:\n",
      " |  \n",
      " |  >>> enc = OneHotEncoder(handle_unknown='ignore')\n",
      " |  >>> X = [['Male', 1], ['Female', 3], ['Female', 2]]\n",
      " |  >>> enc.fit(X)\n",
      " |  OneHotEncoder(handle_unknown='ignore')\n",
      " |  >>> enc.categories_\n",
      " |  [array(['Female', 'Male'], dtype=object), array([1, 2, 3], dtype=object)]\n",
      " |  >>> enc.transform([['Female', 1], ['Male', 4]]).toarray()\n",
      " |  array([[1., 0., 1., 0., 0.],\n",
      " |         [0., 1., 0., 0., 0.]])\n",
      " |  >>> enc.inverse_transform([[0, 1, 1, 0, 0], [0, 0, 0, 1, 0]])\n",
      " |  array([['Male', 1],\n",
      " |         [None, 2]], dtype=object)\n",
      " |  >>> enc.get_feature_names_out(['gender', 'group'])\n",
      " |  array(['gender_Female', 'gender_Male', 'group_1', 'group_2', 'group_3'], ...)\n",
      " |  \n",
      " |  One can always drop the first column for each feature:\n",
      " |  \n",
      " |  >>> drop_enc = OneHotEncoder(drop='first').fit(X)\n",
      " |  >>> drop_enc.categories_\n",
      " |  [array(['Female', 'Male'], dtype=object), array([1, 2, 3], dtype=object)]\n",
      " |  >>> drop_enc.transform([['Female', 1], ['Male', 2]]).toarray()\n",
      " |  array([[0., 0., 0.],\n",
      " |         [1., 1., 0.]])\n",
      " |  \n",
      " |  Or drop a column for feature only having 2 categories:\n",
      " |  \n",
      " |  >>> drop_binary_enc = OneHotEncoder(drop='if_binary').fit(X)\n",
      " |  >>> drop_binary_enc.transform([['Female', 1], ['Male', 2]]).toarray()\n",
      " |  array([[0., 1., 0., 0.],\n",
      " |         [1., 0., 1., 0.]])\n",
      " |  \n",
      " |  Method resolution order:\n",
      " |      OneHotEncoder\n",
      " |      _BaseEncoder\n",
      " |      sklearn.base.TransformerMixin\n",
      " |      sklearn.base.BaseEstimator\n",
      " |      builtins.object\n",
      " |  \n",
      " |  Methods defined here:\n",
      " |  \n",
      " |  __init__(self, *, categories='auto', drop=None, sparse=True, dtype=<class 'numpy.float64'>, handle_unknown='error')\n",
      " |      Initialize self.  See help(type(self)) for accurate signature.\n",
      " |  \n",
      " |  fit(self, X, y=None)\n",
      " |      Fit OneHotEncoder to X.\n",
      " |      \n",
      " |      Parameters\n",
      " |      ----------\n",
      " |      X : array-like of shape (n_samples, n_features)\n",
      " |          The data to determine the categories of each feature.\n",
      " |      \n",
      " |      y : None\n",
      " |          Ignored. This parameter exists only for compatibility with\n",
      " |          :class:`~sklearn.pipeline.Pipeline`.\n",
      " |      \n",
      " |      Returns\n",
      " |      -------\n",
      " |      self\n",
      " |          Fitted encoder.\n",
      " |  \n",
      " |  fit_transform(self, X, y=None)\n",
      " |      Fit OneHotEncoder to X, then transform X.\n",
      " |      \n",
      " |      Equivalent to fit(X).transform(X) but more convenient.\n",
      " |      \n",
      " |      Parameters\n",
      " |      ----------\n",
      " |      X : array-like of shape (n_samples, n_features)\n",
      " |          The data to encode.\n",
      " |      \n",
      " |      y : None\n",
      " |          Ignored. This parameter exists only for compatibility with\n",
      " |          :class:`~sklearn.pipeline.Pipeline`.\n",
      " |      \n",
      " |      Returns\n",
      " |      -------\n",
      " |      X_out : {ndarray, sparse matrix} of shape                 (n_samples, n_encoded_features)\n",
      " |          Transformed input. If `sparse=True`, a sparse matrix will be\n",
      " |          returned.\n",
      " |  \n",
      " |  get_feature_names(self, input_features=None)\n",
      " |      DEPRECATED: get_feature_names is deprecated in 1.0 and will be removed in 1.2. Please use get_feature_names_out instead.\n",
      " |      \n",
      " |      Return feature names for output features.\n",
      " |      \n",
      " |          Parameters\n",
      " |          ----------\n",
      " |          input_features : list of str of shape (n_features,)\n",
      " |              String names for input features if available. By default,\n",
      " |              \"x0\", \"x1\", ... \"xn_features\" is used.\n",
      " |      \n",
      " |          Returns\n",
      " |          -------\n",
      " |          output_feature_names : ndarray of shape (n_output_features,)\n",
      " |              Array of feature names.\n",
      " |  \n",
      " |  get_feature_names_out(self, input_features=None)\n",
      " |      Get output feature names for transformation.\n",
      " |      \n",
      " |      Parameters\n",
      " |      ----------\n",
      " |      input_features : array-like of str or None, default=None\n",
      " |          Input features.\n",
      " |      \n",
      " |          - If `input_features` is `None`, then `feature_names_in_` is\n",
      " |            used as feature names in. If `feature_names_in_` is not defined,\n",
      " |            then names are generated: `[x0, x1, ..., x(n_features_in_)]`.\n",
      " |          - If `input_features` is an array-like, then `input_features` must\n",
      " |            match `feature_names_in_` if `feature_names_in_` is defined.\n",
      " |      \n",
      " |      Returns\n",
      " |      -------\n",
      " |      feature_names_out : ndarray of str objects\n",
      " |          Transformed feature names.\n",
      " |  \n",
      " |  inverse_transform(self, X)\n",
      " |      Convert the data back to the original representation.\n",
      " |      \n",
      " |      When unknown categories are encountered (all zeros in the\n",
      " |      one-hot encoding), ``None`` is used to represent this category. If the\n",
      " |      feature with the unknown category has a dropped category, the dropped\n",
      " |      category will be its inverse.\n",
      " |      \n",
      " |      Parameters\n",
      " |      ----------\n",
      " |      X : {array-like, sparse matrix} of shape                 (n_samples, n_encoded_features)\n",
      " |          The transformed data.\n",
      " |      \n",
      " |      Returns\n",
      " |      -------\n",
      " |      X_tr : ndarray of shape (n_samples, n_features)\n",
      " |          Inverse transformed array.\n",
      " |  \n",
      " |  transform(self, X)\n",
      " |      Transform X using one-hot encoding.\n",
      " |      \n",
      " |      Parameters\n",
      " |      ----------\n",
      " |      X : array-like of shape (n_samples, n_features)\n",
      " |          The data to encode.\n",
      " |      \n",
      " |      Returns\n",
      " |      -------\n",
      " |      X_out : {ndarray, sparse matrix} of shape                 (n_samples, n_encoded_features)\n",
      " |          Transformed input. If `sparse=True`, a sparse matrix will be\n",
      " |          returned.\n",
      " |  \n",
      " |  ----------------------------------------------------------------------\n",
      " |  Data descriptors inherited from sklearn.base.TransformerMixin:\n",
      " |  \n",
      " |  __dict__\n",
      " |      dictionary for instance variables (if defined)\n",
      " |  \n",
      " |  __weakref__\n",
      " |      list of weak references to the object (if defined)\n",
      " |  \n",
      " |  ----------------------------------------------------------------------\n",
      " |  Methods inherited from sklearn.base.BaseEstimator:\n",
      " |  \n",
      " |  __getstate__(self)\n",
      " |  \n",
      " |  __repr__(self, N_CHAR_MAX=700)\n",
      " |      Return repr(self).\n",
      " |  \n",
      " |  __setstate__(self, state)\n",
      " |  \n",
      " |  get_params(self, deep=True)\n",
      " |      Get parameters for this estimator.\n",
      " |      \n",
      " |      Parameters\n",
      " |      ----------\n",
      " |      deep : bool, default=True\n",
      " |          If True, will return the parameters for this estimator and\n",
      " |          contained subobjects that are estimators.\n",
      " |      \n",
      " |      Returns\n",
      " |      -------\n",
      " |      params : dict\n",
      " |          Parameter names mapped to their values.\n",
      " |  \n",
      " |  set_params(self, **params)\n",
      " |      Set the parameters of this estimator.\n",
      " |      \n",
      " |      The method works on simple estimators as well as on nested objects\n",
      " |      (such as :class:`~sklearn.pipeline.Pipeline`). The latter have\n",
      " |      parameters of the form ``<component>__<parameter>`` so that it's\n",
      " |      possible to update each component of a nested object.\n",
      " |      \n",
      " |      Parameters\n",
      " |      ----------\n",
      " |      **params : dict\n",
      " |          Estimator parameters.\n",
      " |      \n",
      " |      Returns\n",
      " |      -------\n",
      " |      self : estimator instance\n",
      " |          Estimator instance.\n",
      "\n"
     ]
    }
   ],
   "source": [
    "help(OneHotEncoder)"
   ]
  },
  {
   "cell_type": "code",
   "execution_count": 25,
   "id": "b38a3d66",
   "metadata": {},
   "outputs": [
    {
     "name": "stderr",
     "output_type": "stream",
     "text": [
      "/Users/fenghaoguo/opt/anaconda3/envs/p39/lib/python3.9/site-packages/sklearn/utils/deprecation.py:87: FutureWarning: Function get_feature_names is deprecated; get_feature_names is deprecated in 1.0 and will be removed in 1.2. Please use get_feature_names_out instead.\n",
      "  warnings.warn(msg, category=FutureWarning)\n"
     ]
    },
    {
     "data": {
      "text/plain": [
       "array(['x0_Female', 'x0_Male', 'x1_1', 'x1_2', 'x1_3'], dtype=object)"
      ]
     },
     "execution_count": 25,
     "metadata": {},
     "output_type": "execute_result"
    }
   ],
   "source": [
    "X = [['Male', 1], ['Female', 3], ['Female', 2]]\n",
    "enc.fit(X)\n",
    "enc.categories_\n",
    "enc.get_feature_names()"
   ]
  },
  {
   "cell_type": "code",
   "execution_count": 20,
   "id": "43260dbb",
   "metadata": {},
   "outputs": [
    {
     "data": {
      "text/plain": [
       "array([[1., 0., 1., 0., 0.],\n",
       "       [0., 1., 0., 0., 0.]])"
      ]
     },
     "execution_count": 20,
     "metadata": {},
     "output_type": "execute_result"
    }
   ],
   "source": [
    "enc.transform([['Female', 1], ['Male', 4]]).toarray()"
   ]
  },
  {
   "cell_type": "code",
   "execution_count": 17,
   "id": "db0fc90d",
   "metadata": {},
   "outputs": [
    {
     "data": {
      "text/plain": [
       "array([['Male', 1],\n",
       "       [None, 2]], dtype=object)"
      ]
     },
     "execution_count": 17,
     "metadata": {},
     "output_type": "execute_result"
    }
   ],
   "source": [
    "enc.inverse_transform([[0, 1, 1, 0, 0], [0, 0, 0, 1, 0]])"
   ]
  },
  {
   "cell_type": "code",
   "execution_count": 18,
   "id": "da226eca",
   "metadata": {},
   "outputs": [
    {
     "data": {
      "text/plain": [
       "array(['gender_Female', 'gender_Male', 'group_1', 'group_2', 'group_3'],\n",
       "      dtype=object)"
      ]
     },
     "execution_count": 18,
     "metadata": {},
     "output_type": "execute_result"
    }
   ],
   "source": [
    "enc.get_feature_names_out(['gender', 'group'])"
   ]
  },
  {
   "cell_type": "markdown",
   "id": "e4a00879",
   "metadata": {},
   "source": [
    "## MNIST"
   ]
  },
  {
   "cell_type": "code",
   "execution_count": 28,
   "id": "e2324547",
   "metadata": {},
   "outputs": [],
   "source": [
    "from torchvision.datasets import MNIST"
   ]
  },
  {
   "cell_type": "code",
   "execution_count": 29,
   "id": "08966975",
   "metadata": {},
   "outputs": [
    {
     "name": "stdout",
     "output_type": "stream",
     "text": [
      "Downloading http://yann.lecun.com/exdb/mnist/train-images-idx3-ubyte.gz\n",
      "Downloading http://yann.lecun.com/exdb/mnist/train-images-idx3-ubyte.gz to dataset/MNIST/raw/train-images-idx3-ubyte.gz\n"
     ]
    },
    {
     "data": {
      "application/vnd.jupyter.widget-view+json": {
       "model_id": "ca3f001e570b4dc28898d978b8b11ba0",
       "version_major": 2,
       "version_minor": 0
      },
      "text/plain": [
       "  0%|          | 0/9912422 [00:00<?, ?it/s]"
      ]
     },
     "metadata": {},
     "output_type": "display_data"
    },
    {
     "name": "stdout",
     "output_type": "stream",
     "text": [
      "Extracting dataset/MNIST/raw/train-images-idx3-ubyte.gz to dataset/MNIST/raw\n",
      "\n",
      "Downloading http://yann.lecun.com/exdb/mnist/train-labels-idx1-ubyte.gz\n",
      "Downloading http://yann.lecun.com/exdb/mnist/train-labels-idx1-ubyte.gz to dataset/MNIST/raw/train-labels-idx1-ubyte.gz\n"
     ]
    },
    {
     "data": {
      "application/vnd.jupyter.widget-view+json": {
       "model_id": "2139f7ea0d4e4225b15600fe3aeadcfb",
       "version_major": 2,
       "version_minor": 0
      },
      "text/plain": [
       "  0%|          | 0/28881 [00:00<?, ?it/s]"
      ]
     },
     "metadata": {},
     "output_type": "display_data"
    },
    {
     "name": "stdout",
     "output_type": "stream",
     "text": [
      "Extracting dataset/MNIST/raw/train-labels-idx1-ubyte.gz to dataset/MNIST/raw\n",
      "\n",
      "Downloading http://yann.lecun.com/exdb/mnist/t10k-images-idx3-ubyte.gz\n",
      "Downloading http://yann.lecun.com/exdb/mnist/t10k-images-idx3-ubyte.gz to dataset/MNIST/raw/t10k-images-idx3-ubyte.gz\n"
     ]
    },
    {
     "data": {
      "application/vnd.jupyter.widget-view+json": {
       "model_id": "d66b080dc229426183d2713cdd6444ba",
       "version_major": 2,
       "version_minor": 0
      },
      "text/plain": [
       "  0%|          | 0/1648877 [00:00<?, ?it/s]"
      ]
     },
     "metadata": {},
     "output_type": "display_data"
    },
    {
     "name": "stdout",
     "output_type": "stream",
     "text": [
      "Extracting dataset/MNIST/raw/t10k-images-idx3-ubyte.gz to dataset/MNIST/raw\n",
      "\n",
      "Downloading http://yann.lecun.com/exdb/mnist/t10k-labels-idx1-ubyte.gz\n",
      "Downloading http://yann.lecun.com/exdb/mnist/t10k-labels-idx1-ubyte.gz to dataset/MNIST/raw/t10k-labels-idx1-ubyte.gz\n"
     ]
    },
    {
     "data": {
      "application/vnd.jupyter.widget-view+json": {
       "model_id": "767a5ec192ba42a8a0ace967c35735ef",
       "version_major": 2,
       "version_minor": 0
      },
      "text/plain": [
       "  0%|          | 0/4542 [00:00<?, ?it/s]"
      ]
     },
     "metadata": {},
     "output_type": "display_data"
    },
    {
     "name": "stdout",
     "output_type": "stream",
     "text": [
      "Extracting dataset/MNIST/raw/t10k-labels-idx1-ubyte.gz to dataset/MNIST/raw\n",
      "\n"
     ]
    }
   ],
   "source": [
    "train = MNIST('dataset', train=True, download=True)\n",
    "test = MNIST('dataset', train=False, download=True)"
   ]
  },
  {
   "cell_type": "code",
   "execution_count": 31,
   "id": "bd4444ff",
   "metadata": {},
   "outputs": [],
   "source": [
    "zero_and_six = [t for i, t in enumerate(train) if train.targets[i] in [0, 6]]\n",
    "zero_and_six_test = [t for i, t in enumerate(train) if train.targets[i] in [0, 6]]"
   ]
  },
  {
   "cell_type": "code",
   "execution_count": 45,
   "id": "42077325",
   "metadata": {},
   "outputs": [],
   "source": [
    "from icecream import ic"
   ]
  },
  {
   "cell_type": "code",
   "execution_count": 46,
   "id": "ef4967d1",
   "metadata": {},
   "outputs": [
    {
     "data": {
      "text/plain": [
       "['0 - zero',\n",
       " '1 - one',\n",
       " '2 - two',\n",
       " '3 - three',\n",
       " '4 - four',\n",
       " '5 - five',\n",
       " '6 - six',\n",
       " '7 - seven',\n",
       " '8 - eight',\n",
       " '9 - nine']"
      ]
     },
     "execution_count": 46,
     "metadata": {},
     "output_type": "execute_result"
    }
   ],
   "source": [
    "train.classes"
   ]
  },
  {
   "cell_type": "code",
   "execution_count": 47,
   "id": "bf1c5faf",
   "metadata": {},
   "outputs": [],
   "source": [
    "import numpy as np\n",
    "zero_and_six_train_x = np.array([\n",
    "    np.array(t).reshape(-1, ) for t, label in zero_and_six\n",
    "])\n",
    "zero_and_six_train_y = np.array([\n",
    "    label for t, label in zero_and_six\n",
    "])"
   ]
  },
  {
   "cell_type": "code",
   "execution_count": 48,
   "id": "d2b236ac",
   "metadata": {},
   "outputs": [],
   "source": [
    "zero_and_six_test_x = np.array([\n",
    "    np.array(t).reshape(-1, ) for t, label in zero_and_six_test\n",
    "])\n",
    "zero_and_six_test_y = np.array([\n",
    "    label for t, label in zero_and_six_test\n",
    "])"
   ]
  },
  {
   "cell_type": "code",
   "execution_count": 49,
   "id": "c77c3465",
   "metadata": {},
   "outputs": [
    {
     "data": {
      "text/plain": [
       "array([[0, 0, 0, ..., 0, 0, 0],\n",
       "       [0, 0, 0, ..., 0, 0, 0],\n",
       "       [0, 0, 0, ..., 0, 0, 0]], dtype=uint8)"
      ]
     },
     "execution_count": 49,
     "metadata": {},
     "output_type": "execute_result"
    }
   ],
   "source": [
    "zero_and_six_train_x[:3]"
   ]
  },
  {
   "cell_type": "code",
   "execution_count": 50,
   "id": "c20168de",
   "metadata": {},
   "outputs": [
    {
     "data": {
      "text/plain": [
       "LogisticRegression(max_iter=1000)"
      ]
     },
     "execution_count": 50,
     "metadata": {},
     "output_type": "execute_result"
    }
   ],
   "source": [
    "from sklearn.linear_model import LogisticRegression\n",
    "lr_model = LogisticRegression(solver='lbfgs', max_iter=1000)\n",
    "lr_model.fit(zero_and_six_train_x, zero_and_six_train_y)"
   ]
  },
  {
   "cell_type": "code",
   "execution_count": 52,
   "id": "1c1d8352",
   "metadata": {},
   "outputs": [
    {
     "name": "stderr",
     "output_type": "stream",
     "text": [
      "ic| lr_model.predict([zero_and_six_test_x[index]]): array([6])\n"
     ]
    },
    {
     "data": {
      "image/png": "[encoded data removed]",
      "text/plain": [
       "<Figure size 432x288 with 1 Axes>"
      ]
     },
     "metadata": {
      "needs_background": "light"
     },
     "output_type": "display_data"
    },
    {
     "name": "stderr",
     "output_type": "stream",
     "text": [
      "ic| lr_model.predict([zero_and_six_test_x[index]]): array([6])\n"
     ]
    },
    {
     "data": {
      "image/png": "[encoded data removed]",
      "text/plain": [
       "<Figure size 432x288 with 1 Axes>"
      ]
     },
     "metadata": {
      "needs_background": "light"
     },
     "output_type": "display_data"
    },
    {
     "name": "stderr",
     "output_type": "stream",
     "text": [
      "ic| lr_model.predict([zero_and_six_test_x[index]]): array([6])\n"
     ]
    },
    {
     "data": {
      "image/png": "[encoded data removed]",
      "text/plain": [
       "<Figure size 432x288 with 1 Axes>"
      ]
     },
     "metadata": {
      "needs_background": "light"
     },
     "output_type": "display_data"
    },
    {
     "name": "stderr",
     "output_type": "stream",
     "text": [
      "ic| lr_model.predict([zero_and_six_test_x[index]]): array([0])\n"
     ]
    },
    {
     "data": {
      "image/png": "[encoded data removed]",
      "text/plain": [
       "<Figure size 432x288 with 1 Axes>"
      ]
     },
     "metadata": {
      "needs_background": "light"
     },
     "output_type": "display_data"
    },
    {
     "name": "stderr",
     "output_type": "stream",
     "text": [
      "ic| lr_model.predict([zero_and_six_test_x[index]]): array([0])\n"
     ]
    },
    {
     "data": {
      "image/png": "[encoded data removed]",
      "text/plain": [
       "<Figure size 432x288 with 1 Axes>"
      ]
     },
     "metadata": {
      "needs_background": "light"
     },
     "output_type": "display_data"
    }
   ],
   "source": [
    "import matplotlib.pyplot as plt\n",
    "\n",
    "for i in range(5):\n",
    "    index = np.random.choice(range(len(zero_and_six_test_x)))\n",
    "    ic(lr_model.predict([zero_and_six_test_x[index]]))\n",
    "    plt.imshow(zero_and_six_test_x[index].reshape(28, 28))\n",
    "    plt.show()"
   ]
  },
  {
   "cell_type": "code",
   "execution_count": 53,
   "id": "1146378f",
   "metadata": {},
   "outputs": [
    {
     "name": "stderr",
     "output_type": "stream",
     "text": [
      "ic| lr_model.score(zero_and_six_train_x, zero_and_six_train_y): 1.0\n",
      "ic| lr_model.score(zero_and_six_test_x, zero_and_six_test_y): 1.0\n",
      "ic| lr_model.coef_: array([[ 0.00000000e+00,  0.00000000e+00,  0.00000000e+00,\n",
      "                             0.00000000e+00,  0.00000000e+00,  0.00000000e+00,\n",
      "                             0.00000000e+00,  0.00000000e+00,  0.00000000e+00,\n",
      "                             0.00000000e+00,  0.00000000e+00,  0.00000000e+00,\n",
      "                            -6.00221275e-10, -1.31427762e-09,  0.00000000e+00,\n",
      "                             0.00000000e+00,  0.00000000e+00,  0.00000000e+00,\n",
      "                             0.00000000e+00,  0.00000000e+00,  0.00000000e+00,\n",
      "                             0.00000000e+00,  0.00000000e+00,  0.00000000e+00,\n",
      "                             0.00000000e+00,  0.00000000e+00,  0.00000000e+00,\n",
      "                             0.00000000e+00,  0.00000000e+00,  0.00000000e+00,\n",
      "                             0.00000000e+00,  0.00000000e+00, -2.53561958e-11,\n",
      "                            -8.88916820e-11, -1.14141466e-09, -3.40173792e-09,\n",
      "                            -1.40544665e-08,  5.23803466e-04,  1.05653692e-02,\n",
      "                             1.51638865e-02,  7.51309946e-03, -1.39558081e-06,\n",
      "                            -2.12662596e-07, -1.74517104e-02, -4.77011922e-02,\n",
      "                            -2.26872398e-02, -7.20500990e-08, -7.01144631e-08,\n",
      "                            -4.04090306e-08, -1.66168444e-08, -8.64130558e-09,\n",
      "                            -1.99085381e-09,  0.00000000e+00,  0.00000000e+00,\n",
      "                             0.00000000e+00,  0.00000000e+00,  0.00000000e+00,\n",
      "                             0.00000000e+00, -1.13713431e-10, -3.57730279e-08,\n",
      "                             1.73082393e-09,  2.89651901e-04,  1.79117011e-03,\n",
      "                             1.76999916e-03,  4.93940834e-03,  1.42320863e-02,\n",
      "                             2.12979749e-02,  3.42013957e-02,  2.10344804e-02,\n",
      "                            -3.18451874e-03,  4.38944853e-02,  5.51277137e-02,\n",
      "                             4.03312651e-02,  4.73424458e-02,  2.05551824e-02,\n",
      "                             6.04602365e-03,  1.89542322e-02,  2.66596722e-03,\n",
      "                             2.30850472e-03,  2.64329575e-04, -1.10818198e-08,\n",
      "                            -5.20768079e-10,  0.00000000e+00,  0.00000000e+00,\n",
      "                             0.00000000e+00,  0.00000000e+00, -2.50524904e-10,\n",
      "                            -3.12433654e-07, -1.30897116e-06, -3.28639394e-03,\n",
      "                             8.23024315e-03,  2.75849796e-02,  3.46374829e-02,\n",
      "                            -7.30457443e-03,  1.46689936e-02,  2.49414584e-02,\n",
      "                             1.73101971e-02,  1.52808339e-02, -4.25285779e-03,\n",
      "                             3.61265871e-02, -4.04860972e-02, -1.60550386e-02,\n",
      "                             3.71168338e-02, -7.72547052e-03, -1.83898735e-02,\n",
      "                             1.37335147e-02, -9.78384705e-03, -1.98097284e-02,\n",
      "                             4.77970066e-03,  7.12091480e-07, -2.03786856e-10,\n",
      "                             0.00000000e+00,  0.00000000e+00,  0.00000000e+00,\n",
      "                             3.43164834e-11,  1.98625141e-09,  4.08009664e-04,\n",
      "                             2.14559874e-02,  2.60210705e-02, -2.90678431e-03,\n",
      "                             2.26314226e-02,  8.41567016e-03,  4.74621686e-02,\n",
      "                            -2.81561640e-02,  5.37005158e-02, -6.75137905e-03,\n",
      "                            -1.16607269e-02,  1.74530373e-03,  1.23965262e-03,\n",
      "                            -4.40558275e-02,  8.23287305e-03, -5.95963633e-03,\n",
      "                             1.28619857e-02,  4.84111513e-02,  6.63718149e-03,\n",
      "                             1.09586801e-02,  1.64633919e-02,  1.54109595e-03,\n",
      "                             8.70001119e-07,  8.70029750e-07,  0.00000000e+00,\n",
      "                             0.00000000e+00, -1.92219910e-08,  4.16750846e-09,\n",
      "                             1.85054787e-03,  1.37193330e-02,  5.86958415e-03,\n",
      "                             4.38856249e-02,  2.98478765e-02, -2.90994682e-03,\n",
      "                            -2.09069262e-02, -1.69980181e-02, -5.03724177e-02,\n",
      "                             3.67257401e-03,  2.15176257e-02, -5.59524325e-02,\n",
      "                             3.40152338e-02,  1.25740388e-02,  9.98471106e-03,\n",
      "                             2.71966145e-02, -8.63755564e-03,  7.46628439e-03,\n",
      "                            -3.02238846e-03,  1.74032885e-02,  5.07101780e-02,\n",
      "                            -2.04328821e-03,  2.92205254e-06,  1.28432963e-06,\n",
      "                             0.00000000e+00,  0.00000000e+00, -1.49797080e-09,\n",
      "                            -1.79104228e-09,  2.87809245e-03,  2.07528942e-02,\n",
      "                            -2.86946343e-02,  9.26136132e-03,  2.81258360e-03,\n",
      "                            -1.59381798e-02,  2.18117123e-02, -2.40679539e-02,\n",
      "                             3.19182322e-03, -7.66475616e-03, -1.72304062e-02,\n",
      "                             2.65578856e-02, -2.71314478e-02, -2.73419141e-02,\n",
      "                            -3.80303414e-02, -4.38202019e-02,  1.50487894e-02,\n",
      "                            -4.59252714e-02, -1.10624519e-02,  4.28573211e-03,\n",
      "                             3.93506897e-02,  1.45819315e-03, -2.06609836e-08,\n",
      "                            -1.38738770e-08,  0.00000000e+00,  0.00000000e+00,\n",
      "                             0.00000000e+00,  4.24980452e-09,  5.33889843e-03,\n",
      "                             1.87708192e-02, -2.59500775e-02,  1.20463043e-02,\n",
      "                            -6.06247482e-02, -2.24585706e-02,  3.62162070e-02,\n",
      "                            -6.70124240e-03, -5.19993808e-02, -2.09246373e-02,\n",
      "                             1.11451975e-02, -8.87261839e-03,  9.70459407e-03,\n",
      "                            -3.70278245e-02,  8.55509837e-03,  1.22263127e-02,\n",
      "                            -5.99859711e-03,  4.75610076e-03, -8.44027075e-02,\n",
      "                            -3.34749712e-02,  9.06390628e-03,  3.93255953e-03,\n",
      "                            -2.78483426e-08,  6.11687508e-10,  1.39344255e-08,\n",
      "                             0.00000000e+00,  1.54791960e-08, -1.89826576e-05,\n",
      "                             1.27430352e-02,  8.44954878e-03,  1.46336907e-02,\n",
      "                             7.63953778e-03,  9.40353792e-03,  7.31582604e-03,\n",
      "                            -3.30882886e-02,  4.10172506e-02,  7.75893178e-03,\n",
      "                            -6.21353247e-04, -6.50030616e-02, -1.24966514e-02,\n",
      "                            -4.00598127e-02, -3.22026516e-02, -5.33088485e-02,\n",
      "                            -3.57897193e-02, -4.01982543e-02, -1.66943466e-02,\n",
      "                             3.16681234e-02, -2.74679383e-03, -4.70692459e-02,\n",
      "                            -9.63691851e-04, -5.03806963e-09,  0.00000000e+00,\n",
      "                             0.00000000e+00,  0.00000000e+00, -3.41439889e-05,\n",
      "                            -7.04727776e-05,  2.14715653e-02, -2.48674877e-03,\n",
      "                            -3.59946587e-02,  4.76944752e-02, -6.93884901e-03,\n",
      "                             3.97996903e-03, -2.64160834e-02,  5.14904509e-03,\n",
      "                            -1.18903920e-02,  2.42618825e-03,  1.04244974e-02,\n",
      "                             7.55007900e-04, -9.71537600e-03, -4.42866290e-02,\n",
      "                            -1.14255143e-02,  2.57044091e-03, -2.16738529e-02,\n",
      "                            -1.03361651e-02, -1.59971493e-02, -3.12242532e-03,\n",
      "                            -2.27647253e-02, -3.03986968e-03, -7.95681571e-10,\n",
      "                             0.00000000e+00,  0.00000000e+00,  0.00000000e+00,\n",
      "                            -1.75784445e-04, -1.66653237e-03,  1.90073883e-02,\n",
      "                             8.63856294e-04, -2.54992377e-02, -5.44482712e-03,\n",
      "                            -2.45147400e-02, -5.54914563e-03,  1.90612904e-02,\n",
      "                            -5.25683004e-02,  4.36673506e-02, -1.07698838e-02,\n",
      "                            -6.10248803e-02, -3.42653898e-02, -5.94993341e-02,\n",
      "                            -3.23389230e-02,  6.69931511e-03, -2.69653468e-02,\n",
      "                            -1.11730604e-02, -3.27255489e-02, -7.19496216e-02,\n",
      "                            -1.66376544e-02,  1.37633376e-02, -1.83115761e-03,\n",
      "                            -7.95681571e-10,  0.00000000e+00,  0.00000000e+00,\n",
      "                             9.91355260e-09,  0.00000000e+00, -1.89048559e-02,\n",
      "                            -2.69204468e-03,  1.65750250e-02,  2.20715285e-02,\n",
      "                             4.59233371e-02, -2.80183826e-02,  4.85787025e-03,\n",
      "                            -2.67487349e-03, -2.06432370e-02,  2.67221490e-02,\n",
      "                             2.92532301e-02,  2.66033583e-02,  3.34019962e-02,\n",
      "                             2.21457836e-02, -3.30072476e-02, -4.44026572e-03,\n",
      "                             3.13373237e-02, -3.29516094e-02,  3.31247786e-03,\n",
      "                             9.58249599e-03, -6.36089903e-02,  2.28394652e-02,\n",
      "                            -3.06225463e-03,  3.27750230e-09, -6.18145835e-09,\n",
      "                             0.00000000e+00,  1.91940105e-09,  2.30970978e-10,\n",
      "                            -1.89792845e-02, -3.15830885e-03,  1.75377476e-02,\n",
      "                            -4.90164872e-03,  4.66647803e-03,  5.83844163e-02,\n",
      "                            -1.41661365e-02, -1.72589672e-02, -6.09821551e-03,\n",
      "                            -4.54956777e-03, -9.76080547e-03, -1.14390625e-02,\n",
      "                             4.10127057e-03, -1.23139572e-02, -4.04496539e-03,\n",
      "                            -5.79150419e-03, -1.20411984e-02, -5.30568410e-02,\n",
      "                            -2.37776246e-02,  3.01898282e-04, -1.83819484e-02,\n",
      "                             9.58601042e-03,  1.02230025e-02, -5.90731087e-09,\n",
      "                            -7.17237915e-09,  0.00000000e+00,  7.55764162e-09,\n",
      "                             9.15659858e-10, -1.68208554e-02, -3.51094409e-02,\n",
      "                             1.86525836e-02, -2.83311459e-02,  2.47601273e-03,\n",
      "                             1.01321568e-03,  6.13554857e-02,  4.31724149e-02,\n",
      "                             1.42054544e-02, -3.09584403e-03,  6.54661144e-02,\n",
      "                             6.44726111e-02, -1.93158235e-02,  5.32769869e-02,\n",
      "                            -4.22533033e-02, -2.67268472e-02, -2.48594055e-02,\n",
      "                             2.60257165e-02,  1.04622878e-02, -1.78451553e-02,\n",
      "                             4.62904328e-02,  3.77701899e-02, -1.03370602e-02,\n",
      "                            -1.02636659e-08, -1.93465490e-09,  0.00000000e+00,\n",
      "                             0.00000000e+00,  0.00000000e+00,  4.80003710e-10,\n",
      "                            -1.66655570e-02, -5.72058742e-03, -8.25829769e-03,\n",
      "                            -3.59404184e-02,  4.11593627e-02, -6.08615994e-03,\n",
      "                             4.31747895e-02,  8.82972494e-03, -7.29310770e-03,\n",
      "                             3.20601952e-02,  3.47012491e-02, -7.56027761e-03,\n",
      "                             5.06630037e-02,  1.95599110e-02,  5.64862232e-03,\n",
      "                            -5.56174431e-03, -1.62058619e-02, -1.04042731e-02,\n",
      "                            -2.39491909e-03, -3.04714578e-02, -1.49392807e-02,\n",
      "                            -1.13239270e-02, -2.23509808e-09,  0.00000000e+00,\n",
      "                             0.00000000e+00,  0.00000000e+00,  0.00000000e+00,\n",
      "                             4.48141248e-09, -1.97936985e-02,  9.74144353e-03,\n",
      "                             2.84483274e-02, -1.67930129e-03, -1.95697646e-02,\n",
      "                            -2.87540546e-02, -1.97408793e-02,  1.40368777e-02,\n",
      "                             6.00374318e-03,  1.55947195e-02,  1.48745527e-02,\n",
      "                             8.99390868e-03, -1.07026572e-02,  2.91432356e-02,\n",
      "                            -3.28057380e-02, -1.62616304e-02,  3.23843034e-03,\n",
      "                             3.74930538e-02, -1.07033306e-02, -1.55245369e-02,\n",
      "                            -5.69620212e-02,  2.09839747e-02, -6.17068482e-10,\n",
      "                             0.00000000e+00,  0.00000000e+00,  0.00000000e+00,\n",
      "                             0.00000000e+00,  2.85587277e-09, -3.34742553e-02,\n",
      "                             2.54688564e-02,  1.54198115e-04,  3.16769745e-02,\n",
      "                            -6.48079190e-03,  2.37314559e-02, -2.67342503e-02,\n",
      "                             4.60289433e-02, -2.03693013e-02,  4.37686131e-02,\n",
      "                             2.69539689e-02,  9.43419960e-03,  2.56633065e-02,\n",
      "                             5.55323659e-03,  1.16310238e-02, -1.66142011e-02,\n",
      "                            -1.51810821e-02,  4.25140360e-03,  1.52815439e-02,\n",
      "                            -2.18856426e-03, -5.90873270e-03,  3.11810115e-02,\n",
      "                            -8.70627370e-10, -1.13963063e-03,  0.00000000e+00,\n",
      "                             0.00000000e+00,  0.00000000e+00,  2.65748378e-09,\n",
      "                            -2.81781355e-03, -2.63852993e-03, -1.90413195e-02,\n",
      "                            -6.23983937e-03,  4.02289658e-03, -8.77464548e-03,\n",
      "                             1.33557447e-02,  9.37448890e-03,  2.01555752e-02,\n",
      "                            -4.02926992e-03,  2.29476724e-03,  1.27939880e-03,\n",
      "                             1.02870321e-02, -5.38523038e-02,  3.55633290e-02,\n",
      "                             1.77251476e-02, -3.07979537e-02, -3.05915606e-02,\n",
      "                             2.77157022e-02,  7.25954562e-03, -2.28441362e-02,\n",
      "                             1.58544848e-02, -6.28076611e-10, -9.87679883e-03,\n",
      "                             0.00000000e+00,  0.00000000e+00,  0.00000000e+00,\n",
      "                             2.51216974e-09,  8.91395101e-03, -3.44644001e-02,\n",
      "                             1.75625426e-02,  7.80005050e-03, -1.97934853e-02,\n",
      "                             3.32144735e-02, -3.34072767e-02, -2.22034599e-02,\n",
      "                            -2.44430593e-02,  7.13223584e-02,  4.50116509e-02,\n",
      "                            -1.39955715e-02,  3.91569270e-02,  2.14077855e-02,\n",
      "                            -2.25085253e-03,  4.76329930e-02,  2.03645624e-02,\n",
      "                             1.04516823e-02, -2.82197667e-02,  2.44577030e-02,\n",
      "                             2.23246434e-02, -5.14056419e-03, -1.11749584e-08,\n",
      "                             0.00000000e+00,  0.00000000e+00,  1.55866477e-08,\n",
      "                             1.52869044e-08,  1.80011251e-08,  1.55526856e-02,\n",
      "                            -4.36541750e-03,  3.89833463e-02, -2.43256851e-02,\n",
      "                            -1.01461257e-02,  2.82345568e-02,  2.86852646e-02,\n",
      "                             5.64115851e-02, -4.01806779e-02,  1.83828062e-02,\n",
      "                            -2.19287135e-02,  1.04270375e-03, -1.68399656e-02,\n",
      "                             4.67318760e-02, -9.16814032e-02,  4.64434874e-02,\n",
      "                            -1.44129611e-02,  1.63450913e-02,  1.81213749e-02,\n",
      "                             2.76507337e-02, -9.10681566e-03, -4.01766438e-03,\n",
      "                            -2.05993373e-09,  0.00000000e+00,  0.00000000e+00,\n",
      "                             3.92663624e-08,  2.72473758e-08,  1.78701647e-08,\n",
      "                             3.36856111e-02,  1.72797739e-02,  1.41932106e-02,\n",
      "                             4.04183744e-02, -9.52516187e-03,  2.37059775e-02,\n",
      "                             1.52439570e-04, -1.27375270e-02,  1.31211738e-02,\n",
      "                             2.72166768e-03,  1.69013698e-02,  1.51332892e-02,\n",
      "                            -1.12827420e-02,  3.03009132e-02, -1.16010392e-02,\n",
      "                            -4.34541069e-03, -1.60498219e-02, -5.05315424e-02,\n",
      "                             1.63657158e-02, -1.72884691e-03, -9.90424703e-03,\n",
      "                             6.81728734e-04,  3.78657367e-09,  0.00000000e+00,\n",
      "                             0.00000000e+00,  0.00000000e+00,  5.88053328e-08,\n",
      "                             5.25602929e-09, -6.92645652e-03, -9.93094095e-03,\n",
      "                            -4.56780048e-02, -1.50630428e-02,  2.49749719e-02,\n",
      "                             2.07931084e-02,  4.44475037e-03, -1.14516651e-02,\n",
      "                             2.71777986e-02, -2.27591358e-02,  6.90469567e-02,\n",
      "                            -3.79592793e-02,  2.93110593e-02,  2.63758386e-02,\n",
      "                             1.12225451e-02,  2.39707563e-02,  6.47034434e-02,\n",
      "                            -2.59649361e-02, -1.95377389e-02, -1.48086594e-02,\n",
      "                            -6.66990265e-03, -1.59067704e-09,  7.54263616e-08,\n"
     ]
    },
    {
     "name": "stderr",
     "output_type": "stream",
     "text": [
      "                             6.17328497e-11,  0.00000000e+00,  0.00000000e+00,\n",
      "                             0.00000000e+00,  4.53387335e-09,  6.83119235e-08,\n",
      "                            -2.19041509e-03, -3.54190534e-02,  4.82016755e-03,\n",
      "                            -7.70986270e-03,  3.83900164e-03, -1.73084332e-02,\n",
      "                             4.40137819e-02, -5.12079338e-02,  1.85066262e-02,\n",
      "                             6.17435269e-03, -3.17191496e-03, -1.42681515e-02,\n",
      "                            -1.10791444e-03, -1.41089844e-02,  1.26030220e-03,\n",
      "                            -1.84509446e-02,  1.62780864e-02, -1.78091433e-02,\n",
      "                            -1.34179702e-02, -5.08732979e-04,  2.83234118e-08,\n",
      "                             1.10087926e-08,  1.13968338e-10,  0.00000000e+00,\n",
      "                             0.00000000e+00,  0.00000000e+00,  9.29690003e-11,\n",
      "                             9.10841250e-09,  3.51330437e-07, -2.90437791e-03,\n",
      "                             1.36708067e-02, -4.66044500e-03,  2.09734042e-03,\n",
      "                            -5.36350933e-02, -2.76250852e-03, -2.41376081e-02,\n",
      "                             6.43280584e-03, -7.33483319e-03,  2.06836214e-02,\n",
      "                             8.32252502e-03, -6.21548003e-02,  6.01000654e-02,\n",
      "                             6.22070330e-02,  2.10265525e-03,  6.38598731e-03,\n",
      "                            -4.72439905e-03, -1.94174038e-03,  1.94083240e-07,\n",
      "                             3.31285761e-08,  0.00000000e+00,  0.00000000e+00,\n",
      "                             0.00000000e+00,  0.00000000e+00,  0.00000000e+00,\n",
      "                             0.00000000e+00,  1.55230408e-09,  8.41130584e-09,\n",
      "                             3.02589875e-08,  6.86265954e-08, -3.11651973e-03,\n",
      "                            -3.06031320e-02, -4.11577289e-02,  5.42404079e-02,\n",
      "                             5.93178651e-02,  7.42538961e-03, -5.81865732e-02,\n",
      "                            -5.13456287e-02,  2.84102492e-02,  4.58245635e-03,\n",
      "                             1.87518136e-02,  5.91041175e-03,  2.10915647e-03,\n",
      "                             6.18468097e-07,  2.45694827e-07,  3.18402469e-09,\n",
      "                             9.71807966e-10,  1.10300081e-10,  0.00000000e+00,\n",
      "                             0.00000000e+00,  0.00000000e+00,  0.00000000e+00,\n",
      "                             0.00000000e+00,  0.00000000e+00,  0.00000000e+00,\n",
      "                             0.00000000e+00,  1.13491479e-10,  8.18158373e-10,\n",
      "                             1.96569384e-09,  3.08300842e-09,  6.96794533e-09,\n",
      "                             3.38674046e-08, -3.51369250e-08,  1.19503379e-09,\n",
      "                             3.40507153e-09,  2.77091783e-09,  2.36240029e-09,\n",
      "                             8.65511808e-10,  1.58888071e-10,  0.00000000e+00,\n",
      "                             0.00000000e+00,  0.00000000e+00,  0.00000000e+00,\n",
      "                             0.00000000e+00,  0.00000000e+00,  0.00000000e+00,\n",
      "                             0.00000000e+00,  0.00000000e+00,  0.00000000e+00,\n",
      "                             0.00000000e+00,  0.00000000e+00,  0.00000000e+00,\n",
      "                             0.00000000e+00,  0.00000000e+00,  0.00000000e+00,\n",
      "                             0.00000000e+00,  0.00000000e+00,  0.00000000e+00,\n",
      "                             0.00000000e+00,  0.00000000e+00,  0.00000000e+00,\n",
      "                             0.00000000e+00,  0.00000000e+00,  0.00000000e+00,\n",
      "                             0.00000000e+00,  0.00000000e+00,  0.00000000e+00,\n",
      "                             0.00000000e+00,  0.00000000e+00,  0.00000000e+00,\n",
      "                             0.00000000e+00,  0.00000000e+00,  0.00000000e+00,\n",
      "                             0.00000000e+00,  0.00000000e+00,  0.00000000e+00,\n",
      "                             0.00000000e+00,  0.00000000e+00,  0.00000000e+00,\n",
      "                             0.00000000e+00,  0.00000000e+00,  0.00000000e+00,\n",
      "                             0.00000000e+00,  0.00000000e+00,  0.00000000e+00,\n",
      "                             0.00000000e+00,  0.00000000e+00,  0.00000000e+00,\n",
      "                             0.00000000e+00,  0.00000000e+00,  0.00000000e+00,\n",
      "                             0.00000000e+00,  0.00000000e+00,  0.00000000e+00,\n",
      "                             0.00000000e+00,  0.00000000e+00,  0.00000000e+00,\n",
      "                             0.00000000e+00,  0.00000000e+00,  0.00000000e+00,\n",
      "                             0.00000000e+00,  0.00000000e+00,  0.00000000e+00,\n",
      "                             0.00000000e+00]])\n",
      "ic| lr_model.intercept_: array([0.005238])\n"
     ]
    },
    {
     "data": {
      "text/plain": [
       "array([0.005238])"
      ]
     },
     "execution_count": 53,
     "metadata": {},
     "output_type": "execute_result"
    }
   ],
   "source": [
    "ic(lr_model.score(zero_and_six_train_x, zero_and_six_train_y))\n",
    "ic(lr_model.score(zero_and_six_test_x, zero_and_six_test_y))\n",
    "ic(lr_model.coef_)\n",
    "ic(lr_model.intercept_)"
   ]
  },
  {
   "cell_type": "code",
   "execution_count": 54,
   "id": "ec471b41",
   "metadata": {},
   "outputs": [
    {
     "data": {
      "image/png": "[encoded data removed]",
      "text/plain": [
       "<Figure size 432x288 with 1 Axes>"
      ]
     },
     "metadata": {
      "needs_background": "light"
     },
     "output_type": "display_data"
    }
   ],
   "source": [
    "plt.imshow(lr_model.coef_.reshape(28, 28))\n",
    "plt.show()"
   ]
  },
  {
   "cell_type": "code",
   "execution_count": 55,
   "id": "35805b8e",
   "metadata": {},
   "outputs": [
    {
     "data": {
      "text/plain": [
       "tensor([[  0,   0,   0,   0,   0,   0,   0,   0,   0,   0,   0,   0,   0,   0,\n",
       "           0,   0,   0,   0,   0,   0,   0,   0,   0,   0,   0,   0,   0,   0],\n",
       "        [  0,   0,   0,   0,   0,   0,   0,   0,   0,   0,   0,   0,   0,   0,\n",
       "           0,   0,   0,   0,   0,   0,   0,   0,   0,   0,   0,   0,   0,   0],\n",
       "        [  0,   0,   0,   0,   0,   0,   0,   0,   0,   0,   0,   0,   0,   0,\n",
       "           0,   0,   0,   0,   0,   0,   0,   0,   0,   0,   0,   0,   0,   0],\n",
       "        [  0,   0,   0,   0,   0,   0,   0,   0,   0,   0,   0,   0,   0,   0,\n",
       "           0,   0,   0,   0,   0,   0,   0,   0,   0,   0,   0,   0,   0,   0],\n",
       "        [  0,   0,   0,   0,   0,   0,   0,   0,   0,   0,   0,   0,   0,   0,\n",
       "           0,   0,   0,   0,   0,   0,   0,   0,   0,   0,   0,   0,   0,   0],\n",
       "        [  0,   0,   0,   0,   0,   0,   0,   0,   0,   0,   0,   0,   3,  18,\n",
       "          18,  18, 126, 136, 175,  26, 166, 255, 247, 127,   0,   0,   0,   0],\n",
       "        [  0,   0,   0,   0,   0,   0,   0,   0,  30,  36,  94, 154, 170, 253,\n",
       "         253, 253, 253, 253, 225, 172, 253, 242, 195,  64,   0,   0,   0,   0],\n",
       "        [  0,   0,   0,   0,   0,   0,   0,  49, 238, 253, 253, 253, 253, 253,\n",
       "         253, 253, 253, 251,  93,  82,  82,  56,  39,   0,   0,   0,   0,   0],\n",
       "        [  0,   0,   0,   0,   0,   0,   0,  18, 219, 253, 253, 253, 253, 253,\n",
       "         198, 182, 247, 241,   0,   0,   0,   0,   0,   0,   0,   0,   0,   0],\n",
       "        [  0,   0,   0,   0,   0,   0,   0,   0,  80, 156, 107, 253, 253, 205,\n",
       "          11,   0,  43, 154,   0,   0,   0,   0,   0,   0,   0,   0,   0,   0],\n",
       "        [  0,   0,   0,   0,   0,   0,   0,   0,   0,  14,   1, 154, 253,  90,\n",
       "           0,   0,   0,   0,   0,   0,   0,   0,   0,   0,   0,   0,   0,   0],\n",
       "        [  0,   0,   0,   0,   0,   0,   0,   0,   0,   0,   0, 139, 253, 190,\n",
       "           2,   0,   0,   0,   0,   0,   0,   0,   0,   0,   0,   0,   0,   0],\n",
       "        [  0,   0,   0,   0,   0,   0,   0,   0,   0,   0,   0,  11, 190, 253,\n",
       "          70,   0,   0,   0,   0,   0,   0,   0,   0,   0,   0,   0,   0,   0],\n",
       "        [  0,   0,   0,   0,   0,   0,   0,   0,   0,   0,   0,   0,  35, 241,\n",
       "         225, 160, 108,   1,   0,   0,   0,   0,   0,   0,   0,   0,   0,   0],\n",
       "        [  0,   0,   0,   0,   0,   0,   0,   0,   0,   0,   0,   0,   0,  81,\n",
       "         240, 253, 253, 119,  25,   0,   0,   0,   0,   0,   0,   0,   0,   0],\n",
       "        [  0,   0,   0,   0,   0,   0,   0,   0,   0,   0,   0,   0,   0,   0,\n",
       "          45, 186, 253, 253, 150,  27,   0,   0,   0,   0,   0,   0,   0,   0],\n",
       "        [  0,   0,   0,   0,   0,   0,   0,   0,   0,   0,   0,   0,   0,   0,\n",
       "           0,  16,  93, 252, 253, 187,   0,   0,   0,   0,   0,   0,   0,   0],\n",
       "        [  0,   0,   0,   0,   0,   0,   0,   0,   0,   0,   0,   0,   0,   0,\n",
       "           0,   0,   0, 249, 253, 249,  64,   0,   0,   0,   0,   0,   0,   0],\n",
       "        [  0,   0,   0,   0,   0,   0,   0,   0,   0,   0,   0,   0,   0,   0,\n",
       "          46, 130, 183, 253, 253, 207,   2,   0,   0,   0,   0,   0,   0,   0],\n",
       "        [  0,   0,   0,   0,   0,   0,   0,   0,   0,   0,   0,   0,  39, 148,\n",
       "         229, 253, 253, 253, 250, 182,   0,   0,   0,   0,   0,   0,   0,   0],\n",
       "        [  0,   0,   0,   0,   0,   0,   0,   0,   0,   0,  24, 114, 221, 253,\n",
       "         253, 253, 253, 201,  78,   0,   0,   0,   0,   0,   0,   0,   0,   0],\n",
       "        [  0,   0,   0,   0,   0,   0,   0,   0,  23,  66, 213, 253, 253, 253,\n",
       "         253, 198,  81,   2,   0,   0,   0,   0,   0,   0,   0,   0,   0,   0],\n",
       "        [  0,   0,   0,   0,   0,   0,  18, 171, 219, 253, 253, 253, 253, 195,\n",
       "          80,   9,   0,   0,   0,   0,   0,   0,   0,   0,   0,   0,   0,   0],\n",
       "        [  0,   0,   0,   0,  55, 172, 226, 253, 253, 253, 253, 244, 133,  11,\n",
       "           0,   0,   0,   0,   0,   0,   0,   0,   0,   0,   0,   0,   0,   0],\n",
       "        [  0,   0,   0,   0, 136, 253, 253, 253, 212, 135, 132,  16,   0,   0,\n",
       "           0,   0,   0,   0,   0,   0,   0,   0,   0,   0,   0,   0,   0,   0],\n",
       "        [  0,   0,   0,   0,   0,   0,   0,   0,   0,   0,   0,   0,   0,   0,\n",
       "           0,   0,   0,   0,   0,   0,   0,   0,   0,   0,   0,   0,   0,   0],\n",
       "        [  0,   0,   0,   0,   0,   0,   0,   0,   0,   0,   0,   0,   0,   0,\n",
       "           0,   0,   0,   0,   0,   0,   0,   0,   0,   0,   0,   0,   0,   0],\n",
       "        [  0,   0,   0,   0,   0,   0,   0,   0,   0,   0,   0,   0,   0,   0,\n",
       "           0,   0,   0,   0,   0,   0,   0,   0,   0,   0,   0,   0,   0,   0]],\n",
       "       dtype=torch.uint8)"
      ]
     },
     "execution_count": 55,
     "metadata": {},
     "output_type": "execute_result"
    }
   ],
   "source": [
    "train.data[0]"
   ]
  },
  {
   "cell_type": "code",
   "execution_count": null,
   "id": "a8fe41a8",
   "metadata": {},
   "outputs": [],
   "source": []
  }
 ],
 "metadata": {
  "kernelspec": {
   "display_name": "Python 3 (ipykernel)",
   "language": "python",
   "name": "python3"
  },
  "language_info": {
   "codemirror_mode": {
    "name": "ipython",
    "version": 3
   },
   "file_extension": ".py",
   "mimetype": "text/x-python",
   "name": "python",
   "nbconvert_exporter": "python",
   "pygments_lexer": "ipython3",
   "version": "3.9.7"
  }
 },
 "nbformat": 4,
 "nbformat_minor": 5
}
