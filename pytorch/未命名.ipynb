{
 "cells": [
  {
   "cell_type": "markdown",
   "id": "25851a06",
   "metadata": {},
   "source": [
    "# PyTorch基础练习"
   ]
  },
  {
   "cell_type": "code",
   "execution_count": 1,
   "id": "8f591b87",
   "metadata": {},
   "outputs": [],
   "source": [
    "import numpy as np\n",
    "import torch"
   ]
  },
  {
   "cell_type": "code",
   "execution_count": 2,
   "id": "13031ef8",
   "metadata": {},
   "outputs": [
    {
     "data": {
      "text/plain": [
       "tensor([[1., 0., 0.],\n",
       "        [0., 1., 0.],\n",
       "        [0., 0., 1.]])"
      ]
     },
     "execution_count": 2,
     "metadata": {},
     "output_type": "execute_result"
    }
   ],
   "source": [
    "torch.eye(3)"
   ]
  },
  {
   "cell_type": "code",
   "execution_count": 3,
   "id": "c5ce0df9",
   "metadata": {},
   "outputs": [
    {
     "name": "stdout",
     "output_type": "stream",
     "text": [
      "[ 0  1  2  3  4  5  6  7  8  9 10 11 12 13 14 15 16 17 18 19 20 21 22 23\n",
      " 24 25 26 27 28 29 30 31 32 33 34 35 36 37 38 39 40 41 42 43 44 45 46 47\n",
      " 48 49 50 51 52 53 54 55 56 57 58 59 60 61 62 63 64 65 66 67 68 69 70 71\n",
      " 72 73 74 75 76 77 78 79 80 81 82 83 84 85 86 87 88 89 90 91 92 93 94 95\n",
      " 96 97 98 99]\n"
     ]
    }
   ],
   "source": [
    "points = 100\n",
    "points = np.arange(points)\n",
    "print(points)"
   ]
  },
  {
   "cell_type": "code",
   "execution_count": 4,
   "id": "22f02f41",
   "metadata": {},
   "outputs": [
    {
     "name": "stdout",
     "output_type": "stream",
     "text": [
      "[49 91 48  0 22 99 24  6 86 82 89 93 23 67 46 70 64 15 36 42 31 60 56 50\n",
      " 95 33 83  1 55 85 39 80  8 32 97 35 75  5 52 71 72 13 92 78 87 74 37 90\n",
      "  9 19 65 44 84 88 47 20 96  7 81 27 11 34 28 53 41 73 30 58 98 66 59 16\n",
      " 63 25 57 51 12 76 18 21 17 38 61 40 62 14 26 54 69 43 77 45 79 10  3 94\n",
      "  4  2 68 29]\n"
     ]
    }
   ],
   "source": [
    "np.random.shuffle(points)\n",
    "print(points)"
   ]
  },
  {
   "cell_type": "code",
   "execution_count": 5,
   "id": "a2a1a4fd",
   "metadata": {},
   "outputs": [
    {
     "data": {
      "text/plain": [
       "tensor([0., 0., 0.])"
      ]
     },
     "execution_count": 5,
     "metadata": {},
     "output_type": "execute_result"
    }
   ],
   "source": [
    "result = torch.zeros(3)\n",
    "result"
   ]
  },
  {
   "cell_type": "code",
   "execution_count": 6,
   "id": "520e47da",
   "metadata": {},
   "outputs": [
    {
     "name": "stdout",
     "output_type": "stream",
     "text": [
      "tensor([1., 1., 1.], dtype=torch.float64)\n"
     ]
    }
   ],
   "source": [
    "a = np.ones(3)\n",
    "x = torch.from_numpy(a)\n",
    "print(x)"
   ]
  },
  {
   "cell_type": "code",
   "execution_count": 7,
   "id": "de716807",
   "metadata": {},
   "outputs": [
    {
     "name": "stdout",
     "output_type": "stream",
     "text": [
      "tensor([[1., 2., 3.],\n",
      "        [4., 5., 6.],\n",
      "        [7., 8., 9.]])\n"
     ]
    }
   ],
   "source": [
    "x = torch.Tensor([[1,2,3], [4,5,6], [7,8,9]])\n",
    "print(x)"
   ]
  },
  {
   "cell_type": "code",
   "execution_count": 8,
   "id": "9fd0a86e",
   "metadata": {},
   "outputs": [
    {
     "name": "stdout",
     "output_type": "stream",
     "text": [
      "torch.Size([3, 3])\n"
     ]
    }
   ],
   "source": [
    "print(x.size())"
   ]
  },
  {
   "cell_type": "code",
   "execution_count": 9,
   "id": "fc0e8486",
   "metadata": {},
   "outputs": [
    {
     "name": "stdout",
     "output_type": "stream",
     "text": [
      "tensor([[1., 2., 3.],\n",
      "        [4., 5., 6.],\n",
      "        [7., 8., 9.]])\n"
     ]
    }
   ],
   "source": [
    "print(x.view(x.size(0), -1))"
   ]
  },
  {
   "cell_type": "code",
   "execution_count": 14,
   "id": "1128a2aa",
   "metadata": {},
   "outputs": [
    {
     "data": {
      "text/plain": [
       "tensor([[1., 4., 7.],\n",
       "        [2., 5., 8.],\n",
       "        [3., 6., 9.]])"
      ]
     },
     "execution_count": 14,
     "metadata": {},
     "output_type": "execute_result"
    }
   ],
   "source": [
    "x.permute(1,0)"
   ]
  },
  {
   "cell_type": "code",
   "execution_count": 15,
   "id": "182661e8",
   "metadata": {},
   "outputs": [
    {
     "name": "stdout",
     "output_type": "stream",
     "text": [
      "tensor([[1.0000, 0.5000, 0.3333],\n",
      "        [0.2500, 0.2000, 0.1667],\n",
      "        [0.1429, 0.1250, 0.1111]])\n"
     ]
    }
   ],
   "source": [
    "print(x.pow(-1.0))"
   ]
  },
  {
   "cell_type": "code",
   "execution_count": 16,
   "id": "723aa176",
   "metadata": {},
   "outputs": [
    {
     "name": "stdout",
     "output_type": "stream",
     "text": [
      "tensor([[ 1.,  4.,  9.],\n",
      "        [16., 25., 36.],\n",
      "        [49., 64., 81.]])\n"
     ]
    }
   ],
   "source": [
    "print(x.pow(2.0))"
   ]
  },
  {
   "cell_type": "code",
   "execution_count": 20,
   "id": "d42ef5ed",
   "metadata": {},
   "outputs": [
    {
     "data": {
      "text/plain": [
       "tensor([[1., 2., 3.],\n",
       "        [4., 5., 6.],\n",
       "        [7., 8., 9.]])"
      ]
     },
     "execution_count": 20,
     "metadata": {},
     "output_type": "execute_result"
    }
   ],
   "source": [
    "x"
   ]
  },
  {
   "cell_type": "code",
   "execution_count": 21,
   "id": "fcb43505",
   "metadata": {},
   "outputs": [
    {
     "name": "stdout",
     "output_type": "stream",
     "text": [
      "tensor([12., 15., 18.])\n"
     ]
    }
   ],
   "source": [
    "print(x.sum(dim=0))"
   ]
  },
  {
   "cell_type": "code",
   "execution_count": 18,
   "id": "32290fda",
   "metadata": {},
   "outputs": [
    {
     "name": "stdout",
     "output_type": "stream",
     "text": [
      "tensor([ 6., 15., 24.])\n"
     ]
    }
   ],
   "source": [
    "print(x.sum(dim=1))"
   ]
  },
  {
   "cell_type": "code",
   "execution_count": 19,
   "id": "8ff3dabb",
   "metadata": {},
   "outputs": [
    {
     "data": {
      "text/plain": [
       "tensor([12., 15., 18.])"
      ]
     },
     "execution_count": 19,
     "metadata": {},
     "output_type": "execute_result"
    }
   ],
   "source": [
    "torch.sum(x, 0)"
   ]
  },
  {
   "cell_type": "code",
   "execution_count": 22,
   "id": "2840f274",
   "metadata": {},
   "outputs": [
    {
     "data": {
      "text/plain": [
       "tensor([ 6., 15., 24.])"
      ]
     },
     "execution_count": 22,
     "metadata": {},
     "output_type": "execute_result"
    }
   ],
   "source": [
    "torch.sum(x, 1)"
   ]
  },
  {
   "cell_type": "code",
   "execution_count": 25,
   "id": "8e6678f0",
   "metadata": {},
   "outputs": [
    {
     "data": {
      "text/plain": [
       "tensor([0.1667, 0.0667, 0.0417])"
      ]
     },
     "execution_count": 25,
     "metadata": {},
     "output_type": "execute_result"
    }
   ],
   "source": [
    "temp = x.sum(dim=1).pow(-1.0)\n",
    "temp"
   ]
  },
  {
   "cell_type": "code",
   "execution_count": 26,
   "id": "19556fbc",
   "metadata": {},
   "outputs": [
    {
     "data": {
      "text/plain": [
       "tensor([[0.1667, 0.0000, 0.0000],\n",
       "        [0.0000, 0.0667, 0.0000],\n",
       "        [0.0000, 0.0000, 0.0417]])"
      ]
     },
     "execution_count": 26,
     "metadata": {},
     "output_type": "execute_result"
    }
   ],
   "source": [
    "temp.diag_embed()"
   ]
  },
  {
   "cell_type": "code",
   "execution_count": 27,
   "id": "ae7a5b0e",
   "metadata": {},
   "outputs": [
    {
     "data": {
      "text/plain": [
       "tensor([[[[0.9570, 0.1000, 0.1614, 0.8228, 0.0227],\n",
       "          [0.3665, 0.4578, 0.8994, 0.0187, 0.0530],\n",
       "          [0.4133, 0.9875, 0.3627, 0.5291, 0.2068]],\n",
       "\n",
       "         [[0.2388, 0.1913, 0.7590, 0.3333, 0.5477],\n",
       "          [0.6668, 0.5423, 0.8180, 0.2307, 0.6849],\n",
       "          [0.7704, 0.2172, 0.4305, 0.6080, 0.1693]],\n",
       "\n",
       "         [[0.4274, 0.7745, 0.8043, 0.6123, 0.4237],\n",
       "          [0.6435, 0.6862, 0.1667, 0.9500, 0.0792],\n",
       "          [0.7268, 0.8504, 0.3084, 0.4645, 0.7079]],\n",
       "\n",
       "         [[0.1274, 0.4846, 0.8230, 0.9182, 0.4240],\n",
       "          [0.7538, 0.6278, 0.9341, 0.5141, 0.8125],\n",
       "          [0.3475, 0.1317, 0.2730, 0.9145, 0.0737]]],\n",
       "\n",
       "\n",
       "        [[[0.7346, 0.5792, 0.6894, 0.4773, 0.1748],\n",
       "          [0.0203, 0.9293, 0.4438, 0.6921, 0.6238],\n",
       "          [0.2376, 0.6566, 0.2980, 0.4800, 0.6499]],\n",
       "\n",
       "         [[0.5124, 0.0787, 0.2053, 0.7373, 0.4591],\n",
       "          [0.2702, 0.3597, 0.1884, 0.8664, 0.3131],\n",
       "          [0.2819, 0.5917, 0.7772, 0.1534, 0.8633]],\n",
       "\n",
       "         [[0.9757, 0.2283, 0.4319, 0.9459, 0.5097],\n",
       "          [0.9856, 0.8453, 0.2447, 0.6299, 0.7505],\n",
       "          [0.1659, 0.6080, 0.3186, 0.0568, 0.2902]],\n",
       "\n",
       "         [[0.8407, 0.9989, 0.0315, 0.6584, 0.0166],\n",
       "          [0.9047, 0.8699, 0.7992, 0.4464, 0.1765],\n",
       "          [0.4812, 0.3335, 0.8718, 0.0021, 0.1538]]]])"
      ]
     },
     "execution_count": 27,
     "metadata": {},
     "output_type": "execute_result"
    }
   ],
   "source": [
    "t = torch.rand(2,4,3,5)\n",
    "t"
   ]
  },
  {
   "cell_type": "code",
   "execution_count": 29,
   "id": "7aeed16b",
   "metadata": {},
   "outputs": [
    {
     "data": {
      "text/plain": [
       "array([[[[0.10716524, 0.9166782 , 0.04635848, 0.56198336, 0.02087592],\n",
       "         [0.32538558, 0.2566032 , 0.74712282, 0.27949765, 0.55637071],\n",
       "         [0.45917704, 0.46200676, 0.35505895, 0.90579274, 0.00592826]],\n",
       "\n",
       "        [[0.79821837, 0.89935362, 0.82784687, 0.8481568 , 0.04374487],\n",
       "         [0.48190592, 0.83751444, 0.83975106, 0.75382528, 0.1778663 ],\n",
       "         [0.80712501, 0.56656216, 0.47737137, 0.35943032, 0.57691504]],\n",
       "\n",
       "        [[0.07097756, 0.50812015, 0.94485797, 0.90791516, 0.31363903],\n",
       "         [0.23529796, 0.74417538, 0.89399947, 0.03866162, 0.85082522],\n",
       "         [0.41271141, 0.14563397, 0.73671574, 0.94435268, 0.69632328]],\n",
       "\n",
       "        [[0.86788122, 0.0797183 , 0.81085737, 0.55772061, 0.30719923],\n",
       "         [0.55942629, 0.69383751, 0.39787506, 0.8646965 , 0.13277082],\n",
       "         [0.3393943 , 0.50875231, 0.55614429, 0.83132286, 0.42590987]]],\n",
       "\n",
       "\n",
       "       [[[0.42029187, 0.8493276 , 0.91402683, 0.87422618, 0.64793644],\n",
       "         [0.75645253, 0.81393353, 0.3637415 , 0.08263176, 0.80415263],\n",
       "         [0.16616176, 0.96902203, 0.92506855, 0.00747696, 0.35996209]],\n",
       "\n",
       "        [[0.21758318, 0.35070941, 0.64042716, 0.58723156, 0.50346902],\n",
       "         [0.39702625, 0.30536046, 0.60899759, 0.9187114 , 0.46986307],\n",
       "         [0.65948632, 0.93237193, 0.02294061, 0.08343985, 0.98680139]],\n",
       "\n",
       "        [[0.47486685, 0.22536644, 0.91865797, 0.01546888, 0.24141305],\n",
       "         [0.77942902, 0.45079084, 0.97504932, 0.83232886, 0.0554579 ],\n",
       "         [0.76765919, 0.22267356, 0.33897082, 0.62095335, 0.83502216]],\n",
       "\n",
       "        [[0.62877737, 0.38591463, 0.95547297, 0.04378832, 0.82350732],\n",
       "         [0.1815601 , 0.89762072, 0.11610566, 0.91952294, 0.88308342],\n",
       "         [0.81990396, 0.28343195, 0.67876748, 0.73691278, 0.27354782]]]])"
      ]
     },
     "execution_count": 29,
     "metadata": {},
     "output_type": "execute_result"
    }
   ],
   "source": [
    "a = np.random.rand(2,4,3,5)\n",
    "a"
   ]
  },
  {
   "cell_type": "code",
   "execution_count": 30,
   "id": "c6d8fd83",
   "metadata": {},
   "outputs": [
    {
     "name": "stdout",
     "output_type": "stream",
     "text": [
      "torch.Size([2, 4, 3, 5])\n"
     ]
    }
   ],
   "source": [
    "print(t.shape)"
   ]
  },
  {
   "cell_type": "code",
   "execution_count": 32,
   "id": "ab2a8107",
   "metadata": {},
   "outputs": [
    {
     "name": "stdout",
     "output_type": "stream",
     "text": [
      "torch.Size([2, 4, 3, 5])\n"
     ]
    }
   ],
   "source": [
    "print(t.size())"
   ]
  },
  {
   "cell_type": "code",
   "execution_count": 33,
   "id": "aa89183e",
   "metadata": {},
   "outputs": [
    {
     "name": "stdout",
     "output_type": "stream",
     "text": [
      "(2, 4, 3, 5)\n"
     ]
    }
   ],
   "source": [
    "print(a.shape)"
   ]
  },
  {
   "cell_type": "code",
   "execution_count": 36,
   "id": "a5cfa9ee",
   "metadata": {},
   "outputs": [
    {
     "name": "stdout",
     "output_type": "stream",
     "text": [
      "120\n"
     ]
    }
   ],
   "source": [
    "print(a.size)"
   ]
  },
  {
   "cell_type": "code",
   "execution_count": 37,
   "id": "77b081ef",
   "metadata": {},
   "outputs": [
    {
     "name": "stdout",
     "output_type": "stream",
     "text": [
      "(60, 15, 5, 1)\n"
     ]
    }
   ],
   "source": [
    "print(t.stride())"
   ]
  },
  {
   "cell_type": "code",
   "execution_count": 38,
   "id": "4e3598d3",
   "metadata": {},
   "outputs": [
    {
     "name": "stdout",
     "output_type": "stream",
     "text": [
      "60\n"
     ]
    }
   ],
   "source": [
    "print(t.stride(0))"
   ]
  },
  {
   "cell_type": "code",
   "execution_count": 39,
   "id": "ec7bac10",
   "metadata": {},
   "outputs": [
    {
     "name": "stdout",
     "output_type": "stream",
     "text": [
      "15\n"
     ]
    }
   ],
   "source": [
    "print(t.stride(1))"
   ]
  },
  {
   "cell_type": "code",
   "execution_count": 40,
   "id": "2c048194",
   "metadata": {},
   "outputs": [
    {
     "name": "stdout",
     "output_type": "stream",
     "text": [
      "5\n"
     ]
    }
   ],
   "source": [
    "print(t.stride(2))"
   ]
  },
  {
   "cell_type": "code",
   "execution_count": 41,
   "id": "873d3976",
   "metadata": {},
   "outputs": [
    {
     "name": "stdout",
     "output_type": "stream",
     "text": [
      "1\n"
     ]
    }
   ],
   "source": [
    "print(t.stride(3))"
   ]
  },
  {
   "cell_type": "code",
   "execution_count": 42,
   "id": "9e1581b4",
   "metadata": {},
   "outputs": [
    {
     "name": "stdout",
     "output_type": "stream",
     "text": [
      "tensor([[1., 2., 3.],\n",
      "        [4., 5., 6.],\n",
      "        [7., 8., 9.]])\n"
     ]
    }
   ],
   "source": [
    "print(x.narrow(0,0,3))"
   ]
  },
  {
   "cell_type": "code",
   "execution_count": 43,
   "id": "8fefcfef",
   "metadata": {},
   "outputs": [
    {
     "name": "stdout",
     "output_type": "stream",
     "text": [
      "tensor([[4., 5., 6.],\n",
      "        [7., 8., 9.]])\n"
     ]
    }
   ],
   "source": [
    "print(x.narrow(0,1,2))"
   ]
  },
  {
   "cell_type": "code",
   "execution_count": 44,
   "id": "35fdb66c",
   "metadata": {},
   "outputs": [
    {
     "name": "stdout",
     "output_type": "stream",
     "text": [
      "tensor([[2., 3.],\n",
      "        [5., 6.],\n",
      "        [8., 9.]])\n"
     ]
    }
   ],
   "source": [
    "print(x.narrow(1,1,2))"
   ]
  },
  {
   "cell_type": "code",
   "execution_count": 45,
   "id": "6cbc9106",
   "metadata": {},
   "outputs": [
    {
     "data": {
      "text/plain": [
       "tensor([[1., 2., 3.],\n",
       "        [4., 5., 6.],\n",
       "        [7., 8., 9.]])"
      ]
     },
     "execution_count": 45,
     "metadata": {},
     "output_type": "execute_result"
    }
   ],
   "source": [
    "x"
   ]
  },
  {
   "cell_type": "code",
   "execution_count": 46,
   "id": "94fc6731",
   "metadata": {},
   "outputs": [
    {
     "name": "stdout",
     "output_type": "stream",
     "text": [
      "tensor([[3.],\n",
      "        [6.],\n",
      "        [9.]])\n"
     ]
    }
   ],
   "source": [
    "print(x.narrow(-1, 2, 1))"
   ]
  },
  {
   "cell_type": "code",
   "execution_count": 48,
   "id": "b459beb3",
   "metadata": {},
   "outputs": [
    {
     "data": {
      "text/plain": [
       "tensor([0., 0., 0.])"
      ]
     },
     "execution_count": 48,
     "metadata": {},
     "output_type": "execute_result"
    }
   ],
   "source": [
    "x = torch.zeros(3)\n",
    "x"
   ]
  },
  {
   "cell_type": "code",
   "execution_count": 49,
   "id": "0b16e6bb",
   "metadata": {},
   "outputs": [],
   "source": [
    "a = torch.Tensor([[[1,2,3], [4,5,6]]])\n",
    "b = torch.Tensor([1,2,3,4,5,6])"
   ]
  },
  {
   "cell_type": "code",
   "execution_count": 50,
   "id": "7aef0007",
   "metadata": {},
   "outputs": [
    {
     "name": "stdout",
     "output_type": "stream",
     "text": [
      "<class 'torch.Tensor'>\n"
     ]
    }
   ],
   "source": [
    "print(type(a))"
   ]
  },
  {
   "cell_type": "code",
   "execution_count": 51,
   "id": "29273695",
   "metadata": {},
   "outputs": [
    {
     "name": "stdout",
     "output_type": "stream",
     "text": [
      "tensor([[1., 2., 3., 4., 5., 6.]])\n"
     ]
    }
   ],
   "source": [
    "print(a.view(1,6))"
   ]
  },
  {
   "cell_type": "code",
   "execution_count": 52,
   "id": "88f1062f",
   "metadata": {},
   "outputs": [
    {
     "name": "stdout",
     "output_type": "stream",
     "text": [
      "tensor([[1., 2., 3., 4., 5., 6.]])\n"
     ]
    }
   ],
   "source": [
    "print(b.view(1,6))"
   ]
  },
  {
   "cell_type": "code",
   "execution_count": 53,
   "id": "a904be88",
   "metadata": {},
   "outputs": [
    {
     "name": "stdout",
     "output_type": "stream",
     "text": [
      "tensor([[1., 2.],\n",
      "        [3., 4.],\n",
      "        [5., 6.]])\n"
     ]
    }
   ],
   "source": [
    "print(a.view(3,2))"
   ]
  },
  {
   "cell_type": "code",
   "execution_count": 54,
   "id": "0f070029",
   "metadata": {},
   "outputs": [
    {
     "data": {
      "text/plain": [
       "tensor([0., 0., 0.])"
      ]
     },
     "execution_count": 54,
     "metadata": {},
     "output_type": "execute_result"
    }
   ],
   "source": [
    "x"
   ]
  },
  {
   "cell_type": "code",
   "execution_count": 55,
   "id": "34babdc4",
   "metadata": {},
   "outputs": [
    {
     "data": {
      "text/plain": [
       "tensor([[1., 2., 3.],\n",
       "        [4., 5., 6.],\n",
       "        [7., 8., 9.]])"
      ]
     },
     "execution_count": 55,
     "metadata": {},
     "output_type": "execute_result"
    }
   ],
   "source": [
    "t = torch.Tensor([[1,2,3], [4,5,6],[7,8,9]])\n",
    "t"
   ]
  },
  {
   "cell_type": "code",
   "execution_count": 56,
   "id": "8ff5410d",
   "metadata": {},
   "outputs": [
    {
     "data": {
      "text/plain": [
       "tensor([12., 15., 18.])"
      ]
     },
     "execution_count": 56,
     "metadata": {},
     "output_type": "execute_result"
    }
   ],
   "source": [
    "t.sum(dim=0)"
   ]
  },
  {
   "cell_type": "code",
   "execution_count": 57,
   "id": "f5aca85e",
   "metadata": {},
   "outputs": [
    {
     "data": {
      "text/plain": [
       "tensor([ 6., 15., 24.])"
      ]
     },
     "execution_count": 57,
     "metadata": {},
     "output_type": "execute_result"
    }
   ],
   "source": [
    "t.sum(dim=1)"
   ]
  },
  {
   "cell_type": "code",
   "execution_count": 58,
   "id": "0ee02b68",
   "metadata": {},
   "outputs": [
    {
     "data": {
      "text/plain": [
       "tensor([[[1., 2., 3.],\n",
       "         [4., 5., 6.]]])"
      ]
     },
     "execution_count": 58,
     "metadata": {},
     "output_type": "execute_result"
    }
   ],
   "source": [
    "a"
   ]
  },
  {
   "cell_type": "code",
   "execution_count": 59,
   "id": "b76ff426",
   "metadata": {},
   "outputs": [],
   "source": [
    "temp = a.view(3,2)"
   ]
  },
  {
   "cell_type": "code",
   "execution_count": 60,
   "id": "ea7f7f7f",
   "metadata": {},
   "outputs": [
    {
     "data": {
      "text/plain": [
       "tensor([[1., 2.],\n",
       "        [3., 4.],\n",
       "        [5., 6.]])"
      ]
     },
     "execution_count": 60,
     "metadata": {},
     "output_type": "execute_result"
    }
   ],
   "source": [
    "temp"
   ]
  },
  {
   "cell_type": "code",
   "execution_count": 62,
   "id": "89b53a17",
   "metadata": {},
   "outputs": [
    {
     "name": "stdout",
     "output_type": "stream",
     "text": [
      "torch.Size([3, 2])\n"
     ]
    }
   ],
   "source": [
    "print(temp.size())"
   ]
  },
  {
   "cell_type": "code",
   "execution_count": 63,
   "id": "b54bdf61",
   "metadata": {},
   "outputs": [
    {
     "name": "stdout",
     "output_type": "stream",
     "text": [
      "tensor([[1., 2., 3., 4., 5., 6.]])\n"
     ]
    }
   ],
   "source": [
    "print(temp.view(1, -1))"
   ]
  },
  {
   "cell_type": "code",
   "execution_count": 64,
   "id": "828aac59",
   "metadata": {},
   "outputs": [
    {
     "name": "stdout",
     "output_type": "stream",
     "text": [
      "tensor([[1.],\n",
      "        [2.],\n",
      "        [3.],\n",
      "        [4.],\n",
      "        [5.],\n",
      "        [6.]])\n"
     ]
    }
   ],
   "source": [
    "print(temp.view(-1, 1))"
   ]
  },
  {
   "cell_type": "code",
   "execution_count": null,
   "id": "0364606f",
   "metadata": {},
   "outputs": [],
   "source": []
  }
 ],
 "metadata": {
  "kernelspec": {
   "display_name": "Python 3 (ipykernel)",
   "language": "python",
   "name": "python3"
  },
  "language_info": {
   "codemirror_mode": {
    "name": "ipython",
    "version": 3
   },
   "file_extension": ".py",
   "mimetype": "text/x-python",
   "name": "python",
   "nbconvert_exporter": "python",
   "pygments_lexer": "ipython3",
   "version": "3.9.7"
  }
 },
 "nbformat": 4,
 "nbformat_minor": 5
}
