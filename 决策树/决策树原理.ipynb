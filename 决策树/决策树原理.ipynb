{
 "cells": [
  {
   "cell_type": "markdown",
   "id": "f599128b",
   "metadata": {},
   "source": [
    "# 计算概率、交叉熵、基尼系数"
   ]
  },
  {
   "cell_type": "code",
   "execution_count": 9,
   "id": "116da7f9",
   "metadata": {},
   "outputs": [],
   "source": [
    "from collections import Counter\n",
    "import numpy as np"
   ]
  },
  {
   "cell_type": "code",
   "execution_count": 10,
   "id": "8e3dd172",
   "metadata": {},
   "outputs": [],
   "source": [
    "def get_probs(elements):\n",
    "    \"\"\"\n",
    "    获取概率\n",
    "    \"\"\"\n",
    "    counter = Counter(elements)\n",
    "    pr = np.array([counter[c] / len(elements) for c in counter])\n",
    "    \n",
    "    return pr"
   ]
  },
  {
   "cell_type": "code",
   "execution_count": 12,
   "id": "7f77fc06",
   "metadata": {},
   "outputs": [],
   "source": [
    "def get_entropy(elements):\n",
    "    \"\"\"\n",
    "    计算交叉熵\n",
    "    \"\"\"\n",
    "    pr = get_probs(elements)\n",
    "    \n",
    "    return -np.sum(pr * np.log2(pr))"
   ]
  },
  {
   "cell_type": "code",
   "execution_count": 13,
   "id": "6ee714f1",
   "metadata": {},
   "outputs": [
    {
     "data": {
      "text/plain": [
       "1.950212064914747"
      ]
     },
     "execution_count": 13,
     "metadata": {},
     "output_type": "execute_result"
    }
   ],
   "source": [
    "# 测试交叉熵\n",
    "get_entropy(['a', 'b', 'c','d', 'a', 'b', 'c'])"
   ]
  },
  {
   "cell_type": "markdown",
   "id": "16c4fedc",
   "metadata": {},
   "source": [
    "## cart"
   ]
  },
  {
   "cell_type": "code",
   "execution_count": 16,
   "id": "980fa919",
   "metadata": {},
   "outputs": [],
   "source": [
    "def gini(elements):\n",
    "    \"\"\"\n",
    "    计算基尼系数\n",
    "    \"\"\"\n",
    "    pr = get_probs(elements)\n",
    "    return 1 - np.sum(pr ** 2)"
   ]
  },
  {
   "cell_type": "code",
   "execution_count": 17,
   "id": "91f36319",
   "metadata": {},
   "outputs": [],
   "source": [
    "def cart_loss(left, right, pure_fn):\n",
    "    \"\"\"\n",
    "    CART树\n",
    "    \"\"\"\n",
    "    m_left, m_right = len(left), len(right)\n",
    "    m = m_left + m_right\n",
    "    \n",
    "    return m_left / m * pure_fn(left) + m_right / m * pure_fn(right)"
   ]
  },
  {
   "cell_type": "code",
   "execution_count": 18,
   "id": "04b98965",
   "metadata": {},
   "outputs": [],
   "source": [
    "sales = {\n",
    "    'gender': ['Female', 'Female', 'Female', 'Female', 'Male', 'Male', 'Male'],\n",
    "    'income': ['H', 'M', 'H', 'M', 'H', 'H', 'L'],\n",
    "    'family-number': [1, 1, 2, 1, 1, 1, 2],\n",
    "    'bought': [1, 1, 1, 0, 0, 0, 1]\n",
    "}"
   ]
  },
  {
   "cell_type": "code",
   "execution_count": 20,
   "id": "19219ef0",
   "metadata": {},
   "outputs": [],
   "source": [
    "import pandas as pd\n",
    "sales_dataset = pd.DataFrame.from_dict(sales)\n",
    "target = 'bought'"
   ]
  },
  {
   "cell_type": "code",
   "execution_count": 39,
   "id": "e6af9dea",
   "metadata": {},
   "outputs": [],
   "source": [
    "def find_best_split(training_dataset, target):\n",
    "    dataset = training_dataset\n",
    "    fields = set(dataset.columns.tolist()) - {target}\n",
    "    print(fields)\n",
    "    \n",
    "    mini_loss = float('inf')\n",
    "    best_feature, best_split = None, None\n",
    "    \n",
    "    for x in fields:\n",
    "        field_value = dataset[x]\n",
    "        for v in field_value:\n",
    "            split_left = dataset[dataset[x] == v][target].tolist()\n",
    "            split_right = dataset[dataset[x] != v][target].tolist()\n",
    "            \n",
    "            loss = cart_loss(split_left, split_right, pure_fn=gini)\n",
    "            # ic(x, v, cart_loss(split_left, split_right, pure_fn=gini))\n",
    "            if loss < mini_loss:\n",
    "                print(f\"best_feature={best_feature}, best_split={best_split}, loss={mini_loss}\")\n",
    "                best_feature, best_split = x, v\n",
    "                mini_loss = loss\n",
    "                \n",
    "    return best_feature, best_split"
   ]
  },
  {
   "cell_type": "code",
   "execution_count": 40,
   "id": "eafda447",
   "metadata": {},
   "outputs": [],
   "source": [
    "from icecream import ic\n",
    "# ic(get_entropy([1, 1]))\n",
    "# ic(gini([1, 1]))\n",
    "# ic(get_entropy([0, 0, 0]))\n",
    "# ic(gini([0, 0, 0]))\n",
    "# ic(get_entropy([0, 0, 1, 1, 1, 1 ,1, 1]))\n",
    "# ic(gini([0, 0, 1, 1, 1, 1 ,1, 1]))\n",
    "# ic(get_entropy([0, 0, 0, 0, 0, 0, 0, 0]))\n",
    "# ic(gini([0, 0, 0, 0, 0, 0, 0, 0]))\n",
    "# ic(get_entropy([1, 2, 3, 4, 56, 7, 8, 1, 19]))\n",
    "# ic(gini([1, 2, 3, 4, 56, 7, 8, 1, 19]))\n",
    "# ic(get_entropy([1, 2, 3, 4, 65, 76, 87, 32, 21]))\n",
    "# ic(gini([1, 2, 3, 4, 65, 76, 87, 32, 21]))"
   ]
  },
  {
   "cell_type": "code",
   "execution_count": 41,
   "id": "457cde8f",
   "metadata": {},
   "outputs": [
    {
     "name": "stderr",
     "output_type": "stream",
     "text": [
      "ic| find_best_split(sales_dataset, target='bought'): ('family-number', 1)\n"
     ]
    },
    {
     "name": "stdout",
     "output_type": "stream",
     "text": [
      "{'income', 'family-number', 'gender'}\n",
      "best_feature=None, best_split=None, loss=inf\n",
      "best_feature=income, best_split=H, loss=0.47619047619047616\n",
      "best_feature=income, best_split=L, loss=0.42857142857142855\n"
     ]
    },
    {
     "data": {
      "text/plain": [
       "('family-number', 1)"
      ]
     },
     "execution_count": 41,
     "metadata": {},
     "output_type": "execute_result"
    }
   ],
   "source": [
    "ic(find_best_split(sales_dataset, target='bought'))"
   ]
  },
  {
   "cell_type": "code",
   "execution_count": null,
   "id": "41b5e706",
   "metadata": {},
   "outputs": [],
   "source": []
  }
 ],
 "metadata": {
  "kernelspec": {
   "display_name": "Python 3 (ipykernel)",
   "language": "python",
   "name": "python3"
  },
  "language_info": {
   "codemirror_mode": {
    "name": "ipython",
    "version": 3
   },
   "file_extension": ".py",
   "mimetype": "text/x-python",
   "name": "python",
   "nbconvert_exporter": "python",
   "pygments_lexer": "ipython3",
   "version": "3.9.7"
  }
 },
 "nbformat": 4,
 "nbformat_minor": 5
}
